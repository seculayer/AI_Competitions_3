{
 "cells": [
  {
   "cell_type": "code",
   "execution_count": 1,
   "id": "skilled-abuse",
   "metadata": {
    "execution": {
     "iopub.execute_input": "2022-07-22T05:54:00.151426Z",
     "iopub.status.busy": "2022-07-22T05:54:00.149701Z",
     "iopub.status.idle": "2022-07-22T05:54:00.161530Z",
     "shell.execute_reply": "2022-07-22T05:54:00.162051Z",
     "shell.execute_reply.started": "2021-06-04T08:15:10.692483Z"
    },
    "papermill": {
     "duration": 0.035141,
     "end_time": "2022-07-22T05:54:00.162355",
     "exception": false,
     "start_time": "2022-07-22T05:54:00.127214",
     "status": "completed"
    },
    "tags": []
   },
   "outputs": [],
   "source": [
    "import pandas as pd\n",
    "import numpy as np\n",
    "import matplotlib.pyplot as plt\n",
    "\n",
    "import re\n",
    "\n",
    "from tqdm.notebook import tqdm\n",
    "\n",
    "# initialize pandas apply progress bar\n",
    "tqdm.pandas()"
   ]
  },
  {
   "cell_type": "code",
   "execution_count": 2,
   "id": "compressed-timothy",
   "metadata": {
    "execution": {
     "iopub.execute_input": "2022-07-22T05:54:00.199715Z",
     "iopub.status.busy": "2022-07-22T05:54:00.198732Z",
     "iopub.status.idle": "2022-07-22T05:54:00.203019Z",
     "shell.execute_reply": "2022-07-22T05:54:00.203573Z",
     "shell.execute_reply.started": "2021-06-04T08:15:10.700659Z"
    },
    "papermill": {
     "duration": 0.024583,
     "end_time": "2022-07-22T05:54:00.203750",
     "exception": false,
     "start_time": "2022-07-22T05:54:00.179167",
     "status": "completed"
    },
    "tags": []
   },
   "outputs": [],
   "source": [
    "# names of the submission files, which indicate the LB score\n",
    "NAMES = ['212_v2', '212', '218', '219', '221']"
   ]
  },
  {
   "cell_type": "markdown",
   "id": "brief-stone",
   "metadata": {
    "papermill": {
     "duration": 0.016059,
     "end_time": "2022-07-22T05:54:00.236825",
     "exception": false,
     "start_time": "2022-07-22T05:54:00.220766",
     "status": "completed"
    },
    "tags": []
   },
   "source": [
    "# Read Submissions"
   ]
  },
  {
   "cell_type": "code",
   "execution_count": 3,
   "id": "widespread-journal",
   "metadata": {
    "execution": {
     "iopub.execute_input": "2022-07-22T05:54:00.273335Z",
     "iopub.status.busy": "2022-07-22T05:54:00.272340Z",
     "iopub.status.idle": "2022-07-22T05:55:01.484119Z",
     "shell.execute_reply": "2022-07-22T05:55:01.484934Z",
     "shell.execute_reply.started": "2021-06-04T08:15:10.714664Z"
    },
    "papermill": {
     "duration": 61.232259,
     "end_time": "2022-07-22T05:55:01.485443",
     "exception": false,
     "start_time": "2022-07-22T05:54:00.253184",
     "status": "completed"
    },
    "tags": []
   },
   "outputs": [
    {
     "name": "stdout",
     "output_type": "stream",
     "text": [
      "Reading 212 v2...\n",
      "Reading 212...\n",
      "Reading 218...\n",
      "Reading 219...\n",
      "Reading 221...\n",
      "Done Reading\n"
     ]
    }
   ],
   "source": [
    "# debugging variable to select a subset of each submission\n",
    "n = int(10e10)\n",
    "\n",
    "print('Reading 212 v2...')\n",
    "submission_212_v2 = pd.read_csv('../input/bms-submissions/submission_2.12_v2.csv').head(n)\n",
    "submission_212_v2.rename({ 'InChI': 'InChI212_v2' }, axis=1, inplace=True)\n",
    "submission_212_v2N = pd.read_csv('../input/bms-submissions/submission_norm_2.12_v2.csv').head(n)\n",
    "submission_212_v2N.rename({ 'InChI': 'InChI212_v2N' }, axis=1, inplace=True)\n",
    "\n",
    "print('Reading 212...')\n",
    "submission_212 = pd.read_csv('../input/bms-submissions/submission_2.12.csv').head(n)\n",
    "submission_212.rename({ 'InChI': 'InChI212' }, axis=1, inplace=True)\n",
    "submission_212N = pd.read_csv('../input/bms-submissions/submission_norm_2.12.csv').head(n)\n",
    "submission_212N.rename({ 'InChI': 'InChI212N' }, axis=1, inplace=True)\n",
    "\n",
    "print('Reading 218...')\n",
    "submission_218 = pd.read_csv('../input/bms-submissions/submission_2.18.csv').head(n)\n",
    "submission_218.rename({ 'InChI': 'InChI218' }, axis=1, inplace=True)\n",
    "submission_218N = pd.read_csv('../input/bms-submissions/submission_norm_2.18.csv').head(n)\n",
    "submission_218N.rename({ 'InChI': 'InChI218N' }, axis=1, inplace=True)\n",
    "\n",
    "print('Reading 219...')\n",
    "submission_219 = pd.read_csv('../input/bms-submissions/submission_2.19.csv').head(n)\n",
    "submission_219.rename({ 'InChI': 'InChI219' }, axis=1, inplace=True)\n",
    "submission_219N = pd.read_csv('../input/bms-submissions/submission_norm_2.19.csv').head(n)\n",
    "submission_219N.rename({ 'InChI': 'InChI219N' }, axis=1, inplace=True)\n",
    "\n",
    "print('Reading 221...')\n",
    "submission_221 = pd.read_csv('../input/bms-submissions/submission_2.21.csv').head(n)\n",
    "submission_221.rename({ 'InChI': 'InChI221' }, axis=1, inplace=True)\n",
    "submission_221N = pd.read_csv('../input/bms-submissions/submission_norm_2.21.csv').head(n)\n",
    "submission_221N.rename({ 'InChI': 'InChI221N' }, axis=1, inplace=True)\n",
    "\n",
    "print('Done Reading')"
   ]
  },
  {
   "cell_type": "markdown",
   "id": "furnished-situation",
   "metadata": {
    "papermill": {
     "duration": 0.017572,
     "end_time": "2022-07-22T05:55:01.522927",
     "exception": false,
     "start_time": "2022-07-22T05:55:01.505355",
     "status": "completed"
    },
    "tags": []
   },
   "source": [
    "# Merge Submission"
   ]
  },
  {
   "cell_type": "code",
   "execution_count": 4,
   "id": "foreign-electricity",
   "metadata": {
    "execution": {
     "iopub.execute_input": "2022-07-22T05:55:01.572968Z",
     "iopub.status.busy": "2022-07-22T05:55:01.571939Z",
     "iopub.status.idle": "2022-07-22T05:55:31.038659Z",
     "shell.execute_reply": "2022-07-22T05:55:31.037819Z",
     "shell.execute_reply.started": "2021-06-04T08:16:20.995356Z"
    },
    "papermill": {
     "duration": 29.498424,
     "end_time": "2022-07-22T05:55:31.038974",
     "exception": false,
     "start_time": "2022-07-22T05:55:01.540550",
     "status": "completed"
    },
    "tags": []
   },
   "outputs": [],
   "source": [
    "submission = pd.DataFrame({ 'image_id': submission_218['image_id'] })\n",
    "\n",
    "# Adding 212_v2\n",
    "submission = submission.merge(submission_212_v2, on='image_id')\n",
    "submission = submission.merge(submission_212_v2N, on='image_id')\n",
    "\n",
    "# Adding 212\n",
    "submission = submission.merge(submission_212, on='image_id')\n",
    "submission = submission.merge(submission_212N, on='image_id')\n",
    "\n",
    "# Adding 218\n",
    "submission = submission.merge(submission_218, on='image_id')\n",
    "submission = submission.merge(submission_218N, on='image_id')\n",
    "\n",
    "# Adding 219\n",
    "submission = submission.merge(submission_219, on='image_id')\n",
    "submission = submission.merge(submission_219N, on='image_id')\n",
    "\n",
    "# Adding 221\n",
    "submission = submission.merge(submission_221, on='image_id')\n",
    "submission = submission.merge(submission_221N, on='image_id')"
   ]
  },
  {
   "cell_type": "code",
   "execution_count": 5,
   "id": "increased-width",
   "metadata": {
    "execution": {
     "iopub.execute_input": "2022-07-22T05:55:31.086858Z",
     "iopub.status.busy": "2022-07-22T05:55:31.085794Z",
     "iopub.status.idle": "2022-07-22T05:55:31.112493Z",
     "shell.execute_reply": "2022-07-22T05:55:31.112993Z",
     "shell.execute_reply.started": "2021-06-04T08:16:47.625342Z"
    },
    "papermill": {
     "duration": 0.054435,
     "end_time": "2022-07-22T05:55:31.113188",
     "exception": false,
     "start_time": "2022-07-22T05:55:31.058753",
     "status": "completed"
    },
    "tags": []
   },
   "outputs": [
    {
     "data": {
      "text/html": [
       "<div>\n",
       "<style scoped>\n",
       "    .dataframe tbody tr th:only-of-type {\n",
       "        vertical-align: middle;\n",
       "    }\n",
       "\n",
       "    .dataframe tbody tr th {\n",
       "        vertical-align: top;\n",
       "    }\n",
       "\n",
       "    .dataframe thead th {\n",
       "        text-align: right;\n",
       "    }\n",
       "</style>\n",
       "<table border=\"1\" class=\"dataframe\">\n",
       "  <thead>\n",
       "    <tr style=\"text-align: right;\">\n",
       "      <th></th>\n",
       "      <th>image_id</th>\n",
       "      <th>InChI212_v2</th>\n",
       "      <th>InChI212_v2N</th>\n",
       "      <th>InChI212</th>\n",
       "      <th>InChI212N</th>\n",
       "      <th>InChI218</th>\n",
       "      <th>InChI218N</th>\n",
       "      <th>InChI219</th>\n",
       "      <th>InChI219N</th>\n",
       "      <th>InChI221</th>\n",
       "      <th>InChI221N</th>\n",
       "    </tr>\n",
       "  </thead>\n",
       "  <tbody>\n",
       "    <tr>\n",
       "      <th>0</th>\n",
       "      <td>2f6fc849ad8d</td>\n",
       "      <td>InChI=1S/C25H24N4O2S/c1-16-11-12-19(14-17(16)2...</td>\n",
       "      <td>InChI=1S/C25H24N4O2S/c1-16-11-12-19(14-17(16)2...</td>\n",
       "      <td>InChI=1S/C25H24N4O2S/c1-16-11-12-19(14-17(16)2...</td>\n",
       "      <td>InChI=1S/C25H24N4O2S/c1-16-11-12-19(14-17(16)2...</td>\n",
       "      <td>InChI=1S/C25H24N4O2S/c1-16-11-12-19(14-17(16)2...</td>\n",
       "      <td>InChI=1S/C25H24N4O2S/c1-16-11-12-19(14-17(16)2...</td>\n",
       "      <td>InChI=1S/C25H24N4O2S/c1-16-11-12-19(14-17(16)2...</td>\n",
       "      <td>InChI=1S/C25H24N4O2S/c1-16-11-12-19(14-17(16)2...</td>\n",
       "      <td>InChI=1S/C25H24N4O2S/c1-16-11-12-19(14-17(16)2...</td>\n",
       "      <td>InChI=1S/C25H24N4O2S/c1-16-11-12-19(14-17(16)2...</td>\n",
       "    </tr>\n",
       "    <tr>\n",
       "      <th>1</th>\n",
       "      <td>d9d1b70db6f2</td>\n",
       "      <td>InChI=1S/C14H20ClN3O2/c1-2-20-14(19)18-7-5-17(...</td>\n",
       "      <td>InChI=1S/C14H20ClN3O2/c1-2-20-14(19)18-7-5-17(...</td>\n",
       "      <td>InChI=1S/C14H20ClN3O2/c1-2-20-14(19)18-7-5-17(...</td>\n",
       "      <td>InChI=1S/C14H20ClN3O2/c1-2-20-14(19)18-7-5-17(...</td>\n",
       "      <td>InChI=1S/C14H20ClN3O2/c1-2-20-14(19)18-7-5-17(...</td>\n",
       "      <td>InChI=1S/C14H20ClN3O2/c1-2-20-14(19)18-7-5-17(...</td>\n",
       "      <td>InChI=1S/C14H20ClN3O2/c1-2-20-14(19)18-7-5-17(...</td>\n",
       "      <td>InChI=1S/C14H20ClN3O2/c1-2-20-14(19)18-7-5-17(...</td>\n",
       "      <td>InChI=1S/C14H20ClN3O2/c1-2-20-14(19)18-7-5-17(...</td>\n",
       "      <td>InChI=1S/C14H20ClN3O2/c1-2-20-14(19)18-7-5-17(...</td>\n",
       "    </tr>\n",
       "    <tr>\n",
       "      <th>2</th>\n",
       "      <td>2f6fdbe7d8db</td>\n",
       "      <td>InChI=1S/C32H31F6N3O4/c33-31(34,35)23-15-21(16...</td>\n",
       "      <td>InChI=1S/C32H31F6N3O4/c33-31(34,35)23-15-21(16...</td>\n",
       "      <td>InChI=1S/C32H31F6N3O4/c33-31(34,35)23-15-21(16...</td>\n",
       "      <td>InChI=1S/C32H31F6N3O4/c33-31(34,35)23-15-21(16...</td>\n",
       "      <td>InChI=1S/C32H31F6N3O4/c33-31(34,35)23-15-21(16...</td>\n",
       "      <td>InChI=1S/C32H31F6N3O4/c33-31(34,35)23-15-21(16...</td>\n",
       "      <td>InChI=1S/C32H31F6N3O4/c33-31(34,35)23-15-21(16...</td>\n",
       "      <td>InChI=1S/C32H31F6N3O4/c33-31(34,35)23-15-21(16...</td>\n",
       "      <td>InChI=1S/C32H31F6N3O4/c33-31(34,35)23-15-21(16...</td>\n",
       "      <td>InChI=1S/C32H31F6N3O4/c33-31(34,35)23-15-21(16...</td>\n",
       "    </tr>\n",
       "    <tr>\n",
       "      <th>3</th>\n",
       "      <td>d9d1c10fe3db</td>\n",
       "      <td>InChI=1S/C14H24N2O2S/c1-4-5-6-12(3)16-19(17,18...</td>\n",
       "      <td>InChI=1S/C14H24N2O2S/c1-4-5-6-12(3)16-19(17,18...</td>\n",
       "      <td>InChI=1S/C14H24N2O2S/c1-4-5-6-12(3)16-19(17,18...</td>\n",
       "      <td>InChI=1S/C14H24N2O2S/c1-4-5-6-12(3)16-19(17,18...</td>\n",
       "      <td>InChI=1S/C14H24N2O2S/c1-4-5-6-12(3)16-19(17,18...</td>\n",
       "      <td>InChI=1S/C14H24N2O2S/c1-4-5-6-12(3)16-19(17,18...</td>\n",
       "      <td>InChI=1S/C14H24N2O2S/c1-4-5-6-12(3)16-19(17,18...</td>\n",
       "      <td>InChI=1S/C14H24N2O2S/c1-4-5-6-12(3)16-19(17,18...</td>\n",
       "      <td>InChI=1S/C14H24N2O2S/c1-4-5-6-12(3)16-19(17,18...</td>\n",
       "      <td>InChI=1S/C14H24N2O2S/c1-4-5-6-12(3)16-19(17,18...</td>\n",
       "    </tr>\n",
       "    <tr>\n",
       "      <th>4</th>\n",
       "      <td>2f6fe5875533</td>\n",
       "      <td>InChI=1S/C12H22N4O/c1-5-9(6-2)16-11-10(13)12(1...</td>\n",
       "      <td>InChI=1S/C12H22N4O/c1-5-9(6-2)16-11-10(13)12(1...</td>\n",
       "      <td>InChI=1S/C12H22N4O/c1-5-9(6-2)16-11-10(13)12(1...</td>\n",
       "      <td>InChI=1S/C12H22N4O/c1-5-9(6-2)16-11-10(13)12(1...</td>\n",
       "      <td>InChI=1S/C12H22N4O/c1-5-9(6-2)16-11-10(13)12(1...</td>\n",
       "      <td>InChI=1S/C12H22N4O/c1-5-9(6-2)16-11-10(13)12(1...</td>\n",
       "      <td>InChI=1S/C12H22N4O/c1-5-9(6-2)16-11-10(13)12(1...</td>\n",
       "      <td>InChI=1S/C12H22N4O/c1-5-9(6-2)16-11-10(13)12(1...</td>\n",
       "      <td>InChI=1S/C12H22N4O/c1-5-9(6-2)16-11-10(13)12(1...</td>\n",
       "      <td>InChI=1S/C12H22N4O/c1-5-9(6-2)16-11-10(13)12(1...</td>\n",
       "    </tr>\n",
       "  </tbody>\n",
       "</table>\n",
       "</div>"
      ],
      "text/plain": [
       "       image_id                                        InChI212_v2  \\\n",
       "0  2f6fc849ad8d  InChI=1S/C25H24N4O2S/c1-16-11-12-19(14-17(16)2...   \n",
       "1  d9d1b70db6f2  InChI=1S/C14H20ClN3O2/c1-2-20-14(19)18-7-5-17(...   \n",
       "2  2f6fdbe7d8db  InChI=1S/C32H31F6N3O4/c33-31(34,35)23-15-21(16...   \n",
       "3  d9d1c10fe3db  InChI=1S/C14H24N2O2S/c1-4-5-6-12(3)16-19(17,18...   \n",
       "4  2f6fe5875533  InChI=1S/C12H22N4O/c1-5-9(6-2)16-11-10(13)12(1...   \n",
       "\n",
       "                                        InChI212_v2N  \\\n",
       "0  InChI=1S/C25H24N4O2S/c1-16-11-12-19(14-17(16)2...   \n",
       "1  InChI=1S/C14H20ClN3O2/c1-2-20-14(19)18-7-5-17(...   \n",
       "2  InChI=1S/C32H31F6N3O4/c33-31(34,35)23-15-21(16...   \n",
       "3  InChI=1S/C14H24N2O2S/c1-4-5-6-12(3)16-19(17,18...   \n",
       "4  InChI=1S/C12H22N4O/c1-5-9(6-2)16-11-10(13)12(1...   \n",
       "\n",
       "                                            InChI212  \\\n",
       "0  InChI=1S/C25H24N4O2S/c1-16-11-12-19(14-17(16)2...   \n",
       "1  InChI=1S/C14H20ClN3O2/c1-2-20-14(19)18-7-5-17(...   \n",
       "2  InChI=1S/C32H31F6N3O4/c33-31(34,35)23-15-21(16...   \n",
       "3  InChI=1S/C14H24N2O2S/c1-4-5-6-12(3)16-19(17,18...   \n",
       "4  InChI=1S/C12H22N4O/c1-5-9(6-2)16-11-10(13)12(1...   \n",
       "\n",
       "                                           InChI212N  \\\n",
       "0  InChI=1S/C25H24N4O2S/c1-16-11-12-19(14-17(16)2...   \n",
       "1  InChI=1S/C14H20ClN3O2/c1-2-20-14(19)18-7-5-17(...   \n",
       "2  InChI=1S/C32H31F6N3O4/c33-31(34,35)23-15-21(16...   \n",
       "3  InChI=1S/C14H24N2O2S/c1-4-5-6-12(3)16-19(17,18...   \n",
       "4  InChI=1S/C12H22N4O/c1-5-9(6-2)16-11-10(13)12(1...   \n",
       "\n",
       "                                            InChI218  \\\n",
       "0  InChI=1S/C25H24N4O2S/c1-16-11-12-19(14-17(16)2...   \n",
       "1  InChI=1S/C14H20ClN3O2/c1-2-20-14(19)18-7-5-17(...   \n",
       "2  InChI=1S/C32H31F6N3O4/c33-31(34,35)23-15-21(16...   \n",
       "3  InChI=1S/C14H24N2O2S/c1-4-5-6-12(3)16-19(17,18...   \n",
       "4  InChI=1S/C12H22N4O/c1-5-9(6-2)16-11-10(13)12(1...   \n",
       "\n",
       "                                           InChI218N  \\\n",
       "0  InChI=1S/C25H24N4O2S/c1-16-11-12-19(14-17(16)2...   \n",
       "1  InChI=1S/C14H20ClN3O2/c1-2-20-14(19)18-7-5-17(...   \n",
       "2  InChI=1S/C32H31F6N3O4/c33-31(34,35)23-15-21(16...   \n",
       "3  InChI=1S/C14H24N2O2S/c1-4-5-6-12(3)16-19(17,18...   \n",
       "4  InChI=1S/C12H22N4O/c1-5-9(6-2)16-11-10(13)12(1...   \n",
       "\n",
       "                                            InChI219  \\\n",
       "0  InChI=1S/C25H24N4O2S/c1-16-11-12-19(14-17(16)2...   \n",
       "1  InChI=1S/C14H20ClN3O2/c1-2-20-14(19)18-7-5-17(...   \n",
       "2  InChI=1S/C32H31F6N3O4/c33-31(34,35)23-15-21(16...   \n",
       "3  InChI=1S/C14H24N2O2S/c1-4-5-6-12(3)16-19(17,18...   \n",
       "4  InChI=1S/C12H22N4O/c1-5-9(6-2)16-11-10(13)12(1...   \n",
       "\n",
       "                                           InChI219N  \\\n",
       "0  InChI=1S/C25H24N4O2S/c1-16-11-12-19(14-17(16)2...   \n",
       "1  InChI=1S/C14H20ClN3O2/c1-2-20-14(19)18-7-5-17(...   \n",
       "2  InChI=1S/C32H31F6N3O4/c33-31(34,35)23-15-21(16...   \n",
       "3  InChI=1S/C14H24N2O2S/c1-4-5-6-12(3)16-19(17,18...   \n",
       "4  InChI=1S/C12H22N4O/c1-5-9(6-2)16-11-10(13)12(1...   \n",
       "\n",
       "                                            InChI221  \\\n",
       "0  InChI=1S/C25H24N4O2S/c1-16-11-12-19(14-17(16)2...   \n",
       "1  InChI=1S/C14H20ClN3O2/c1-2-20-14(19)18-7-5-17(...   \n",
       "2  InChI=1S/C32H31F6N3O4/c33-31(34,35)23-15-21(16...   \n",
       "3  InChI=1S/C14H24N2O2S/c1-4-5-6-12(3)16-19(17,18...   \n",
       "4  InChI=1S/C12H22N4O/c1-5-9(6-2)16-11-10(13)12(1...   \n",
       "\n",
       "                                           InChI221N  \n",
       "0  InChI=1S/C25H24N4O2S/c1-16-11-12-19(14-17(16)2...  \n",
       "1  InChI=1S/C14H20ClN3O2/c1-2-20-14(19)18-7-5-17(...  \n",
       "2  InChI=1S/C32H31F6N3O4/c33-31(34,35)23-15-21(16...  \n",
       "3  InChI=1S/C14H24N2O2S/c1-4-5-6-12(3)16-19(17,18...  \n",
       "4  InChI=1S/C12H22N4O/c1-5-9(6-2)16-11-10(13)12(1...  "
      ]
     },
     "metadata": {},
     "output_type": "display_data"
    }
   ],
   "source": [
    "# For each submission file the original and normalized InChI are shown\n",
    "display(submission.head())"
   ]
  },
  {
   "cell_type": "code",
   "execution_count": 6,
   "id": "remarkable-allen",
   "metadata": {
    "execution": {
     "iopub.execute_input": "2022-07-22T05:55:31.219170Z",
     "iopub.status.busy": "2022-07-22T05:55:31.218139Z",
     "iopub.status.idle": "2022-07-22T05:55:32.031737Z",
     "shell.execute_reply": "2022-07-22T05:55:32.031252Z",
     "shell.execute_reply.started": "2021-06-04T08:16:47.657496Z"
    },
    "papermill": {
     "duration": 0.899715,
     "end_time": "2022-07-22T05:55:32.031895",
     "exception": false,
     "start_time": "2022-07-22T05:55:31.132180",
     "status": "completed"
    },
    "tags": []
   },
   "outputs": [
    {
     "name": "stdout",
     "output_type": "stream",
     "text": [
      "<class 'pandas.core.frame.DataFrame'>\n",
      "Int64Index: 1616107 entries, 0 to 1616106\n",
      "Data columns (total 11 columns):\n",
      " #   Column        Non-Null Count    Dtype \n",
      "---  ------        --------------    ----- \n",
      " 0   image_id      1616107 non-null  object\n",
      " 1   InChI212_v2   1616107 non-null  object\n",
      " 2   InChI212_v2N  1616107 non-null  object\n",
      " 3   InChI212      1616107 non-null  object\n",
      " 4   InChI212N     1616107 non-null  object\n",
      " 5   InChI218      1616107 non-null  object\n",
      " 6   InChI218N     1616107 non-null  object\n",
      " 7   InChI219      1616107 non-null  object\n",
      " 8   InChI219N     1616107 non-null  object\n",
      " 9   InChI221      1616107 non-null  object\n",
      " 10  InChI221N     1616107 non-null  object\n",
      "dtypes: object(11)\n",
      "memory usage: 148.0+ MB\n"
     ]
    },
    {
     "data": {
      "text/plain": [
       "None"
      ]
     },
     "metadata": {},
     "output_type": "display_data"
    }
   ],
   "source": [
    "# Check if we indeed have 1616107 rows\n",
    "display(submission.info())"
   ]
  },
  {
   "cell_type": "markdown",
   "id": "pursuant-posting",
   "metadata": {
    "papermill": {
     "duration": 0.01896,
     "end_time": "2022-07-22T05:55:32.071454",
     "exception": false,
     "start_time": "2022-07-22T05:55:32.052494",
     "status": "completed"
    },
    "tags": []
   },
   "source": [
    "This next column decleration is important and will be used later on. The boolean indicates whether all normalized InChI's are equal in each submission, thus if all predictions are normalized to the same InChI."
   ]
  },
  {
   "cell_type": "code",
   "execution_count": 7,
   "id": "criminal-mailman",
   "metadata": {
    "execution": {
     "iopub.execute_input": "2022-07-22T05:55:32.113968Z",
     "iopub.status.busy": "2022-07-22T05:55:32.113362Z",
     "iopub.status.idle": "2022-07-22T05:55:32.738635Z",
     "shell.execute_reply": "2022-07-22T05:55:32.738028Z",
     "shell.execute_reply.started": "2021-06-04T08:23:35.106816Z"
    },
    "papermill": {
     "duration": 0.648197,
     "end_time": "2022-07-22T05:55:32.738800",
     "exception": false,
     "start_time": "2022-07-22T05:55:32.090603",
     "status": "completed"
    },
    "tags": []
   },
   "outputs": [],
   "source": [
    "submission['equal'] = (\n",
    "    (submission['InChI212_v2N'] == submission['InChI212N']) &\n",
    "    (submission['InChI212_v2N'] == submission['InChI218N']) &\n",
    "    (submission['InChI212_v2N'] == submission['InChI219N']) &\n",
    "    (submission['InChI212_v2N'] == submission['InChI221N'])\n",
    ")"
   ]
  },
  {
   "cell_type": "code",
   "execution_count": 8,
   "id": "third-viking",
   "metadata": {
    "execution": {
     "iopub.execute_input": "2022-07-22T05:55:32.784785Z",
     "iopub.status.busy": "2022-07-22T05:55:32.783825Z",
     "iopub.status.idle": "2022-07-22T05:55:32.791992Z",
     "shell.execute_reply": "2022-07-22T05:55:32.791365Z",
     "shell.execute_reply.started": "2021-06-04T08:16:50.772247Z"
    },
    "papermill": {
     "duration": 0.033712,
     "end_time": "2022-07-22T05:55:32.792177",
     "exception": false,
     "start_time": "2022-07-22T05:55:32.758465",
     "status": "completed"
    },
    "tags": []
   },
   "outputs": [
    {
     "name": "stdout",
     "output_type": "stream",
     "text": [
      "percentage_equal: 93.590%\n"
     ]
    }
   ],
   "source": [
    "# Percentage where all submission are equal\n",
    "percentage_equal = submission['equal'].sum() / len(submission) * 100\n",
    "print(f'percentage_equal: {percentage_equal:.3f}%')"
   ]
  },
  {
   "cell_type": "markdown",
   "id": "least-southwest",
   "metadata": {
    "papermill": {
     "duration": 0.019324,
     "end_time": "2022-07-22T05:55:32.831683",
     "exception": false,
     "start_time": "2022-07-22T05:55:32.812359",
     "status": "completed"
    },
    "tags": []
   },
   "source": [
    "These next percentages indicate how many InChI's were not valid and could therefore not be normalized. When normalizing the InChI's a non-valid InChI's would normally default to the predicted InChI. However for this method to work, non-valid InChI's need to be normalized to \"error\"."
   ]
  },
  {
   "cell_type": "code",
   "execution_count": 9,
   "id": "threatened-serum",
   "metadata": {
    "execution": {
     "iopub.execute_input": "2022-07-22T05:55:32.980580Z",
     "iopub.status.busy": "2022-07-22T05:55:32.979605Z",
     "iopub.status.idle": "2022-07-22T05:55:35.379702Z",
     "shell.execute_reply": "2022-07-22T05:55:35.380406Z",
     "shell.execute_reply.started": "2021-06-04T08:16:50.781543Z"
    },
    "papermill": {
     "duration": 2.529046,
     "end_time": "2022-07-22T05:55:35.380602",
     "exception": false,
     "start_time": "2022-07-22T05:55:32.851556",
     "status": "completed"
    },
    "tags": []
   },
   "outputs": [
    {
     "name": "stdout",
     "output_type": "stream",
     "text": [
      "212_v2 error rate: 6.639%\n",
      "212    error rate: 6.660%\n",
      "218    error rate: 6.899%\n",
      "219    error rate: 6.940%\n",
      "221    error rate: 6.996%\n"
     ]
    }
   ],
   "source": [
    "# Error rate in each submission\n",
    "for n in NAMES:\n",
    "    error_rate = len(submission.loc[submission[f'InChI{n}N'] == 'error']) / len(submission) * 100\n",
    "    print(f'{n.ljust(6)} error rate: {error_rate:.3f}%')"
   ]
  },
  {
   "cell_type": "markdown",
   "id": "superb-trinity",
   "metadata": {
    "papermill": {
     "duration": 0.019963,
     "end_time": "2022-07-22T05:55:35.422104",
     "exception": false,
     "start_time": "2022-07-22T05:55:35.402141",
     "status": "completed"
    },
    "tags": []
   },
   "source": [
    "This next percentage shows where not all predicted InChI's could not be normalized, but at least one could. This is an indication of the expected improvement. Intuively, a normalizable InChI has a higher chance of being the correct prediction, as a non-normalizable InChI is by definition a non-existing molecule and therefore incorrect. A normalizable InChI could be the correct InChI."
   ]
  },
  {
   "cell_type": "code",
   "execution_count": 10,
   "id": "middle-geology",
   "metadata": {
    "execution": {
     "iopub.execute_input": "2022-07-22T05:55:35.573300Z",
     "iopub.status.busy": "2022-07-22T05:55:35.572080Z",
     "iopub.status.idle": "2022-07-22T05:55:36.188669Z",
     "shell.execute_reply": "2022-07-22T05:55:36.189191Z",
     "shell.execute_reply.started": "2021-06-04T08:16:53.459076Z"
    },
    "papermill": {
     "duration": 0.746933,
     "end_time": "2022-07-22T05:55:36.189374",
     "exception": false,
     "start_time": "2022-07-22T05:55:35.442441",
     "status": "completed"
    },
    "tags": []
   },
   "outputs": [
    {
     "name": "stdout",
     "output_type": "stream",
     "text": [
      "Non overlapping error ratio: 2.249%\n"
     ]
    }
   ],
   "source": [
    "# Submission where some, but not all, have an error\n",
    "error_sums = (\n",
    "    (submission['InChI212_v2N'] == 'error').astype(int) +\n",
    "    (submission['InChI212N'] == 'error').astype(int) +\n",
    "    (submission['InChI218N'] == 'error').astype(int) +\n",
    "    (submission['InChI219N'] == 'error').astype(int) +\n",
    "    (submission['InChI221N'] == 'error').astype(int)\n",
    ")\n",
    "non_overlapping_error_ratio = sum((error_sums < len(NAMES)) & (error_sums > 0)) / len(submission) * 100\n",
    "print(f'Non overlapping error ratio: {non_overlapping_error_ratio:.3f}%')"
   ]
  },
  {
   "cell_type": "markdown",
   "id": "global-explorer",
   "metadata": {
    "papermill": {
     "duration": 0.02173,
     "end_time": "2022-07-22T05:55:36.232271",
     "exception": false,
     "start_time": "2022-07-22T05:55:36.210541",
     "status": "completed"
    },
    "tags": []
   },
   "source": [
    "# Submission Selection Process"
   ]
  },
  {
   "cell_type": "code",
   "execution_count": 11,
   "id": "seeing-experiment",
   "metadata": {
    "execution": {
     "iopub.execute_input": "2022-07-22T05:55:36.282252Z",
     "iopub.status.busy": "2022-07-22T05:55:36.281481Z",
     "iopub.status.idle": "2022-07-22T05:58:12.593457Z",
     "shell.execute_reply": "2022-07-22T05:58:12.593888Z",
     "shell.execute_reply.started": "2021-06-04T08:16:54.780282Z"
    },
    "papermill": {
     "duration": 156.341699,
     "end_time": "2022-07-22T05:58:12.594107",
     "exception": false,
     "start_time": "2022-07-22T05:55:36.252408",
     "status": "completed"
    },
    "tags": []
   },
   "outputs": [
    {
     "data": {
      "application/vnd.jupyter.widget-view+json": {
       "model_id": "843681aa6f4f499091aa118c5c428a05",
       "version_major": 2,
       "version_minor": 0
      },
      "text/plain": [
       "  0%|          | 0/1616107 [00:00<?, ?it/s]"
      ]
     },
     "metadata": {},
     "output_type": "display_data"
    }
   ],
   "source": [
    "submission_final_dict = dict()\n",
    "# Selection Statistics\n",
    "selection_stats = dict({\n",
    "    '12_v2': 0,\n",
    "    '12': 0,\n",
    "    '18': 0,\n",
    "    '19': 0,\n",
    "    '21': 0,\n",
    "    'e': 0,\n",
    "})\n",
    "\n",
    "for idx, row in tqdm(submission.iterrows(), total=len(submission)):\n",
    "    # All Equal and not error, use submission\n",
    "    if row['equal'] and row['InChI212_v2N'] != 'error':\n",
    "        submission_final_dict[row['image_id']] = row['InChI212_v2N']\n",
    "    # else, choose best submission without error\n",
    "    else:\n",
    "        # Choose best normalized submission without error\n",
    "        if row['InChI212_v2N'] != 'error':\n",
    "            selection_stats['12_v2'] += 1\n",
    "            submission_final_dict[row['image_id']] = row['InChI212_v2N']\n",
    "        elif row['InChI212N'] != 'error':\n",
    "            selection_stats['12'] += 1\n",
    "            submission_final_dict[row['image_id']] = row['InChI212N']\n",
    "        elif row['InChI218N'] != 'error':\n",
    "            selection_stats['18'] += 1\n",
    "            submission_final_dict[row['image_id']] = row['InChI218N']\n",
    "        elif row['InChI219N'] != 'error':\n",
    "            selection_stats['19'] += 1\n",
    "            submission_final_dict[row['image_id']] = row['InChI219N']\n",
    "        elif row['InChI221N'] != 'error':\n",
    "            selection_stats['21'] += 1\n",
    "            submission_final_dict[row['image_id']] = row['InChI221N']\n",
    "        # if none could be normalized use best submission\n",
    "        else:\n",
    "            selection_stats['e'] += 1\n",
    "            submission_final_dict[row['image_id']] = row['InChI212_v2']"
   ]
  },
  {
   "cell_type": "markdown",
   "id": "loaded-dress",
   "metadata": {
    "papermill": {
     "duration": 0.020288,
     "end_time": "2022-07-22T05:58:12.634911",
     "exception": false,
     "start_time": "2022-07-22T05:58:12.614623",
     "status": "completed"
    },
    "tags": []
   },
   "source": [
    "This pie chart shown the selection statistics. As expected, the selection process prefers high scoring submission. This can be explained by the order of the selection. Around half of the selections default to the best scoring prediction, as no prediction could be normalized. This indicates there is room for improvement, as these predictions are incorrect."
   ]
  },
  {
   "cell_type": "code",
   "execution_count": 12,
   "id": "accredited-absorption",
   "metadata": {
    "execution": {
     "iopub.execute_input": "2022-07-22T05:58:12.686707Z",
     "iopub.status.busy": "2022-07-22T05:58:12.686061Z",
     "iopub.status.idle": "2022-07-22T05:58:12.905451Z",
     "shell.execute_reply": "2022-07-22T05:58:12.905885Z",
     "shell.execute_reply.started": "2021-06-04T08:20:29.725657Z"
    },
    "papermill": {
     "duration": 0.25005,
     "end_time": "2022-07-22T05:58:12.906089",
     "exception": false,
     "start_time": "2022-07-22T05:58:12.656039",
     "status": "completed"
    },
    "tags": []
   },
   "outputs": [
    {
     "data": {
      "image/png": "[encoded data removed]",
      "text/plain": [
       "<Figure size 720x720 with 1 Axes>"
      ]
     },
     "metadata": {},
     "output_type": "display_data"
    }
   ],
   "source": [
    "# Show Selection Statistics\n",
    "plt.figure(figsize=(10,10))\n",
    "pd.Series(selection_stats, name='fill counts').plot.pie(y='fill count', title='Selection Statistics', legend=False, autopct='%1.1f%%')\n",
    "pass"
   ]
  },
  {
   "cell_type": "code",
   "execution_count": 13,
   "id": "impressed-scheduling",
   "metadata": {
    "execution": {
     "iopub.execute_input": "2022-07-22T05:58:12.954526Z",
     "iopub.status.busy": "2022-07-22T05:58:12.953892Z",
     "iopub.status.idle": "2022-07-22T05:58:12.963046Z",
     "shell.execute_reply": "2022-07-22T05:58:12.962561Z",
     "shell.execute_reply.started": "2021-06-04T08:20:32.843201Z"
    },
    "papermill": {
     "duration": 0.034773,
     "end_time": "2022-07-22T05:58:12.963188",
     "exception": false,
     "start_time": "2022-07-22T05:58:12.928415",
     "status": "completed"
    },
    "tags": []
   },
   "outputs": [
    {
     "data": {
      "text/html": [
       "<div>\n",
       "<style scoped>\n",
       "    .dataframe tbody tr th:only-of-type {\n",
       "        vertical-align: middle;\n",
       "    }\n",
       "\n",
       "    .dataframe tbody tr th {\n",
       "        vertical-align: top;\n",
       "    }\n",
       "\n",
       "    .dataframe thead th {\n",
       "        text-align: right;\n",
       "    }\n",
       "</style>\n",
       "<table border=\"1\" class=\"dataframe\">\n",
       "  <thead>\n",
       "    <tr style=\"text-align: right;\">\n",
       "      <th></th>\n",
       "      <th>fill counts</th>\n",
       "    </tr>\n",
       "  </thead>\n",
       "  <tbody>\n",
       "    <tr>\n",
       "      <th>12_v2</th>\n",
       "      <td>88673</td>\n",
       "    </tr>\n",
       "    <tr>\n",
       "      <th>12</th>\n",
       "      <td>2451</td>\n",
       "    </tr>\n",
       "    <tr>\n",
       "      <th>18</th>\n",
       "      <td>10300</td>\n",
       "    </tr>\n",
       "    <tr>\n",
       "      <th>19</th>\n",
       "      <td>1141</td>\n",
       "    </tr>\n",
       "    <tr>\n",
       "      <th>21</th>\n",
       "      <td>1025</td>\n",
       "    </tr>\n",
       "    <tr>\n",
       "      <th>e</th>\n",
       "      <td>92376</td>\n",
       "    </tr>\n",
       "  </tbody>\n",
       "</table>\n",
       "</div>"
      ],
      "text/plain": [
       "       fill counts\n",
       "12_v2        88673\n",
       "12            2451\n",
       "18           10300\n",
       "19            1141\n",
       "21            1025\n",
       "e            92376"
      ]
     },
     "metadata": {},
     "output_type": "display_data"
    }
   ],
   "source": [
    "display(pd.Series(selection_stats).to_frame(name='fill counts'))"
   ]
  },
  {
   "cell_type": "markdown",
   "id": "initial-resident",
   "metadata": {
    "papermill": {
     "duration": 0.022363,
     "end_time": "2022-07-22T05:58:13.007543",
     "exception": false,
     "start_time": "2022-07-22T05:58:12.985180",
     "status": "completed"
    },
    "tags": []
   },
   "source": [
    "# Make DataFrame"
   ]
  },
  {
   "cell_type": "code",
   "execution_count": 14,
   "id": "maritime-causing",
   "metadata": {
    "execution": {
     "iopub.execute_input": "2022-07-22T05:58:13.202361Z",
     "iopub.status.busy": "2022-07-22T05:58:13.110134Z",
     "iopub.status.idle": "2022-07-22T05:58:13.525427Z",
     "shell.execute_reply": "2022-07-22T05:58:13.524792Z",
     "shell.execute_reply.started": "2021-06-04T08:20:37.894014Z"
    },
    "papermill": {
     "duration": 0.49597,
     "end_time": "2022-07-22T05:58:13.525570",
     "exception": false,
     "start_time": "2022-07-22T05:58:13.029600",
     "status": "completed"
    },
    "tags": []
   },
   "outputs": [],
   "source": [
    "# Transform dictionary to dataframe\n",
    "submission_final = pd.DataFrame.from_dict(submission_final_dict, orient='index', columns=['InChI'])\n",
    "# Set the index_name to 'image_id' as required by the submission format\n",
    "submission_final.index.name = 'image_id'"
   ]
  },
  {
   "cell_type": "markdown",
   "id": "stone-bracket",
   "metadata": {
    "papermill": {
     "duration": 0.022037,
     "end_time": "2022-07-22T05:58:13.570263",
     "exception": false,
     "start_time": "2022-07-22T05:58:13.548226",
     "status": "completed"
    },
    "tags": []
   },
   "source": [
    "# Remove \\p and \\q from submission"
   ]
  },
  {
   "cell_type": "code",
   "execution_count": 15,
   "id": "accompanied-illness",
   "metadata": {
    "execution": {
     "iopub.execute_input": "2022-07-22T05:58:13.618035Z",
     "iopub.status.busy": "2022-07-22T05:58:13.617351Z",
     "iopub.status.idle": "2022-07-22T05:58:13.623710Z",
     "shell.execute_reply": "2022-07-22T05:58:13.624186Z",
     "shell.execute_reply.started": "2021-06-04T08:20:39.204957Z"
    },
    "papermill": {
     "duration": 0.031723,
     "end_time": "2022-07-22T05:58:13.624362",
     "exception": false,
     "start_time": "2022-07-22T05:58:13.592639",
     "status": "completed"
    },
    "tags": []
   },
   "outputs": [],
   "source": [
    "removed_pq_parts = 0\n",
    "\n",
    "def remove_pq(InChI, debug=False):\n",
    "    global removed_pq_parts\n",
    "    \n",
    "    InChI_Original = InChI\n",
    "    # P\n",
    "    substr_p = re.findall('(?<=\\/p)[^\\/]*', InChI)\n",
    "    if len(substr_p) > 0:\n",
    "        for substr in substr_p:\n",
    "            removed_pq_parts += 1\n",
    "            InChI = InChI.replace(f'/p{substr}', '')\n",
    "    # Q\n",
    "    substr_q = re.findall('(?<=\\/q)[^\\/]*', InChI)\n",
    "    if len(substr_q) > 0:\n",
    "        for substr in substr_q:\n",
    "            removed_pq_parts += 1\n",
    "            InChI = InChI.replace(f'/q{substr}', '')\n",
    "            \n",
    "    if debug and (len(substr_p) > 0 or len(substr_q) > 0):\n",
    "        print('=' * 50)\n",
    "        print(InChI_Original)\n",
    "        print(InChI)\n",
    "        print('=' * 50)\n",
    "        \n",
    "    return InChI"
   ]
  },
  {
   "cell_type": "code",
   "execution_count": 16,
   "id": "posted-hardwood",
   "metadata": {
    "execution": {
     "iopub.execute_input": "2022-07-22T05:58:14.551186Z",
     "iopub.status.busy": "2022-07-22T05:58:14.550520Z",
     "iopub.status.idle": "2022-07-22T05:58:27.868054Z",
     "shell.execute_reply": "2022-07-22T05:58:27.867502Z",
     "shell.execute_reply.started": "2021-06-04T08:20:40.21551Z"
    },
    "papermill": {
     "duration": 14.221811,
     "end_time": "2022-07-22T05:58:27.868203",
     "exception": false,
     "start_time": "2022-07-22T05:58:13.646392",
     "status": "completed"
    },
    "tags": []
   },
   "outputs": [
    {
     "data": {
      "application/vnd.jupyter.widget-view+json": {
       "model_id": "cd8167a238134183ac9f973897fe907d",
       "version_major": 2,
       "version_minor": 0
      },
      "text/plain": [
       "  0%|          | 0/1616107 [00:00<?, ?it/s]"
      ]
     },
     "metadata": {},
     "output_type": "display_data"
    }
   ],
   "source": [
    "# Remove /p and /q parts as they are not present in the training set\n",
    "submission_final['InChI'] = submission_final['InChI'].progress_apply(remove_pq)"
   ]
  },
  {
   "cell_type": "code",
   "execution_count": 17,
   "id": "incredible-intelligence",
   "metadata": {
    "execution": {
     "iopub.execute_input": "2022-07-22T05:58:27.919380Z",
     "iopub.status.busy": "2022-07-22T05:58:27.918720Z",
     "iopub.status.idle": "2022-07-22T05:58:27.922644Z",
     "shell.execute_reply": "2022-07-22T05:58:27.923149Z",
     "shell.execute_reply.started": "2021-06-04T08:21:37.254054Z"
    },
    "papermill": {
     "duration": 0.032159,
     "end_time": "2022-07-22T05:58:27.923329",
     "exception": false,
     "start_time": "2022-07-22T05:58:27.891170",
     "status": "completed"
    },
    "tags": []
   },
   "outputs": [
    {
     "name": "stdout",
     "output_type": "stream",
     "text": [
      "Total number of removed parts: 380\n",
      "Mean percentage of InChI's with /p or /q part removed: 0.024%\n"
     ]
    }
   ],
   "source": [
    "# Show statistics about /p /q removal\n",
    "print(f'Total number of removed parts: {removed_pq_parts}')\n",
    "removed_pq_parts_percentage = removed_pq_parts / len(submission_final) * 100\n",
    "print(f'Mean percentage of InChI\\'s with /p or /q part removed: {removed_pq_parts_percentage:.3f}%')"
   ]
  },
  {
   "cell_type": "markdown",
   "id": "mechanical-reader",
   "metadata": {
    "papermill": {
     "duration": 0.022098,
     "end_time": "2022-07-22T05:58:27.967921",
     "exception": false,
     "start_time": "2022-07-22T05:58:27.945823",
     "status": "completed"
    },
    "tags": []
   },
   "source": [
    "# Submission to CSV"
   ]
  },
  {
   "cell_type": "code",
   "execution_count": 18,
   "id": "parliamentary-length",
   "metadata": {
    "execution": {
     "iopub.execute_input": "2022-07-22T05:58:28.019410Z",
     "iopub.status.busy": "2022-07-22T05:58:28.018642Z",
     "iopub.status.idle": "2022-07-22T05:58:28.024215Z",
     "shell.execute_reply": "2022-07-22T05:58:28.024622Z",
     "shell.execute_reply.started": "2021-06-04T08:21:37.745809Z"
    },
    "papermill": {
     "duration": 0.034415,
     "end_time": "2022-07-22T05:58:28.024790",
     "exception": false,
     "start_time": "2022-07-22T05:58:27.990375",
     "status": "completed"
    },
    "tags": []
   },
   "outputs": [
    {
     "data": {
      "text/html": [
       "<div>\n",
       "<style scoped>\n",
       "    .dataframe tbody tr th:only-of-type {\n",
       "        vertical-align: middle;\n",
       "    }\n",
       "\n",
       "    .dataframe tbody tr th {\n",
       "        vertical-align: top;\n",
       "    }\n",
       "\n",
       "    .dataframe thead th {\n",
       "        text-align: right;\n",
       "    }\n",
       "</style>\n",
       "<table border=\"1\" class=\"dataframe\">\n",
       "  <thead>\n",
       "    <tr style=\"text-align: right;\">\n",
       "      <th></th>\n",
       "      <th>InChI</th>\n",
       "    </tr>\n",
       "    <tr>\n",
       "      <th>image_id</th>\n",
       "      <th></th>\n",
       "    </tr>\n",
       "  </thead>\n",
       "  <tbody>\n",
       "    <tr>\n",
       "      <th>2f6fc849ad8d</th>\n",
       "      <td>InChI=1S/C25H24N4O2S/c1-16-11-12-19(14-17(16)2...</td>\n",
       "    </tr>\n",
       "    <tr>\n",
       "      <th>d9d1b70db6f2</th>\n",
       "      <td>InChI=1S/C14H20ClN3O2/c1-2-20-14(19)18-7-5-17(...</td>\n",
       "    </tr>\n",
       "    <tr>\n",
       "      <th>2f6fdbe7d8db</th>\n",
       "      <td>InChI=1S/C32H31F6N3O4/c33-31(34,35)23-15-21(16...</td>\n",
       "    </tr>\n",
       "    <tr>\n",
       "      <th>d9d1c10fe3db</th>\n",
       "      <td>InChI=1S/C14H24N2O2S/c1-4-5-6-12(3)16-19(17,18...</td>\n",
       "    </tr>\n",
       "    <tr>\n",
       "      <th>2f6fe5875533</th>\n",
       "      <td>InChI=1S/C12H22N4O/c1-5-9(6-2)16-11-10(13)12(1...</td>\n",
       "    </tr>\n",
       "  </tbody>\n",
       "</table>\n",
       "</div>"
      ],
      "text/plain": [
       "                                                          InChI\n",
       "image_id                                                       \n",
       "2f6fc849ad8d  InChI=1S/C25H24N4O2S/c1-16-11-12-19(14-17(16)2...\n",
       "d9d1b70db6f2  InChI=1S/C14H20ClN3O2/c1-2-20-14(19)18-7-5-17(...\n",
       "2f6fdbe7d8db  InChI=1S/C32H31F6N3O4/c33-31(34,35)23-15-21(16...\n",
       "d9d1c10fe3db  InChI=1S/C14H24N2O2S/c1-4-5-6-12(3)16-19(17,18...\n",
       "2f6fe5875533  InChI=1S/C12H22N4O/c1-5-9(6-2)16-11-10(13)12(1..."
      ]
     },
     "metadata": {},
     "output_type": "display_data"
    }
   ],
   "source": [
    "# Show submission head\n",
    "display(submission_final.head())"
   ]
  },
  {
   "cell_type": "code",
   "execution_count": 19,
   "id": "interpreted-insurance",
   "metadata": {
    "execution": {
     "iopub.execute_input": "2022-07-22T05:58:28.163721Z",
     "iopub.status.busy": "2022-07-22T05:58:28.162788Z",
     "iopub.status.idle": "2022-07-22T05:58:28.177528Z",
     "shell.execute_reply": "2022-07-22T05:58:28.176878Z",
     "shell.execute_reply.started": "2021-06-04T08:21:38.043166Z"
    },
    "papermill": {
     "duration": 0.129173,
     "end_time": "2022-07-22T05:58:28.177667",
     "exception": false,
     "start_time": "2022-07-22T05:58:28.048494",
     "status": "completed"
    },
    "tags": []
   },
   "outputs": [
    {
     "name": "stdout",
     "output_type": "stream",
     "text": [
      "<class 'pandas.core.frame.DataFrame'>\n",
      "Index: 1616107 entries, 2f6fc849ad8d to be20b2bc8e86\n",
      "Data columns (total 1 columns):\n",
      " #   Column  Non-Null Count    Dtype \n",
      "---  ------  --------------    ----- \n",
      " 0   InChI   1616107 non-null  object\n",
      "dtypes: object(1)\n",
      "memory usage: 89.2+ MB\n"
     ]
    },
    {
     "data": {
      "text/plain": [
       "None"
      ]
     },
     "metadata": {},
     "output_type": "display_data"
    }
   ],
   "source": [
    "# Check if there are 1616107 rows!!!\n",
    "display(submission_final.info())"
   ]
  },
  {
   "cell_type": "code",
   "execution_count": 20,
   "id": "turned-drama",
   "metadata": {
    "execution": {
     "iopub.execute_input": "2022-07-22T05:58:28.229509Z",
     "iopub.status.busy": "2022-07-22T05:58:28.228876Z",
     "iopub.status.idle": "2022-07-22T05:58:33.362748Z",
     "shell.execute_reply": "2022-07-22T05:58:33.361805Z",
     "shell.execute_reply.started": "2021-06-04T08:21:40.331742Z"
    },
    "papermill": {
     "duration": 5.161614,
     "end_time": "2022-07-22T05:58:33.362900",
     "exception": false,
     "start_time": "2022-07-22T05:58:28.201286",
     "status": "completed"
    },
    "tags": []
   },
   "outputs": [],
   "source": [
    "# write submission file to CSV\n",
    "submission_final.to_csv('submission.csv', index=True)"
   ]
  }
 ],
 "metadata": {
  "kernelspec": {
   "display_name": "Python 3",
   "language": "python",
   "name": "python3"
  },
  "language_info": {
   "codemirror_mode": {
    "name": "ipython",
    "version": 3
   },
   "file_extension": ".py",
   "mimetype": "text/x-python",
   "name": "python",
   "nbconvert_exporter": "python",
   "pygments_lexer": "ipython3",
   "version": "3.7.10"
  },
  "papermill": {
   "default_parameters": {},
   "duration": 283.934954,
   "end_time": "2022-07-22T05:58:36.555734",
   "environment_variables": {},
   "exception": null,
   "input_path": "__notebook__.ipynb",
   "output_path": "__notebook__.ipynb",
   "parameters": {},
   "start_time": "2022-07-22T05:53:52.620780",
   "version": "2.3.3"
  },
  "widgets": {
   "application/vnd.jupyter.widget-state+json": {
    "state": {
     "09586f460b3640118a0c415a526a19ff": {
      "model_module": "@jupyter-widgets/controls",
      "model_module_version": "1.5.0",
      "model_name": "HTMLModel",
      "state": {
       "_dom_classes": [],
       "_model_module": "@jupyter-widgets/controls",
       "_model_module_version": "1.5.0",
       "_model_name": "HTMLModel",
       "_view_count": null,
       "_view_module": "@jupyter-widgets/controls",
       "_view_module_version": "1.5.0",
       "_view_name": "HTMLView",
       "description": "",
       "description_tooltip": null,
       "layout": "IPY_MODEL_873fffc417954a8daa5d5a1129bf9c16",
       "placeholder": "​",
       "style": "IPY_MODEL_d04c2ba5e14744ae829e92a36d29d30d",
       "value": " 1616107/1616107 [00:13&lt;00:00, 124867.58it/s]"
      }
     },
     "0c6978bea1d940a19dedd4550c46c31a": {
      "model_module": "@jupyter-widgets/controls",
      "model_module_version": "1.5.0",
      "model_name": "DescriptionStyleModel",
      "state": {
       "_model_module": "@jupyter-widgets/controls",
       "_model_module_version": "1.5.0",
       "_model_name": "DescriptionStyleModel",
       "_view_count": null,
       "_view_module": "@jupyter-widgets/base",
       "_view_module_version": "1.2.0",
       "_view_name": "StyleView",
       "description_width": ""
      }
     },
     "505fd3234fe1464a94e12a8c45951faa": {
      "model_module": "@jupyter-widgets/controls",
      "model_module_version": "1.5.0",
      "model_name": "HTMLModel",
      "state": {
       "_dom_classes": [],
       "_model_module": "@jupyter-widgets/controls",
       "_model_module_version": "1.5.0",
       "_model_name": "HTMLModel",
       "_view_count": null,
       "_view_module": "@jupyter-widgets/controls",
       "_view_module_version": "1.5.0",
       "_view_name": "HTMLView",
       "description": "",
       "description_tooltip": null,
       "layout": "IPY_MODEL_cad62cb8ea904a249d77e044ae998d04",
       "placeholder": "​",
       "style": "IPY_MODEL_8c9e23cbf14f42dfbd52fb8c6e517021",
       "value": "100%"
      }
     },
     "5c944c05bad14ac7a23c68f1fde0a8dd": {
      "model_module": "@jupyter-widgets/controls",
      "model_module_version": "1.5.0",
      "model_name": "ProgressStyleModel",
      "state": {
       "_model_module": "@jupyter-widgets/controls",
       "_model_module_version": "1.5.0",
       "_model_name": "ProgressStyleModel",
       "_view_count": null,
       "_view_module": "@jupyter-widgets/base",
       "_view_module_version": "1.2.0",
       "_view_name": "StyleView",
       "bar_color": null,
       "description_width": ""
      }
     },
     "6c0688ce3d814ed39388f7a701514ea3": {
      "model_module": "@jupyter-widgets/controls",
      "model_module_version": "1.5.0",
      "model_name": "FloatProgressModel",
      "state": {
       "_dom_classes": [],
       "_model_module": "@jupyter-widgets/controls",
       "_model_module_version": "1.5.0",
       "_model_name": "FloatProgressModel",
       "_view_count": null,
       "_view_module": "@jupyter-widgets/controls",
       "_view_module_version": "1.5.0",
       "_view_name": "ProgressView",
       "bar_style": "success",
       "description": "",
       "description_tooltip": null,
       "layout": "IPY_MODEL_c79fffc94c764d57bedf233f6882acee",
       "max": 1616107.0,
       "min": 0.0,
       "orientation": "horizontal",
       "style": "IPY_MODEL_5c944c05bad14ac7a23c68f1fde0a8dd",
       "value": 1616107.0
      }
     },
     "72fc00b32ffc4c7c8a5684e4855278d0": {
      "model_module": "@jupyter-widgets/controls",
      "model_module_version": "1.5.0",
      "model_name": "DescriptionStyleModel",
      "state": {
       "_model_module": "@jupyter-widgets/controls",
       "_model_module_version": "1.5.0",
       "_model_name": "DescriptionStyleModel",
       "_view_count": null,
       "_view_module": "@jupyter-widgets/base",
       "_view_module_version": "1.2.0",
       "_view_name": "StyleView",
       "description_width": ""
      }
     },
     "77a04a46e75b4b19b7ea979840024bb1": {
      "model_module": "@jupyter-widgets/base",
      "model_module_version": "1.2.0",
      "model_name": "LayoutModel",
      "state": {
       "_model_module": "@jupyter-widgets/base",
       "_model_module_version": "1.2.0",
       "_model_name": "LayoutModel",
       "_view_count": null,
       "_view_module": "@jupyter-widgets/base",
       "_view_module_version": "1.2.0",
       "_view_name": "LayoutView",
       "align_content": null,
       "align_items": null,
       "align_self": null,
       "border": null,
       "bottom": null,
       "display": null,
       "flex": null,
       "flex_flow": null,
       "grid_area": null,
       "grid_auto_columns": null,
       "grid_auto_flow": null,
       "grid_auto_rows": null,
       "grid_column": null,
       "grid_gap": null,
       "grid_row": null,
       "grid_template_areas": null,
       "grid_template_columns": null,
       "grid_template_rows": null,
       "height": null,
       "justify_content": null,
       "justify_items": null,
       "left": null,
       "margin": null,
       "max_height": null,
       "max_width": null,
       "min_height": null,
       "min_width": null,
       "object_fit": null,
       "object_position": null,
       "order": null,
       "overflow": null,
       "overflow_x": null,
       "overflow_y": null,
       "padding": null,
       "right": null,
       "top": null,
       "visibility": null,
       "width": null
      }
     },
     "7b356724f71c42508a00cc3da5b7e85a": {
      "model_module": "@jupyter-widgets/base",
      "model_module_version": "1.2.0",
      "model_name": "LayoutModel",
      "state": {
       "_model_module": "@jupyter-widgets/base",
       "_model_module_version": "1.2.0",
       "_model_name": "LayoutModel",
       "_view_count": null,
       "_view_module": "@jupyter-widgets/base",
       "_view_module_version": "1.2.0",
       "_view_name": "LayoutView",
       "align_content": null,
       "align_items": null,
       "align_self": null,
       "border": null,
       "bottom": null,
       "display": null,
       "flex": null,
       "flex_flow": null,
       "grid_area": null,
       "grid_auto_columns": null,
       "grid_auto_flow": null,
       "grid_auto_rows": null,
       "grid_column": null,
       "grid_gap": null,
       "grid_row": null,
       "grid_template_areas": null,
       "grid_template_columns": null,
       "grid_template_rows": null,
       "height": null,
       "justify_content": null,
       "justify_items": null,
       "left": null,
       "margin": null,
       "max_height": null,
       "max_width": null,
       "min_height": null,
       "min_width": null,
       "object_fit": null,
       "object_position": null,
       "order": null,
       "overflow": null,
       "overflow_x": null,
       "overflow_y": null,
       "padding": null,
       "right": null,
       "top": null,
       "visibility": null,
       "width": null
      }
     },
     "843681aa6f4f499091aa118c5c428a05": {
      "model_module": "@jupyter-widgets/controls",
      "model_module_version": "1.5.0",
      "model_name": "HBoxModel",
      "state": {
       "_dom_classes": [],
       "_model_module": "@jupyter-widgets/controls",
       "_model_module_version": "1.5.0",
       "_model_name": "HBoxModel",
       "_view_count": null,
       "_view_module": "@jupyter-widgets/controls",
       "_view_module_version": "1.5.0",
       "_view_name": "HBoxView",
       "box_style": "",
       "children": [
        "IPY_MODEL_505fd3234fe1464a94e12a8c45951faa",
        "IPY_MODEL_a1e6405e60f64777ad5e86bc1d1fd778",
        "IPY_MODEL_bef9459666ec42a5976dd3d84483d8cf"
       ],
       "layout": "IPY_MODEL_e12c7a18e2c542919eee44ba18a33dab"
      }
     },
     "873fffc417954a8daa5d5a1129bf9c16": {
      "model_module": "@jupyter-widgets/base",
      "model_module_version": "1.2.0",
      "model_name": "LayoutModel",
      "state": {
       "_model_module": "@jupyter-widgets/base",
       "_model_module_version": "1.2.0",
       "_model_name": "LayoutModel",
       "_view_count": null,
       "_view_module": "@jupyter-widgets/base",
       "_view_module_version": "1.2.0",
       "_view_name": "LayoutView",
       "align_content": null,
       "align_items": null,
       "align_self": null,
       "border": null,
       "bottom": null,
       "display": null,
       "flex": null,
       "flex_flow": null,
       "grid_area": null,
       "grid_auto_columns": null,
       "grid_auto_flow": null,
       "grid_auto_rows": null,
       "grid_column": null,
       "grid_gap": null,
       "grid_row": null,
       "grid_template_areas": null,
       "grid_template_columns": null,
       "grid_template_rows": null,
       "height": null,
       "justify_content": null,
       "justify_items": null,
       "left": null,
       "margin": null,
       "max_height": null,
       "max_width": null,
       "min_height": null,
       "min_width": null,
       "object_fit": null,
       "object_position": null,
       "order": null,
       "overflow": null,
       "overflow_x": null,
       "overflow_y": null,
       "padding": null,
       "right": null,
       "top": null,
       "visibility": null,
       "width": null
      }
     },
     "896b6ae2ac1e439dbf3ef1362532530b": {
      "model_module": "@jupyter-widgets/base",
      "model_module_version": "1.2.0",
      "model_name": "LayoutModel",
      "state": {
       "_model_module": "@jupyter-widgets/base",
       "_model_module_version": "1.2.0",
       "_model_name": "LayoutModel",
       "_view_count": null,
       "_view_module": "@jupyter-widgets/base",
       "_view_module_version": "1.2.0",
       "_view_name": "LayoutView",
       "align_content": null,
       "align_items": null,
       "align_self": null,
       "border": null,
       "bottom": null,
       "display": null,
       "flex": null,
       "flex_flow": null,
       "grid_area": null,
       "grid_auto_columns": null,
       "grid_auto_flow": null,
       "grid_auto_rows": null,
       "grid_column": null,
       "grid_gap": null,
       "grid_row": null,
       "grid_template_areas": null,
       "grid_template_columns": null,
       "grid_template_rows": null,
       "height": null,
       "justify_content": null,
       "justify_items": null,
       "left": null,
       "margin": null,
       "max_height": null,
       "max_width": null,
       "min_height": null,
       "min_width": null,
       "object_fit": null,
       "object_position": null,
       "order": null,
       "overflow": null,
       "overflow_x": null,
       "overflow_y": null,
       "padding": null,
       "right": null,
       "top": null,
       "visibility": null,
       "width": null
      }
     },
     "8c9e23cbf14f42dfbd52fb8c6e517021": {
      "model_module": "@jupyter-widgets/controls",
      "model_module_version": "1.5.0",
      "model_name": "DescriptionStyleModel",
      "state": {
       "_model_module": "@jupyter-widgets/controls",
       "_model_module_version": "1.5.0",
       "_model_name": "DescriptionStyleModel",
       "_view_count": null,
       "_view_module": "@jupyter-widgets/base",
       "_view_module_version": "1.2.0",
       "_view_name": "StyleView",
       "description_width": ""
      }
     },
     "932e79500d394920b5975fe795e1189a": {
      "model_module": "@jupyter-widgets/controls",
      "model_module_version": "1.5.0",
      "model_name": "HTMLModel",
      "state": {
       "_dom_classes": [],
       "_model_module": "@jupyter-widgets/controls",
       "_model_module_version": "1.5.0",
       "_model_name": "HTMLModel",
       "_view_count": null,
       "_view_module": "@jupyter-widgets/controls",
       "_view_module_version": "1.5.0",
       "_view_name": "HTMLView",
       "description": "",
       "description_tooltip": null,
       "layout": "IPY_MODEL_896b6ae2ac1e439dbf3ef1362532530b",
       "placeholder": "​",
       "style": "IPY_MODEL_0c6978bea1d940a19dedd4550c46c31a",
       "value": "100%"
      }
     },
     "a1e6405e60f64777ad5e86bc1d1fd778": {
      "model_module": "@jupyter-widgets/controls",
      "model_module_version": "1.5.0",
      "model_name": "FloatProgressModel",
      "state": {
       "_dom_classes": [],
       "_model_module": "@jupyter-widgets/controls",
       "_model_module_version": "1.5.0",
       "_model_name": "FloatProgressModel",
       "_view_count": null,
       "_view_module": "@jupyter-widgets/controls",
       "_view_module_version": "1.5.0",
       "_view_name": "ProgressView",
       "bar_style": "success",
       "description": "",
       "description_tooltip": null,
       "layout": "IPY_MODEL_7b356724f71c42508a00cc3da5b7e85a",
       "max": 1616107.0,
       "min": 0.0,
       "orientation": "horizontal",
       "style": "IPY_MODEL_b39b11a953384dab8bd31a672938a14d",
       "value": 1616107.0
      }
     },
     "b39b11a953384dab8bd31a672938a14d": {
      "model_module": "@jupyter-widgets/controls",
      "model_module_version": "1.5.0",
      "model_name": "ProgressStyleModel",
      "state": {
       "_model_module": "@jupyter-widgets/controls",
       "_model_module_version": "1.5.0",
       "_model_name": "ProgressStyleModel",
       "_view_count": null,
       "_view_module": "@jupyter-widgets/base",
       "_view_module_version": "1.2.0",
       "_view_name": "StyleView",
       "bar_color": null,
       "description_width": ""
      }
     },
     "bef9459666ec42a5976dd3d84483d8cf": {
      "model_module": "@jupyter-widgets/controls",
      "model_module_version": "1.5.0",
      "model_name": "HTMLModel",
      "state": {
       "_dom_classes": [],
       "_model_module": "@jupyter-widgets/controls",
       "_model_module_version": "1.5.0",
       "_model_name": "HTMLModel",
       "_view_count": null,
       "_view_module": "@jupyter-widgets/controls",
       "_view_module_version": "1.5.0",
       "_view_name": "HTMLView",
       "description": "",
       "description_tooltip": null,
       "layout": "IPY_MODEL_77a04a46e75b4b19b7ea979840024bb1",
       "placeholder": "​",
       "style": "IPY_MODEL_72fc00b32ffc4c7c8a5684e4855278d0",
       "value": " 1616107/1616107 [02:36&lt;00:00, 10625.03it/s]"
      }
     },
     "c79fffc94c764d57bedf233f6882acee": {
      "model_module": "@jupyter-widgets/base",
      "model_module_version": "1.2.0",
      "model_name": "LayoutModel",
      "state": {
       "_model_module": "@jupyter-widgets/base",
       "_model_module_version": "1.2.0",
       "_model_name": "LayoutModel",
       "_view_count": null,
       "_view_module": "@jupyter-widgets/base",
       "_view_module_version": "1.2.0",
       "_view_name": "LayoutView",
       "align_content": null,
       "align_items": null,
       "align_self": null,
       "border": null,
       "bottom": null,
       "display": null,
       "flex": null,
       "flex_flow": null,
       "grid_area": null,
       "grid_auto_columns": null,
       "grid_auto_flow": null,
       "grid_auto_rows": null,
       "grid_column": null,
       "grid_gap": null,
       "grid_row": null,
       "grid_template_areas": null,
       "grid_template_columns": null,
       "grid_template_rows": null,
       "height": null,
       "justify_content": null,
       "justify_items": null,
       "left": null,
       "margin": null,
       "max_height": null,
       "max_width": null,
       "min_height": null,
       "min_width": null,
       "object_fit": null,
       "object_position": null,
       "order": null,
       "overflow": null,
       "overflow_x": null,
       "overflow_y": null,
       "padding": null,
       "right": null,
       "top": null,
       "visibility": null,
       "width": null
      }
     },
     "cad62cb8ea904a249d77e044ae998d04": {
      "model_module": "@jupyter-widgets/base",
      "model_module_version": "1.2.0",
      "model_name": "LayoutModel",
      "state": {
       "_model_module": "@jupyter-widgets/base",
       "_model_module_version": "1.2.0",
       "_model_name": "LayoutModel",
       "_view_count": null,
       "_view_module": "@jupyter-widgets/base",
       "_view_module_version": "1.2.0",
       "_view_name": "LayoutView",
       "align_content": null,
       "align_items": null,
       "align_self": null,
       "border": null,
       "bottom": null,
       "display": null,
       "flex": null,
       "flex_flow": null,
       "grid_area": null,
       "grid_auto_columns": null,
       "grid_auto_flow": null,
       "grid_auto_rows": null,
       "grid_column": null,
       "grid_gap": null,
       "grid_row": null,
       "grid_template_areas": null,
       "grid_template_columns": null,
       "grid_template_rows": null,
       "height": null,
       "justify_content": null,
       "justify_items": null,
       "left": null,
       "margin": null,
       "max_height": null,
       "max_width": null,
       "min_height": null,
       "min_width": null,
       "object_fit": null,
       "object_position": null,
       "order": null,
       "overflow": null,
       "overflow_x": null,
       "overflow_y": null,
       "padding": null,
       "right": null,
       "top": null,
       "visibility": null,
       "width": null
      }
     },
     "cd8167a238134183ac9f973897fe907d": {
      "model_module": "@jupyter-widgets/controls",
      "model_module_version": "1.5.0",
      "model_name": "HBoxModel",
      "state": {
       "_dom_classes": [],
       "_model_module": "@jupyter-widgets/controls",
       "_model_module_version": "1.5.0",
       "_model_name": "HBoxModel",
       "_view_count": null,
       "_view_module": "@jupyter-widgets/controls",
       "_view_module_version": "1.5.0",
       "_view_name": "HBoxView",
       "box_style": "",
       "children": [
        "IPY_MODEL_932e79500d394920b5975fe795e1189a",
        "IPY_MODEL_6c0688ce3d814ed39388f7a701514ea3",
        "IPY_MODEL_09586f460b3640118a0c415a526a19ff"
       ],
       "layout": "IPY_MODEL_f08920249bd746cfb5425a9518edda90"
      }
     },
     "d04c2ba5e14744ae829e92a36d29d30d": {
      "model_module": "@jupyter-widgets/controls",
      "model_module_version": "1.5.0",
      "model_name": "DescriptionStyleModel",
      "state": {
       "_model_module": "@jupyter-widgets/controls",
       "_model_module_version": "1.5.0",
       "_model_name": "DescriptionStyleModel",
       "_view_count": null,
       "_view_module": "@jupyter-widgets/base",
       "_view_module_version": "1.2.0",
       "_view_name": "StyleView",
       "description_width": ""
      }
     },
     "e12c7a18e2c542919eee44ba18a33dab": {
      "model_module": "@jupyter-widgets/base",
      "model_module_version": "1.2.0",
      "model_name": "LayoutModel",
      "state": {
       "_model_module": "@jupyter-widgets/base",
       "_model_module_version": "1.2.0",
       "_model_name": "LayoutModel",
       "_view_count": null,
       "_view_module": "@jupyter-widgets/base",
       "_view_module_version": "1.2.0",
       "_view_name": "LayoutView",
       "align_content": null,
       "align_items": null,
       "align_self": null,
       "border": null,
       "bottom": null,
       "display": null,
       "flex": null,
       "flex_flow": null,
       "grid_area": null,
       "grid_auto_columns": null,
       "grid_auto_flow": null,
       "grid_auto_rows": null,
       "grid_column": null,
       "grid_gap": null,
       "grid_row": null,
       "grid_template_areas": null,
       "grid_template_columns": null,
       "grid_template_rows": null,
       "height": null,
       "justify_content": null,
       "justify_items": null,
       "left": null,
       "margin": null,
       "max_height": null,
       "max_width": null,
       "min_height": null,
       "min_width": null,
       "object_fit": null,
       "object_position": null,
       "order": null,
       "overflow": null,
       "overflow_x": null,
       "overflow_y": null,
       "padding": null,
       "right": null,
       "top": null,
       "visibility": null,
       "width": null
      }
     },
     "f08920249bd746cfb5425a9518edda90": {
      "model_module": "@jupyter-widgets/base",
      "model_module_version": "1.2.0",
      "model_name": "LayoutModel",
      "state": {
       "_model_module": "@jupyter-widgets/base",
       "_model_module_version": "1.2.0",
       "_model_name": "LayoutModel",
       "_view_count": null,
       "_view_module": "@jupyter-widgets/base",
       "_view_module_version": "1.2.0",
       "_view_name": "LayoutView",
       "align_content": null,
       "align_items": null,
       "align_self": null,
       "border": null,
       "bottom": null,
       "display": null,
       "flex": null,
       "flex_flow": null,
       "grid_area": null,
       "grid_auto_columns": null,
       "grid_auto_flow": null,
       "grid_auto_rows": null,
       "grid_column": null,
       "grid_gap": null,
       "grid_row": null,
       "grid_template_areas": null,
       "grid_template_columns": null,
       "grid_template_rows": null,
       "height": null,
       "justify_content": null,
       "justify_items": null,
       "left": null,
       "margin": null,
       "max_height": null,
       "max_width": null,
       "min_height": null,
       "min_width": null,
       "object_fit": null,
       "object_position": null,
       "order": null,
       "overflow": null,
       "overflow_x": null,
       "overflow_y": null,
       "padding": null,
       "right": null,
       "top": null,
       "visibility": null,
       "width": null
      }
     }
    },
    "version_major": 2,
    "version_minor": 0
   }
  }
 },
 "nbformat": 4,
 "nbformat_minor": 5
}
