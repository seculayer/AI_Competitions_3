{
 "cells": [
  {
   "cell_type": "code",
   "execution_count": 1,
   "id": "2a02a081",
   "metadata": {
    "execution": {
     "iopub.execute_input": "2022-05-29T08:36:46.814762Z",
     "iopub.status.busy": "2022-05-29T08:36:46.813586Z",
     "iopub.status.idle": "2022-05-29T08:36:46.823133Z",
     "shell.execute_reply": "2022-05-29T08:36:46.823605Z",
     "shell.execute_reply.started": "2021-10-24T03:17:22.883565Z"
    },
    "papermill": {
     "duration": 0.019128,
     "end_time": "2022-05-29T08:36:46.823904",
     "exception": false,
     "start_time": "2022-05-29T08:36:46.804776",
     "status": "completed"
    },
    "tags": []
   },
   "outputs": [],
   "source": [
    "import pandas as pd"
   ]
  },
  {
   "cell_type": "code",
   "execution_count": 2,
   "id": "aab7f5aa",
   "metadata": {
    "execution": {
     "iopub.execute_input": "2022-05-29T08:36:46.835293Z",
     "iopub.status.busy": "2022-05-29T08:36:46.834356Z",
     "iopub.status.idle": "2022-05-29T08:36:55.493708Z",
     "shell.execute_reply": "2022-05-29T08:36:55.492959Z",
     "shell.execute_reply.started": "2021-10-24T03:17:22.913025Z"
    },
    "papermill": {
     "duration": 8.665649,
     "end_time": "2022-05-29T08:36:55.493857",
     "exception": false,
     "start_time": "2022-05-29T08:36:46.828208",
     "status": "completed"
    },
    "tags": []
   },
   "outputs": [],
   "source": [
    "sub = pd.read_csv('../input/ventilator-pressure-prediction/sample_submission.csv')\n",
    "\n",
    "sub_1 = pd.read_csv('../input/gb-vpp-pulp-fiction/median_submission.csv')\n",
    "sub_2 = pd.read_csv('../input/vent-011-median-wins/submission.csv')\n",
    "sub_3 = pd.read_csv('../input/basic-ensemble-of-public-notebooks/submission_median.csv')\n",
    "sub_4 = pd.read_csv('../input/gaps-features-tf-lstm-resnet-like-ff/sub.csv')"
   ]
  },
  {
   "cell_type": "code",
   "execution_count": 3,
   "id": "f0ed7a20",
   "metadata": {
    "execution": {
     "iopub.execute_input": "2022-05-29T08:36:55.515965Z",
     "iopub.status.busy": "2022-05-29T08:36:55.514490Z",
     "iopub.status.idle": "2022-05-29T08:37:10.114108Z",
     "shell.execute_reply": "2022-05-29T08:37:10.113584Z",
     "shell.execute_reply.started": "2021-10-24T03:17:31.292561Z"
    },
    "papermill": {
     "duration": 14.616307,
     "end_time": "2022-05-29T08:37:10.114259",
     "exception": false,
     "start_time": "2022-05-29T08:36:55.497952",
     "status": "completed"
    },
    "tags": []
   },
   "outputs": [
    {
     "data": {
      "text/html": [
       "<div>\n",
       "<style scoped>\n",
       "    .dataframe tbody tr th:only-of-type {\n",
       "        vertical-align: middle;\n",
       "    }\n",
       "\n",
       "    .dataframe tbody tr th {\n",
       "        vertical-align: top;\n",
       "    }\n",
       "\n",
       "    .dataframe thead th {\n",
       "        text-align: right;\n",
       "    }\n",
       "</style>\n",
       "<table border=\"1\" class=\"dataframe\">\n",
       "  <thead>\n",
       "    <tr style=\"text-align: right;\">\n",
       "      <th></th>\n",
       "      <th>id</th>\n",
       "      <th>pressure</th>\n",
       "    </tr>\n",
       "  </thead>\n",
       "  <tbody>\n",
       "    <tr>\n",
       "      <th>0</th>\n",
       "      <td>1</td>\n",
       "      <td>6.293383</td>\n",
       "    </tr>\n",
       "    <tr>\n",
       "      <th>1</th>\n",
       "      <td>2</td>\n",
       "      <td>5.978112</td>\n",
       "    </tr>\n",
       "    <tr>\n",
       "      <th>2</th>\n",
       "      <td>3</td>\n",
       "      <td>7.102949</td>\n",
       "    </tr>\n",
       "    <tr>\n",
       "      <th>3</th>\n",
       "      <td>4</td>\n",
       "      <td>7.658326</td>\n",
       "    </tr>\n",
       "    <tr>\n",
       "      <th>4</th>\n",
       "      <td>5</td>\n",
       "      <td>9.204974</td>\n",
       "    </tr>\n",
       "  </tbody>\n",
       "</table>\n",
       "</div>"
      ],
      "text/plain": [
       "   id  pressure\n",
       "0   1  6.293383\n",
       "1   2  5.978112\n",
       "2   3  7.102949\n",
       "3   4  7.658326\n",
       "4   5  9.204974"
      ]
     },
     "execution_count": 3,
     "metadata": {},
     "output_type": "execute_result"
    }
   ],
   "source": [
    "sub['pressure'] = (sub_1['pressure'].values*0.18)+(sub_2['pressure'].values*0.5)+(sub_3['pressure'].values*0.22)+ \\\n",
    "                  (sub_4['pressure'].values*0.1)\n",
    "sub.to_csv('submission.csv', index=False)\n",
    "sub.head(5)"
   ]
  }
 ],
 "metadata": {
  "kernelspec": {
   "display_name": "Python 3",
   "language": "python",
   "name": "python3"
  },
  "language_info": {
   "codemirror_mode": {
    "name": "ipython",
    "version": 3
   },
   "file_extension": ".py",
   "mimetype": "text/x-python",
   "name": "python",
   "nbconvert_exporter": "python",
   "pygments_lexer": "ipython3",
   "version": "3.7.10"
  },
  "papermill": {
   "default_parameters": {},
   "duration": 32.774148,
   "end_time": "2022-05-29T08:37:11.332355",
   "environment_variables": {},
   "exception": null,
   "input_path": "__notebook__.ipynb",
   "output_path": "__notebook__.ipynb",
   "parameters": {},
   "start_time": "2022-05-29T08:36:38.558207",
   "version": "2.3.3"
  }
 },
 "nbformat": 4,
 "nbformat_minor": 5
}
