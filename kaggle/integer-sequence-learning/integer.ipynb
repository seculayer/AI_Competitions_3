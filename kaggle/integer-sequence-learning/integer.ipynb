{
 "cells": [
  {
   "cell_type": "code",
   "execution_count": 2,
   "metadata": {
    "id": "4jHPcjnLspcX"
   },
   "outputs": [],
   "source": [
    "import numpy as np \n",
    "import pandas as pd \n",
    "\n",
    "from sklearn import datasets, linear_model\n",
    "import statsmodels.formula.api as smf\n",
    "import time\n",
    "import csv\n",
    "\n",
    "def predict_last(N, inputfilepath):\n",
    "\n",
    "    print(\"runnig last number prediction\")\n",
    "\n",
    "    data = pd.read_csv(inputfilepath)\n",
    "    clf = linear_model.LinearRegression()\n",
    "    results = []\n",
    "    Ids = []\n",
    "\n",
    "\n",
    "    for i in range(len(data)):\n",
    "        Id =  data[\"Id\"][i]\n",
    "        seq = np.fromstring(data['Sequence'][i], dtype=int, sep=\",\")\n",
    "        number_of_points = N\n",
    "\n",
    "        if 8 < len(seq) < number_of_points + 4:\n",
    "            number_of_points = len(seq) - 5\n",
    "\n",
    "        if len(seq) < 9:\n",
    "            number_of_points = len(seq)-1\n",
    "\n",
    "        if len(seq) < 2:\n",
    "            Ids.append(Id)\n",
    "            results.append(seq[-1])\n",
    "            continue\n",
    "\n",
    "        clf.fit([seq[i:i + number_of_points]\n",
    "        for i in range(len(seq) - number_of_points)], seq[number_of_points:])\n",
    "\n",
    "        result = clf.predict([seq[-number_of_points:]])[0]\n",
    "\n",
    "\n",
    "        results.append(int(round(result)))\n",
    "        Ids.append(Id)\n",
    "        \n",
    "        if i % 10000 ==0:\n",
    "            print(\"Done with {:2.4} % \".format((i*100)/len(data)) )\n",
    "\n",
    "\n",
    "    print(\"saving the csv file\")\n",
    "\n",
    "    df = pd.DataFrame({'\"Id\"':Ids,\"\\\"Last\\\"\":results})\n",
    "    df.to_csv('result.csv', index=False, quoting=csv.QUOTE_NONE)\n",
    "\n"
   ]
  },
  {
   "cell_type": "code",
   "execution_count": 3,
   "metadata": {
    "colab": {
     "base_uri": "https://localhost:8080/",
     "height": 1000
    },
    "id": "UqwUAtdTuGPf",
    "outputId": "5cd8205d-4e2a-4b7e-ddc0-5de248f43107"
   },
   "outputs": [
    {
     "name": "stdout",
     "output_type": "stream",
     "text": [
      "runnig last number prediction\n",
      "Done with 0.0 % \n",
      "Done with 8.784 % \n",
      "Done with 17.57 % \n",
      "Done with 26.35 % \n",
      "Done with 35.14 % \n",
      "Done with 43.92 % \n",
      "Done with 52.7 % \n",
      "Done with 61.49 % \n",
      "Done with 70.27 % \n",
      "Done with 79.05 % \n",
      "Done with 87.84 % \n",
      "Done with 96.62 % \n",
      "saving the csv file\n",
      "time = 63.382898807525635 s\n"
     ]
    }
   ],
   "source": [
    "start = time.time()\n",
    "predict_last(12,\"test.csv\")\n",
    "end = time.time()\n",
    "print(\"time = {} s\".format(end - start) )"
   ]
  },
  {
   "cell_type": "code",
   "execution_count": null,
   "metadata": {},
   "outputs": [],
   "source": []
  }
 ],
 "metadata": {
  "colab": {
   "provenance": [],
   "toc_visible": true
  },
  "kernelspec": {
   "display_name": "test_env",
   "language": "python",
   "name": "test_env"
  },
  "language_info": {
   "codemirror_mode": {
    "name": "ipython",
    "version": 3
   },
   "file_extension": ".py",
   "mimetype": "text/x-python",
   "name": "python",
   "nbconvert_exporter": "python",
   "pygments_lexer": "ipython3",
   "version": "3.7.13"
  }
 },
 "nbformat": 4,
 "nbformat_minor": 1
}
