{
 "cells": [
  {
   "cell_type": "code",
   "execution_count": 1,
   "metadata": {
    "_uuid": "ff6712c45c7ddf8bbe163da61aff57019a771dd2",
    "execution": {
     "iopub.execute_input": "2022-06-24T11:57:18.07558Z",
     "iopub.status.busy": "2022-06-24T11:57:18.07525Z",
     "iopub.status.idle": "2022-06-24T11:57:18.097883Z",
     "shell.execute_reply": "2022-06-24T11:57:18.096986Z",
     "shell.execute_reply.started": "2022-06-24T11:57:18.075507Z"
    }
   },
   "outputs": [],
   "source": [
    "on_kaggle = True"
   ]
  },
  {
   "cell_type": "code",
   "execution_count": 2,
   "metadata": {
    "_uuid": "f52d644880de098e4d6496803739caf2bdd8b738",
    "execution": {
     "iopub.execute_input": "2022-06-24T11:57:18.099538Z",
     "iopub.status.busy": "2022-06-24T11:57:18.099177Z",
     "iopub.status.idle": "2022-06-24T11:57:18.105056Z",
     "shell.execute_reply": "2022-06-24T11:57:18.104163Z",
     "shell.execute_reply.started": "2022-06-24T11:57:18.099499Z"
    }
   },
   "outputs": [],
   "source": [
    "OTHRESH=0.05    \n",
    "PTHRESH=0.94   \n",
    "AVPTHRESH=0.65  \n",
    "THRESH = .175\n",
    "MIN_MAX_MRCNN_CONF = .975\n",
    "MINPROB = 0.69  \n",
    "C1 = 1e6  \n",
    "C2 = 0.06\n",
    "UNET_MINPROB = 0.28  \n",
    "UNET_MINCONF = 0.35  \n",
    "YOLO_MINCONF = 0.15  \n",
    "MINMIN = 0.20  "
   ]
  },
  {
   "cell_type": "code",
   "execution_count": 3,
   "metadata": {
    "_uuid": "8543a3aeea5bef2782616afaa9e5b201123ca1b1",
    "execution": {
     "iopub.execute_input": "2022-06-24T11:57:18.11087Z",
     "iopub.status.busy": "2022-06-24T11:57:18.110578Z",
     "iopub.status.idle": "2022-06-24T11:57:18.805623Z",
     "shell.execute_reply": "2022-06-24T11:57:18.804881Z",
     "shell.execute_reply.started": "2022-06-24T11:57:18.110821Z"
    }
   },
   "outputs": [],
   "source": [
    "import numpy as np \n",
    "import pandas as pd \n",
    "import os\n",
    "from sklearn import metrics\n",
    "from scipy.special import logit,expit\n",
    "from sklearn.linear_model import LogisticRegression\n",
    "from sklearn.metrics import mean_squared_error"
   ]
  },
  {
   "cell_type": "code",
   "execution_count": 4,
   "metadata": {
    "_uuid": "24fda38084b964edbee31084bd7c4761cfa7a0b5",
    "execution": {
     "iopub.execute_input": "2022-06-24T11:57:18.80747Z",
     "iopub.status.busy": "2022-06-24T11:57:18.807043Z",
     "iopub.status.idle": "2022-06-24T11:57:18.814909Z",
     "shell.execute_reply": "2022-06-24T11:57:18.813814Z",
     "shell.execute_reply.started": "2022-06-24T11:57:18.807429Z"
    }
   },
   "outputs": [
    {
     "data": {
      "text/plain": [
       "['rsna-pneumonia-detection-challenge',\n",
       " 'rsna-oof-predictions',\n",
       " 'combine-fold-class-predictions-stage-2',\n",
       " 'yolov3-inference-from-more-saved-weights-stage-2',\n",
       " 'mrcnn-inference-from-saved-wts-4dig-70-stage-2',\n",
       " 'filter-199-final-with-higher-thresh-stage-2',\n",
       " 'gs-dense-chexnet-predict-stage-2-from-all-models',\n",
       " 'yolov3-inference-from-multiple-saved-wts-stage-2',\n",
       " 'mrcnn-inference-from-saved-wts-2dig-95-stage-2',\n",
       " 'andy-densenet-from-multiple-saved-weights-stage-2',\n",
       " 'resnet-unet-from-saved-weights-stage-2']"
      ]
     },
     "execution_count": 4,
     "metadata": {},
     "output_type": "execute_result"
    }
   ],
   "source": [
    "os.listdir('../input')"
   ]
  },
  {
   "cell_type": "code",
   "execution_count": 5,
   "metadata": {
    "_uuid": "fd5ccbc3239c0ba39cde3fae919c48d58e0d9662",
    "execution": {
     "iopub.execute_input": "2022-06-24T11:57:18.817523Z",
     "iopub.status.busy": "2022-06-24T11:57:18.817253Z",
     "iopub.status.idle": "2022-06-24T11:57:19.59009Z",
     "shell.execute_reply": "2022-06-24T11:57:19.588982Z",
     "shell.execute_reply.started": "2022-06-24T11:57:18.817478Z"
    }
   },
   "outputs": [
    {
     "name": "stdout",
     "output_type": "stream",
     "text": [
      "ls: cannot access ../input/gs-dense-chexnet-predict-test-from-all-models: No such file or directory\r\n"
     ]
    }
   ],
   "source": [
    "!ls ../input/gs-dense-chexnet-predict-test-from-all-models"
   ]
  },
  {
   "cell_type": "code",
   "execution_count": 6,
   "metadata": {
    "_uuid": "295814121c7eb96f1f52e1075b4ed29e47690464",
    "execution": {
     "iopub.execute_input": "2022-06-24T11:57:19.594142Z",
     "iopub.status.busy": "2022-06-24T11:57:19.593462Z",
     "iopub.status.idle": "2022-06-24T11:57:19.605385Z",
     "shell.execute_reply": "2022-06-24T11:57:19.604577Z",
     "shell.execute_reply.started": "2022-06-24T11:57:19.594069Z"
    }
   },
   "outputs": [],
   "source": [
    "RESULTS_LOC = '../input'  # Outputs from base models\n",
    "RAW_DATA_LOC = '../input/rsna-pneumonia-detection-challenge'          # Raw input data\n",
    "YOLO_SUB_STEM = 'yolov3-inference-from-multiple-saved-wts-stage-2/submission_yolo'    # YoloV3 predictions\n",
    "YOLO_SUB_STEM2 = 'yolov3-inference-from-more-saved-weights-stage-2/submission_yolo'    # YoloV3 predictions\n",
    "MORE_YOLO_EPOCHS = [5300, 1500, 6700, 2000] if on_kaggle else []\n",
    "UNET_RESULTS_PATH = '../input/resnet-unet-from-saved-weights-stage-2/submission_resnet34unet_thr0.35.csv'  # Resnet-Unet predictions\n",
    "CHEXNET_OOF_STEM = 'rsna-oof-predictions/predictions_valid_fold_'        # Giulia's classification model\n",
    "CHEXNET_TEST_STEM = 'gs-dense-chexnet-predict-stage-2-from-all-models/test_preds_pth_fold'\n",
    "SPECIAL_FILE0 = 'gs-dense-chexnet-predict-stage-2-from-all-models/test_preds_pth_fold0_for_combined_folds'\n",
    "CHEXNET_TEST_FILE0 = SPECIAL_FILE0 if on_kaggle else CHEXNET_TEST_STEM + '0'\n",
    "ADENSE_TEST_STEM = 'andy-densenet-from-multiple-saved-weights-stage-2/submission_adense_f'                    # Andy's classification model\n",
    "ADEMSE_OOF_STEM = 'rsna-oof-predictions/val_dense_v5_a1_f'\n",
    "MRCNN_TEST_STEM = 'mrcnn-inference-from-saved-wts-4dig-70-stage-2/submission_mrcnn_v'  # MRCNN predicted boxes\n",
    "MRCNN95_TEST_STEM = 'mrcnn-inference-from-saved-wts-2dig-95-stage-2/submission_mrcnn_v' \\\n",
    "   if on_kaggle else MRCNN_TEST_STEM  # MRCNN predicted boxes\n",
    "MRCNN_OUT_STEM = 'temp_mrcnn_v' if on_kaggle else MRCNN_TEST_STEM\n",
    "MRCNN_OOF_STEM = 'rsna-oof-predictions/val_v'\n",
    "MRCNN_OOF_OUT_STEM = 'val_v' if on_kaggle else MRCNN_OOF_STEM\n",
    "MRCNN_TEST_SEP = ''\n",
    "MRCNN_OOF_SEP = '_'\n",
    "IN_OOF_SUFFIX = ''\n",
    "IN_SUFFIX = '.csv'\n",
    "OUT_SUFFIX = '.csv'\n",
    "CHEX_CLASS_PRED_PATH = '../input/combine-fold-class-predictions-stage-2/test_probs.csv'  # Logisitc average of Giulia's test class preds\n",
    "KERNEL_OUTPUT_PATH = '../input/filter-199-final-with-higher-thresh-stage-2/filter199.csv'      # \"Pneumonia - Segm. filtered through Class.\" kernel"
   ]
  },
  {
   "cell_type": "code",
   "execution_count": 7,
   "metadata": {
    "_uuid": "37e1a1fb39d35b98cd13e969ec31ede153323f3d",
    "execution": {
     "iopub.execute_input": "2022-06-24T11:57:19.607548Z",
     "iopub.status.busy": "2022-06-24T11:57:19.607255Z",
     "iopub.status.idle": "2022-06-24T11:57:19.624641Z",
     "shell.execute_reply": "2022-06-24T11:57:19.623479Z",
     "shell.execute_reply.started": "2022-06-24T11:57:19.607497Z"
    }
   },
   "outputs": [],
   "source": [
    "N_FOLDS = 5\n",
    "OUTPUT_LOC = '.'\n",
    "\n",
    "OOF_INFILE_STEM = MRCNN_OOF_STEM + '9' + MRCNN_OOF_SEP + 'a1' + MRCNN_OOF_SEP + 'f'\n",
    "vers = '8' if on_kaggle else '9'\n",
    "TEST_INFILE_STEM = MRCNN_TEST_STEM + vers + MRCNN_TEST_SEP + 'a1' + MRCNN_TEST_SEP + 'f'\n",
    "OOF_OUTFILE_NAME = MRCNN_OOF_OUT_STEM + '10' + MRCNN_OOF_SEP + 'a1' + \\\n",
    "                   MRCNN_OOF_SEP + 'allfolds_out.csv'\n",
    "\n",
    "TEST_OUTFILE_STEM = MRCNN_OUT_STEM + '10' + MRCNN_TEST_SEP + 'a1' + MRCNN_TEST_SEP + 'f_out'\n",
    "OOF_CLASS_PROBS_OUTFILE = 'phase3_oof_out.csv'\n",
    "TEST_CLASS_PROBS_OUTFILE_STEM = 'phase3_test_out'\n",
    "FULL_TEST_CLASS_PROBS_OUTFILE = 'phase3_test_avg_out.csv'"
   ]
  },
  {
   "cell_type": "code",
   "execution_count": 8,
   "metadata": {
    "_uuid": "cd0bcaa6706f7c4d118187299bb24bf85d094582",
    "execution": {
     "iopub.execute_input": "2022-06-24T11:57:19.62634Z",
     "iopub.status.busy": "2022-06-24T11:57:19.625856Z",
     "iopub.status.idle": "2022-06-24T11:57:19.846805Z",
     "shell.execute_reply": "2022-06-24T11:57:19.845817Z",
     "shell.execute_reply.started": "2022-06-24T11:57:19.626294Z"
    }
   },
   "outputs": [],
   "source": [
    "dfs = []\n",
    "\n",
    "for a in range(1,3):\n",
    "    for f in range(5):\n",
    "        vers = '8' if a==2 and f==0 else '1'\n",
    "        fn = RESULTS_LOC +'/'+ MRCNN95_TEST_STEM + vers + MRCNN_TEST_SEP + \\\n",
    "             'a' + str(a) + MRCNN_TEST_SEP + 'f' + str(f) + IN_SUFFIX\n",
    "        dfs.append( pd.read_csv(fn).set_index('patientId') )\n",
    "\n",
    "for i,f in enumerate(dfs):\n",
    "    if i:\n",
    "        df = df.join(f.rename(columns={'PredictionString':'pred'+str(i)}))\n",
    "    else:\n",
    "        df = f.rename(columns={'PredictionString':'pred'+str(i)})"
   ]
  },
  {
   "cell_type": "code",
   "execution_count": 9,
   "metadata": {
    "_uuid": "25a9cf0cf518206ada9383bb1b0506e61e0ce9ad",
    "execution": {
     "iopub.execute_input": "2022-06-24T11:57:19.848231Z",
     "iopub.status.busy": "2022-06-24T11:57:19.847953Z",
     "iopub.status.idle": "2022-06-24T11:57:19.866418Z",
     "shell.execute_reply": "2022-06-24T11:57:19.865584Z",
     "shell.execute_reply.started": "2022-06-24T11:57:19.848157Z"
    }
   },
   "outputs": [],
   "source": [
    "def non_max_suppression(boxes, probs=None, overlapThresh=OTHRESH):\n",
    "\tif len(boxes) == 0:\n",
    "\t\treturn []\n",
    "\tif boxes.dtype.kind == \"i\":\n",
    "\t\tboxes = boxes.astype(\"float\")\n",
    "\n",
    "\tpick = []\n",
    "\n",
    "\tx1 = boxes[:, 0]\n",
    "\ty1 = boxes[:, 1]\n",
    "\tx2 = boxes[:, 2]\n",
    "\ty2 = boxes[:, 3]\n",
    "\n",
    "\tarea = (x2 - x1 + 1) * (y2 - y1 + 1)\n",
    "\tidxs = y2\n",
    "\n",
    "\tif probs is not None:\n",
    "\t\tidxs = probs\n",
    "\n",
    "\tidxs = np.argsort(idxs)\n",
    "\n",
    "\twhile len(idxs) > 0:\n",
    "\t\tlast = len(idxs) - 1\n",
    "\t\ti = idxs[last]\n",
    "\t\tpick.append(i)\n",
    "\n",
    "\t\txx1 = np.maximum(x1[i], x1[idxs[:last]])\n",
    "\t\tyy1 = np.maximum(y1[i], y1[idxs[:last]])\n",
    "\t\txx2 = np.minimum(x2[i], x2[idxs[:last]])\n",
    "\t\tyy2 = np.minimum(y2[i], y2[idxs[:last]])\n",
    "\n",
    "\t\tw = np.maximum(0, xx2 - xx1 + 1)\n",
    "\t\th = np.maximum(0, yy2 - yy1 + 1)\n",
    "\n",
    "\t\toverlap = (w * h) / area[idxs[:last]]\n",
    "\n",
    "\t\tidxs = np.delete(idxs, np.concatenate(([last],\n",
    "\t\t\tnp.where(overlap > overlapThresh)[0])))\n",
    "\n",
    "\treturn boxes[pick].astype(\"int\"), list(np.array(probs)[pick])"
   ]
  },
  {
   "cell_type": "code",
   "execution_count": 10,
   "metadata": {
    "_uuid": "9840ada97d90aec8877c59a5043ee0ab0581bca0",
    "execution": {
     "iopub.execute_input": "2022-06-24T11:57:19.868025Z",
     "iopub.status.busy": "2022-06-24T11:57:19.867731Z",
     "iopub.status.idle": "2022-06-24T11:57:20.33551Z",
     "shell.execute_reply": "2022-06-24T11:57:20.334541Z",
     "shell.execute_reply.started": "2022-06-24T11:57:19.867971Z"
    }
   },
   "outputs": [
    {
     "data": {
      "text/plain": [
       "(1273, 1273)"
      ]
     },
     "execution_count": 10,
     "metadata": {},
     "output_type": "execute_result"
    }
   ],
   "source": [
    "box_dict = {}\n",
    "conf_dict = {}\n",
    "for pat,row in df.iterrows():\n",
    "    boxes = []\n",
    "    confs = []\n",
    "    maxconfs = []\n",
    "    for pred in row:\n",
    "        maxconf = 0.\n",
    "        if isinstance(pred, str):\n",
    "            s = pred.split(' ')\n",
    "            if s[-1]=='':\n",
    "                s.pop()  \n",
    "            if s[0]=='':\n",
    "                s.pop(0)  \n",
    "            if ( len(s)%5 ):\n",
    "                print( 'Bad prediction string.')\n",
    "            while len(s):\n",
    "                conf = float(s.pop(0))\n",
    "                x = int(round(float(s.pop(0))))\n",
    "                y = int(round(float(s.pop(0))))\n",
    "                w = int(round(float(s.pop(0))))\n",
    "                h = int(round(float(s.pop(0))))\n",
    "                if conf>maxconf:\n",
    "                    maxconf = conf\n",
    "                if conf>PTHRESH:\n",
    "                    boxes.append( [x,y,x+w,y+h] )\n",
    "                    confs.append( conf )\n",
    "        maxconfs.append(maxconf)\n",
    "    avgconf = sum(maxconfs)/len(maxconfs)\n",
    "    if len(boxes) and avgconf>AVPTHRESH:\n",
    "        box_dict[pat] = boxes\n",
    "        conf_dict[pat] = confs\n",
    "len(box_dict), len(conf_dict)"
   ]
  },
  {
   "cell_type": "code",
   "execution_count": 11,
   "metadata": {
    "_uuid": "bb0324562dd2828be44a44487b088a0729832816",
    "execution": {
     "iopub.execute_input": "2022-06-24T11:57:20.337189Z",
     "iopub.status.busy": "2022-06-24T11:57:20.336878Z",
     "iopub.status.idle": "2022-06-24T11:57:20.581057Z",
     "shell.execute_reply": "2022-06-24T11:57:20.5802Z",
     "shell.execute_reply.started": "2022-06-24T11:57:20.337115Z"
    }
   },
   "outputs": [],
   "source": [
    "box_dict_nms = {}\n",
    "conf_dict_nms = {}\n",
    "for p in box_dict:\n",
    "    boxes, confs = non_max_suppression(np.array(box_dict[p]), np.array(conf_dict[p]))\n",
    "    box_dict_nms[p] = boxes\n",
    "    conf_dict_nms[p] = confs"
   ]
  },
  {
   "cell_type": "code",
   "execution_count": 12,
   "metadata": {
    "_uuid": "49897e02a2376f91e49bf49bb34081af96afd4a9",
    "execution": {
     "iopub.execute_input": "2022-06-24T11:57:20.582443Z",
     "iopub.status.busy": "2022-06-24T11:57:20.582157Z",
     "iopub.status.idle": "2022-06-24T11:57:20.616538Z",
     "shell.execute_reply": "2022-06-24T11:57:20.615504Z",
     "shell.execute_reply.started": "2022-06-24T11:57:20.582389Z"
    }
   },
   "outputs": [],
   "source": [
    "sub_dict = {}\n",
    "for p in df.index:\n",
    "    predictionString = ''\n",
    "    if p in box_dict_nms:\n",
    "        for box, conf in zip(box_dict_nms[p], conf_dict_nms[p]):\n",
    "            x, y, x2, y2 = box\n",
    "            height = y2 - y\n",
    "            width = x2 - x\n",
    "            predictionString += str(conf) + ' ' + str(x) + ' ' + str(y) + ' ' + str(width) + ' ' + str(height) + ' '\n",
    "    sub_dict[p] = predictionString\n",
    "\n",
    "sub = pd.DataFrame.from_dict(sub_dict,orient='index')\n",
    "sub.index.names = ['patientId']\n",
    "sub.columns = ['PredictionString']\n",
    "phase0_output = sub"
   ]
  },
  {
   "cell_type": "code",
   "execution_count": 13,
   "metadata": {
    "_uuid": "f088a5bcd5ff49dbef93ef1b043c92a5431895b6",
    "execution": {
     "iopub.execute_input": "2022-06-24T11:57:20.621539Z",
     "iopub.status.busy": "2022-06-24T11:57:20.621136Z",
     "iopub.status.idle": "2022-06-24T11:57:20.640956Z",
     "shell.execute_reply": "2022-06-24T11:57:20.640114Z",
     "shell.execute_reply.started": "2022-06-24T11:57:20.621375Z"
    }
   },
   "outputs": [],
   "source": [
    "probs = pd.read_csv(CHEX_CLASS_PRED_PATH)"
   ]
  },
  {
   "cell_type": "code",
   "execution_count": 14,
   "metadata": {
    "_uuid": "6a6171372c211ef73bb69548c2c3c87d01ed27be",
    "execution": {
     "iopub.execute_input": "2022-06-24T11:57:20.64583Z",
     "iopub.status.busy": "2022-06-24T11:57:20.645504Z",
     "iopub.status.idle": "2022-06-24T11:57:20.671025Z",
     "shell.execute_reply": "2022-06-24T11:57:20.670269Z",
     "shell.execute_reply.started": "2022-06-24T11:57:20.645774Z"
    }
   },
   "outputs": [],
   "source": [
    "df = phase0_output.join(probs.set_index('patientId'))\n",
    "out = df.copy()\n",
    "out.loc[df.prob<THRESH,'PredictionString'] = np.nan\n",
    "out.loc[df.PredictionString=='','PredictionString'] = np.nan\n",
    "phase1_output = out.drop(['prob'],axis=1)"
   ]
  },
  {
   "cell_type": "code",
   "execution_count": 15,
   "metadata": {
    "_uuid": "04040d1bf267da053a1c479dcf9da1c5379ba874",
    "execution": {
     "iopub.execute_input": "2022-06-24T11:57:20.674216Z",
     "iopub.status.busy": "2022-06-24T11:57:20.67394Z",
     "iopub.status.idle": "2022-06-24T11:57:20.698321Z",
     "shell.execute_reply": "2022-06-24T11:57:20.697424Z",
     "shell.execute_reply.started": "2022-06-24T11:57:20.674158Z"
    }
   },
   "outputs": [],
   "source": [
    "df1 = pd.read_csv(KERNEL_OUTPUT_PATH).set_index('patientId')\n",
    "df2 = phase1_output\n",
    "df1_cases = df1[~df1.PredictionString.isnull()]\n",
    "df2_cases = df2[~df2.PredictionString.isnull()]\n",
    "df1_pos_ids = df1_cases.index.values\n",
    "df2_pos_ids = df2_cases.index.values"
   ]
  },
  {
   "cell_type": "code",
   "execution_count": 16,
   "metadata": {
    "_uuid": "fc81ee9717ba9ddbec6c2f3389c97136eb863a0d",
    "execution": {
     "iopub.execute_input": "2022-06-24T11:57:20.699798Z",
     "iopub.status.busy": "2022-06-24T11:57:20.699479Z",
     "iopub.status.idle": "2022-06-24T11:57:20.771251Z",
     "shell.execute_reply": "2022-06-24T11:57:20.770571Z",
     "shell.execute_reply.started": "2022-06-24T11:57:20.699745Z"
    }
   },
   "outputs": [],
   "source": [
    "df1_only_dict = {}\n",
    "for p in df1_pos_ids:\n",
    "    if not p in df2_pos_ids:\n",
    "        df1_only_dict[p] = float(df1_cases.loc[p,'PredictionString'].split(' ')[0])"
   ]
  },
  {
   "cell_type": "code",
   "execution_count": 17,
   "metadata": {
    "_uuid": "29fe204c93361c04c4b132d97fa85ecafecdb4d7",
    "execution": {
     "iopub.execute_input": "2022-06-24T11:57:20.772774Z",
     "iopub.status.busy": "2022-06-24T11:57:20.77234Z",
     "iopub.status.idle": "2022-06-24T11:57:20.84586Z",
     "shell.execute_reply": "2022-06-24T11:57:20.844951Z",
     "shell.execute_reply.started": "2022-06-24T11:57:20.772732Z"
    }
   },
   "outputs": [],
   "source": [
    "df2_only_dict = {}\n",
    "for p in df2_pos_ids:\n",
    "    if not p in df1_pos_ids:\n",
    "        df2_only_dict[p] = float(df2_cases.loc[p,'PredictionString'].split(' ')[0])"
   ]
  },
  {
   "cell_type": "code",
   "execution_count": 18,
   "metadata": {
    "_uuid": "be5d6275f441033af7d6922b526ec5a79c99a70d",
    "execution": {
     "iopub.execute_input": "2022-06-24T11:57:20.84715Z",
     "iopub.status.busy": "2022-06-24T11:57:20.846878Z",
     "iopub.status.idle": "2022-06-24T11:57:21.06963Z",
     "shell.execute_reply": "2022-06-24T11:57:21.068544Z",
     "shell.execute_reply.started": "2022-06-24T11:57:20.8471Z"
    }
   },
   "outputs": [],
   "source": [
    "df_out = df1.copy()\n",
    "for p,r in df1.iterrows():\n",
    "    if p in df2_only_dict:\n",
    "        if df2_only_dict[p] > MIN_MAX_MRCNN_CONF:\n",
    "            df_out.loc[p,'PredictionString'] = df2.loc[p,'PredictionString']\n",
    "phase2_output = df_out"
   ]
  },
  {
   "cell_type": "code",
   "execution_count": 19,
   "metadata": {
    "_uuid": "2b9996f27d3fc4f7245f97adaa78acac65e9a2c1",
    "execution": {
     "iopub.execute_input": "2022-06-24T11:57:21.071355Z",
     "iopub.status.busy": "2022-06-24T11:57:21.070935Z",
     "iopub.status.idle": "2022-06-24T11:57:21.093105Z",
     "shell.execute_reply": "2022-06-24T11:57:21.092023Z",
     "shell.execute_reply.started": "2022-06-24T11:57:21.071162Z"
    }
   },
   "outputs": [
    {
     "data": {
      "text/html": [
       "<div>\n",
       "<style scoped>\n",
       "    .dataframe tbody tr th:only-of-type {\n",
       "        vertical-align: middle;\n",
       "    }\n",
       "\n",
       "    .dataframe tbody tr th {\n",
       "        vertical-align: top;\n",
       "    }\n",
       "\n",
       "    .dataframe thead th {\n",
       "        text-align: right;\n",
       "    }\n",
       "</style>\n",
       "<table border=\"1\" class=\"dataframe\">\n",
       "  <thead>\n",
       "    <tr style=\"text-align: right;\">\n",
       "      <th></th>\n",
       "      <th>PredictionString</th>\n",
       "    </tr>\n",
       "    <tr>\n",
       "      <th>patientId</th>\n",
       "      <th></th>\n",
       "    </tr>\n",
       "  </thead>\n",
       "  <tbody>\n",
       "    <tr>\n",
       "      <th>c103f115-266b-4f0c-97d0-082dc2438a27</th>\n",
       "      <td>0.97 612 372 268 416 0.97 240 568 188 184</td>\n",
       "    </tr>\n",
       "    <tr>\n",
       "      <th>2ba3df76-d959-414f-b466-4bc0b4f41135</th>\n",
       "      <td>0.98 188 252 224 252 0.95 588 240 228 340</td>\n",
       "    </tr>\n",
       "    <tr>\n",
       "      <th>1114eeb8-c035-42f4-a038-13a806a568ad</th>\n",
       "      <td>NaN</td>\n",
       "    </tr>\n",
       "    <tr>\n",
       "      <th>2276b258-5b47-4c7d-ab1f-5b2bae4a8fc4</th>\n",
       "      <td>NaN</td>\n",
       "    </tr>\n",
       "    <tr>\n",
       "      <th>23ffe96d-ef6c-4a8f-914e-12754fe689c4</th>\n",
       "      <td>NaN</td>\n",
       "    </tr>\n",
       "  </tbody>\n",
       "</table>\n",
       "</div>"
      ],
      "text/plain": [
       "                                                                PredictionString\n",
       "patientId                                                                       \n",
       "c103f115-266b-4f0c-97d0-082dc2438a27  0.97 612 372 268 416 0.97 240 568 188 184 \n",
       "2ba3df76-d959-414f-b466-4bc0b4f41135  0.98 188 252 224 252 0.95 588 240 228 340 \n",
       "1114eeb8-c035-42f4-a038-13a806a568ad                                         NaN\n",
       "2276b258-5b47-4c7d-ab1f-5b2bae4a8fc4                                         NaN\n",
       "23ffe96d-ef6c-4a8f-914e-12754fe689c4                                         NaN"
      ]
     },
     "execution_count": 19,
     "metadata": {},
     "output_type": "execute_result"
    }
   ],
   "source": [
    "phase2_output.head()"
   ]
  },
  {
   "cell_type": "code",
   "execution_count": 20,
   "metadata": {
    "_uuid": "1e2cee5b4e867157666457c9074ffee5e0b58e20",
    "execution": {
     "iopub.execute_input": "2022-06-24T11:57:21.094743Z",
     "iopub.status.busy": "2022-06-24T11:57:21.094455Z",
     "iopub.status.idle": "2022-06-24T11:57:21.240151Z",
     "shell.execute_reply": "2022-06-24T11:57:21.239183Z",
     "shell.execute_reply.started": "2022-06-24T11:57:21.094691Z"
    }
   },
   "outputs": [],
   "source": [
    "input_dir = RESULTS_LOC\n",
    "infile_stem = OOF_INFILE_STEM\n",
    "oof_preds_input = []\n",
    "for ifold in range( N_FOLDS ):\n",
    "    fp_in = os.path.join(input_dir, infile_stem + str(ifold) + IN_OOF_SUFFIX)\n",
    "    oof_preds_input.append( pd.read_csv(fp_in) )\n",
    "    oof_preds_input[-1]['fold'] = ifold\n",
    "oof_preds = pd.concat(oof_preds_input).set_index('patientId')"
   ]
  },
  {
   "cell_type": "code",
   "execution_count": 21,
   "metadata": {
    "_uuid": "01aedb64f3a7968a45d41671946686432198b4a6",
    "execution": {
     "iopub.execute_input": "2022-06-24T11:57:21.241749Z",
     "iopub.status.busy": "2022-06-24T11:57:21.241349Z",
     "iopub.status.idle": "2022-06-24T11:57:26.667429Z",
     "shell.execute_reply": "2022-06-24T11:57:26.666606Z",
     "shell.execute_reply.started": "2022-06-24T11:57:21.241587Z"
    }
   },
   "outputs": [],
   "source": [
    "probs_dict = {}\n",
    "for p, r in oof_preds.iterrows():\n",
    "    probs_dict[p] = MINPROB\n",
    "oof_positive = oof_preds[~oof_preds.PredictionString.isnull()]\n",
    "for p, r in oof_positive.iterrows():\n",
    "    s = r.PredictionString.split(' ')\n",
    "    if s[-1]=='':\n",
    "        s.pop()  \n",
    "    if s[0]=='':\n",
    "        s.pop(0)  \n",
    "    if ( len(s)%5 ):\n",
    "        print( 'Bad prediction string.')\n",
    "    while len(s):\n",
    "        conf = float(s.pop(0))\n",
    "        x = int(round(float(s.pop(0))))\n",
    "        y = int(round(float(s.pop(0))))\n",
    "        w = int(round(float(s.pop(0))))\n",
    "        h = int(round(float(s.pop(0))))\n",
    "        if conf>probs_dict[p]:\n",
    "            probs_dict[p] = conf\n",
    "prob_df = pd.DataFrame(probs_dict,index=['prob']).transpose()"
   ]
  },
  {
   "cell_type": "code",
   "execution_count": 22,
   "metadata": {
    "_uuid": "cf526d2e378d27e023a78af4b7ca3e168eb40ca8",
    "execution": {
     "iopub.execute_input": "2022-06-24T11:57:26.668597Z",
     "iopub.status.busy": "2022-06-24T11:57:26.668357Z",
     "iopub.status.idle": "2022-06-24T11:57:26.766906Z",
     "shell.execute_reply": "2022-06-24T11:57:26.765985Z",
     "shell.execute_reply.started": "2022-06-24T11:57:26.668542Z"
    }
   },
   "outputs": [],
   "source": [
    "input_dir = RAW_DATA_LOC\n",
    "fp = os.path.join(input_dir, 'stage_2_train_labels.csv')\n",
    "act = pd.read_csv(fp).set_index('patientId').rename(columns={'Target':'actual'})[['actual']]\n",
    "act = act[~act.index.duplicated()]"
   ]
  },
  {
   "cell_type": "code",
   "execution_count": 23,
   "metadata": {
    "_uuid": "927b75661763e4cb60d8bc707564999a4e89a112",
    "execution": {
     "iopub.execute_input": "2022-06-24T11:57:26.768243Z",
     "iopub.status.busy": "2022-06-24T11:57:26.76795Z",
     "iopub.status.idle": "2022-06-24T11:57:26.802405Z",
     "shell.execute_reply": "2022-06-24T11:57:26.801582Z",
     "shell.execute_reply.started": "2022-06-24T11:57:26.768185Z"
    }
   },
   "outputs": [
    {
     "data": {
      "text/html": [
       "<div>\n",
       "<style scoped>\n",
       "    .dataframe tbody tr th:only-of-type {\n",
       "        vertical-align: middle;\n",
       "    }\n",
       "\n",
       "    .dataframe tbody tr th {\n",
       "        vertical-align: top;\n",
       "    }\n",
       "\n",
       "    .dataframe thead th {\n",
       "        text-align: right;\n",
       "    }\n",
       "</style>\n",
       "<table border=\"1\" class=\"dataframe\">\n",
       "  <thead>\n",
       "    <tr style=\"text-align: right;\">\n",
       "      <th></th>\n",
       "      <th>actual</th>\n",
       "      <th>prob</th>\n",
       "    </tr>\n",
       "  </thead>\n",
       "  <tbody>\n",
       "    <tr>\n",
       "      <th>ea0f76a2-08d3-4273-b9c3-1253483fa647</th>\n",
       "      <td>0</td>\n",
       "      <td>0.9259</td>\n",
       "    </tr>\n",
       "    <tr>\n",
       "      <th>e3cacb25-a167-4e17-b869-dcabef2f2baa</th>\n",
       "      <td>0</td>\n",
       "      <td>0.9683</td>\n",
       "    </tr>\n",
       "    <tr>\n",
       "      <th>63396b9b-b228-4fe6-8aeb-5cd4862c15f5</th>\n",
       "      <td>0</td>\n",
       "      <td>0.9030</td>\n",
       "    </tr>\n",
       "    <tr>\n",
       "      <th>dae4e147-89d1-4110-bbeb-90ac76ede50a</th>\n",
       "      <td>1</td>\n",
       "      <td>0.9594</td>\n",
       "    </tr>\n",
       "    <tr>\n",
       "      <th>a7a95de8-1075-49df-a0ed-edc1baca084d</th>\n",
       "      <td>1</td>\n",
       "      <td>0.9807</td>\n",
       "    </tr>\n",
       "  </tbody>\n",
       "</table>\n",
       "</div>"
      ],
      "text/plain": [
       "                                      actual    prob\n",
       "ea0f76a2-08d3-4273-b9c3-1253483fa647       0  0.9259\n",
       "e3cacb25-a167-4e17-b869-dcabef2f2baa       0  0.9683\n",
       "63396b9b-b228-4fe6-8aeb-5cd4862c15f5       0  0.9030\n",
       "dae4e147-89d1-4110-bbeb-90ac76ede50a       1  0.9594\n",
       "a7a95de8-1075-49df-a0ed-edc1baca084d       1  0.9807"
      ]
     },
     "execution_count": 23,
     "metadata": {},
     "output_type": "execute_result"
    }
   ],
   "source": [
    "df = act.join(prob_df,how='right')  \n",
    "df.head()"
   ]
  },
  {
   "cell_type": "code",
   "execution_count": 24,
   "metadata": {
    "_uuid": "faa4715e8c33e83932695f8b5132a548bb972fe0",
    "execution": {
     "iopub.execute_input": "2022-06-24T11:57:26.803513Z",
     "iopub.status.busy": "2022-06-24T11:57:26.803278Z",
     "iopub.status.idle": "2022-06-24T11:57:26.877972Z",
     "shell.execute_reply": "2022-06-24T11:57:26.876825Z",
     "shell.execute_reply.started": "2022-06-24T11:57:26.803471Z"
    }
   },
   "outputs": [
    {
     "data": {
      "text/plain": [
       "(-5.812614116759858, 1.488076663905564)"
      ]
     },
     "execution_count": 24,
     "metadata": {},
     "output_type": "execute_result"
    }
   ],
   "source": [
    "rawprobs = df.prob.values.reshape(-1,1)\n",
    "lr = LogisticRegression(C=C1)\n",
    "lr.fit(logit(rawprobs),df.actual)\n",
    "b1 = lr.coef_[0,0]\n",
    "b0 = lr.intercept_[0]\n",
    "b0, b1"
   ]
  },
  {
   "cell_type": "code",
   "execution_count": 25,
   "metadata": {
    "_uuid": "733313ae6904e51e9558df4016d04520b85300d0",
    "execution": {
     "iopub.execute_input": "2022-06-24T11:57:26.879298Z",
     "iopub.status.busy": "2022-06-24T11:57:26.879051Z",
     "iopub.status.idle": "2022-06-24T11:57:26.893597Z",
     "shell.execute_reply": "2022-06-24T11:57:26.8929Z",
     "shell.execute_reply.started": "2022-06-24T11:57:26.879254Z"
    }
   },
   "outputs": [],
   "source": [
    "folds = []\n",
    "for ifold in range(N_FOLDS):\n",
    "    folds.append( oof_preds[oof_preds.fold==ifold].index.values )"
   ]
  },
  {
   "cell_type": "code",
   "execution_count": 26,
   "metadata": {
    "_uuid": "a254bc2cce2af1b2db0788d0bd1b21abafbc11f8",
    "execution": {
     "iopub.execute_input": "2022-06-24T11:57:26.894618Z",
     "iopub.status.busy": "2022-06-24T11:57:26.894392Z",
     "iopub.status.idle": "2022-06-24T11:57:26.906816Z",
     "shell.execute_reply": "2022-06-24T11:57:26.906061Z",
     "shell.execute_reply.started": "2022-06-24T11:57:26.894583Z"
    }
   },
   "outputs": [],
   "source": [
    "def run_logistic_by_fold():\n",
    "    df = act.join(prob_df,how='right')   \n",
    "    logits = df.prob.apply(logit)\n",
    "    df['oofprob'] = np.nan\n",
    "    b1 = []\n",
    "    b0 = []\n",
    "    for i in range(len(folds)):\n",
    "\n",
    "        fs = folds.copy()\n",
    "        te = fs.pop(i)  \n",
    "        tr = np.concatenate(fs)  \n",
    "\n",
    "        Xtr = logits[tr].values.reshape(-1,1)\n",
    "        Xte = logits[te].values.reshape(-1,1)\n",
    "        ytr = df.actual[tr].copy()\n",
    "        yte = df.actual[te].copy()\n",
    "\n",
    "        lr.fit(Xtr, ytr)\n",
    "        df.loc[te,'oofprob'] = lr.predict_proba(Xte)[:,1]\n",
    "        b1.append(lr.coef_[0,0])\n",
    "        b0.append(lr.intercept_[0])\n",
    "\n",
    "    coefs = pd.DataFrame( {'b0':b0, 'b1':b1}, index=range(len(folds)) )\n",
    "    coefs.index.name = 'fold'\n",
    "\n",
    "    return( df.sort_values('oofprob'), coefs )   "
   ]
  },
  {
   "cell_type": "code",
   "execution_count": 27,
   "metadata": {
    "_uuid": "8c7a6adc99e0ea98483573d8b233d729b8411438",
    "execution": {
     "iopub.execute_input": "2022-06-24T11:57:26.908098Z",
     "iopub.status.busy": "2022-06-24T11:57:26.907803Z",
     "iopub.status.idle": "2022-06-24T11:57:26.920476Z",
     "shell.execute_reply": "2022-06-24T11:57:26.919736Z",
     "shell.execute_reply.started": "2022-06-24T11:57:26.908034Z"
    }
   },
   "outputs": [],
   "source": [
    "lr = LogisticRegression(C=C2)"
   ]
  },
  {
   "cell_type": "code",
   "execution_count": 28,
   "metadata": {
    "_uuid": "9c4e2feccefbb7afdcdae4b3781b650e52fea098",
    "execution": {
     "iopub.execute_input": "2022-06-24T11:57:26.921653Z",
     "iopub.status.busy": "2022-06-24T11:57:26.921357Z",
     "iopub.status.idle": "2022-06-24T11:57:27.175395Z",
     "shell.execute_reply": "2022-06-24T11:57:27.174562Z",
     "shell.execute_reply.started": "2022-06-24T11:57:26.921606Z"
    }
   },
   "outputs": [],
   "source": [
    "df, coefs = run_logistic_by_fold()"
   ]
  },
  {
   "cell_type": "code",
   "execution_count": 29,
   "metadata": {
    "_uuid": "bc428db44073707901edba633ee560d90e68bb4b",
    "execution": {
     "iopub.execute_input": "2022-06-24T11:57:27.176927Z",
     "iopub.status.busy": "2022-06-24T11:57:27.176638Z",
     "iopub.status.idle": "2022-06-24T11:57:33.649149Z",
     "shell.execute_reply": "2022-06-24T11:57:33.648598Z",
     "shell.execute_reply.started": "2022-06-24T11:57:27.176873Z"
    }
   },
   "outputs": [
    {
     "data": {
      "text/html": [
       "<div>\n",
       "<style scoped>\n",
       "    .dataframe tbody tr th:only-of-type {\n",
       "        vertical-align: middle;\n",
       "    }\n",
       "\n",
       "    .dataframe tbody tr th {\n",
       "        vertical-align: top;\n",
       "    }\n",
       "\n",
       "    .dataframe thead th {\n",
       "        text-align: right;\n",
       "    }\n",
       "</style>\n",
       "<table border=\"1\" class=\"dataframe\">\n",
       "  <thead>\n",
       "    <tr style=\"text-align: right;\">\n",
       "      <th></th>\n",
       "      <th>PredictionString</th>\n",
       "      <th>fold</th>\n",
       "    </tr>\n",
       "    <tr>\n",
       "      <th>patientId</th>\n",
       "      <th></th>\n",
       "      <th></th>\n",
       "    </tr>\n",
       "  </thead>\n",
       "  <tbody>\n",
       "    <tr>\n",
       "      <th>ea0f76a2-08d3-4273-b9c3-1253483fa647</th>\n",
       "      <td>0.1321 280 432 152 192 0.0525 628 496 200 192</td>\n",
       "      <td>0</td>\n",
       "    </tr>\n",
       "    <tr>\n",
       "      <th>e3cacb25-a167-4e17-b869-dcabef2f2baa</th>\n",
       "      <td>0.3108 188 500 216 268 0.0329 592 496 236 304</td>\n",
       "      <td>0</td>\n",
       "    </tr>\n",
       "    <tr>\n",
       "      <th>63396b9b-b228-4fe6-8aeb-5cd4862c15f5</th>\n",
       "      <td>0.0962 576 460 292 308 0.0461 224 500 168 216</td>\n",
       "      <td>0</td>\n",
       "    </tr>\n",
       "    <tr>\n",
       "      <th>dae4e147-89d1-4110-bbeb-90ac76ede50a</th>\n",
       "      <td>0.2482 568 232 224 556 0.1095 264 548 144 212</td>\n",
       "      <td>0</td>\n",
       "    </tr>\n",
       "    <tr>\n",
       "      <th>a7a95de8-1075-49df-a0ed-edc1baca084d</th>\n",
       "      <td>0.4556 640 384 224 284 0.0809 316 412 188 212</td>\n",
       "      <td>0</td>\n",
       "    </tr>\n",
       "  </tbody>\n",
       "</table>\n",
       "</div>"
      ],
      "text/plain": [
       "                                                                    PredictionString  fold\n",
       "patientId                                                                                 \n",
       "ea0f76a2-08d3-4273-b9c3-1253483fa647  0.1321 280 432 152 192 0.0525 628 496 200 192      0\n",
       "e3cacb25-a167-4e17-b869-dcabef2f2baa  0.3108 188 500 216 268 0.0329 592 496 236 304      0\n",
       "63396b9b-b228-4fe6-8aeb-5cd4862c15f5  0.0962 576 460 292 308 0.0461 224 500 168 216      0\n",
       "dae4e147-89d1-4110-bbeb-90ac76ede50a  0.2482 568 232 224 556 0.1095 264 548 144 212      0\n",
       "a7a95de8-1075-49df-a0ed-edc1baca084d  0.4556 640 384 224 284 0.0809 316 412 188 212      0"
      ]
     },
     "execution_count": 29,
     "metadata": {},
     "output_type": "execute_result"
    }
   ],
   "source": [
    "pat_dict = {}\n",
    "fold_dict = {}\n",
    "for pat,row in oof_preds.iterrows():\n",
    "    fold = row.fold\n",
    "    pred = row.PredictionString\n",
    "    boxes = []\n",
    "    confs = []\n",
    "    if isinstance(pred, str):\n",
    "        s = pred.split(' ')\n",
    "        if s[-1]=='':\n",
    "            s.pop()  \n",
    "        if s[0]=='':\n",
    "            s.pop(0)  \n",
    "        if ( len(s)%5 ):\n",
    "            print( 'Bad prediction string.')\n",
    "        b0 = coefs.b0[fold]\n",
    "        b1 = coefs.b1[fold]\n",
    "        while len(s):\n",
    "            conf = float(s.pop(0))\n",
    "            x = int(round(float(s.pop(0))))\n",
    "            y = int(round(float(s.pop(0))))\n",
    "            w = int(round(float(s.pop(0))))\n",
    "            h = int(round(float(s.pop(0))))\n",
    "            boxes.append( [x,y,w,h] )\n",
    "            confs.append( expit( b0+b1*logit(conf) ) )\n",
    "    predictionString = ''\n",
    "    if len(boxes):\n",
    "        for box, conf in zip(boxes, confs):\n",
    "            x, y, w, h = box\n",
    "            predictionString += '{:6.4f} '.format(conf)\n",
    "            predictionString += str(x) + ' ' + str(y) + ' ' + str(w) + ' ' + str(h) + ' '\n",
    "    pat_dict[pat] = predictionString\n",
    "    fold_dict[pat] = fold\n",
    "xform_oof_preds = pd.DataFrame(pat_dict, \n",
    "                               index=['PredictionString']).transpose()\n",
    "xform_oof_preds.index.name = 'patientId'\n",
    "xform_oof_preds['fold'] = [fold_dict[x] for x in xform_oof_preds.index.values]\n",
    "xform_oof_preds.head()"
   ]
  },
  {
   "cell_type": "code",
   "execution_count": 30,
   "metadata": {
    "_uuid": "1457f6398e687c28f0eabec201329542da4d73c7",
    "execution": {
     "iopub.execute_input": "2022-06-24T11:57:33.650305Z",
     "iopub.status.busy": "2022-06-24T11:57:33.649969Z",
     "iopub.status.idle": "2022-06-24T11:57:33.972919Z",
     "shell.execute_reply": "2022-06-24T11:57:33.972133Z",
     "shell.execute_reply.started": "2022-06-24T11:57:33.650268Z"
    }
   },
   "outputs": [],
   "source": [
    "output_dir = OUTPUT_LOC\n",
    "xform_oof_preds.to_csv(os.path.join(output_dir, OOF_OUTFILE_NAME))"
   ]
  },
  {
   "cell_type": "code",
   "execution_count": 31,
   "metadata": {
    "_uuid": "081c6716aa862a94e8d9a902a5f145a4ef7d9d56",
    "execution": {
     "iopub.execute_input": "2022-06-24T11:57:33.974733Z",
     "iopub.status.busy": "2022-06-24T11:57:33.974293Z",
     "iopub.status.idle": "2022-06-24T11:57:33.97914Z",
     "shell.execute_reply": "2022-06-24T11:57:33.977747Z",
     "shell.execute_reply.started": "2022-06-24T11:57:33.974515Z"
    }
   },
   "outputs": [],
   "source": [
    "input_dir = RESULTS_LOC\n",
    "output_dir = OUTPUT_LOC\n",
    "infile_stem = TEST_INFILE_STEM\n",
    "outfile_stem = TEST_OUTFILE_STEM"
   ]
  },
  {
   "cell_type": "code",
   "execution_count": 32,
   "metadata": {
    "_uuid": "abfa4ab252446f0e1deeea3521c9a0ba562c5117",
    "execution": {
     "iopub.execute_input": "2022-06-24T11:57:33.980498Z",
     "iopub.status.busy": "2022-06-24T11:57:33.980246Z",
     "iopub.status.idle": "2022-06-24T11:57:37.055823Z",
     "shell.execute_reply": "2022-06-24T11:57:37.054914Z",
     "shell.execute_reply.started": "2022-06-24T11:57:33.980457Z"
    }
   },
   "outputs": [
    {
     "data": {
      "text/plain": [
       "'./temp_mrcnn_v10a1f_out4.csv'"
      ]
     },
     "execution_count": 32,
     "metadata": {},
     "output_type": "execute_result"
    }
   ],
   "source": [
    "for ifold in range(N_FOLDS):\n",
    "    \n",
    "    fp_in = os.path.join(input_dir, infile_stem + str(ifold) + IN_SUFFIX)\n",
    "    fp_out = os.path.join(output_dir, outfile_stem + str(ifold) + OUT_SUFFIX)\n",
    "    inpreds = pd.read_csv(fp_in).set_index('patientId')\n",
    "    pat_dict = {}\n",
    "\n",
    "    for pat,row in inpreds.iterrows():\n",
    "        pred = row.PredictionString\n",
    "        boxes = []\n",
    "        confs = []\n",
    "        if isinstance(pred, str):\n",
    "            s = pred.split(' ')\n",
    "            if s[-1]=='':\n",
    "                s.pop()  # remove terminating null\n",
    "            if s[0]=='':\n",
    "                s.pop(0)  # remove initial null\n",
    "            if ( len(s)%5 ):\n",
    "                print( 'Bad prediction string.')\n",
    "            while len(s):\n",
    "                conf = float(s.pop(0))\n",
    "                x = int(round(float(s.pop(0))))\n",
    "                y = int(round(float(s.pop(0))))\n",
    "                w = int(round(float(s.pop(0))))\n",
    "                h = int(round(float(s.pop(0))))\n",
    "                boxes.append( [x,y,w,h] )\n",
    "                confs.append( expit( b0+b1*logit(conf) ) )\n",
    "        predictionString = ''\n",
    "        if len(boxes):\n",
    "            for box, conf in zip(boxes, confs):\n",
    "                x, y, w, h = box\n",
    "                predictionString += '{:6.4f} '.format(conf)\n",
    "                predictionString += str(x) + ' ' + str(y) + ' ' + str(w) + ' ' + str(h) + ' '\n",
    "        pat_dict[pat] = predictionString\n",
    "    outpreds = pd.DataFrame(pat_dict, \n",
    "                            index=['PredictionString']).transpose()\n",
    "    outpreds.index.name = 'patientId'\n",
    "    outpreds.to_csv(fp_out)\n",
    "fp_out"
   ]
  },
  {
   "cell_type": "code",
   "execution_count": 33,
   "metadata": {
    "_uuid": "1d9555f8a35f55e11b050b8a80abb02b1aecfe4f",
    "execution": {
     "iopub.execute_input": "2022-06-24T11:57:37.057095Z",
     "iopub.status.busy": "2022-06-24T11:57:37.056838Z",
     "iopub.status.idle": "2022-06-24T11:57:37.313084Z",
     "shell.execute_reply": "2022-06-24T11:57:37.312096Z",
     "shell.execute_reply.started": "2022-06-24T11:57:37.05705Z"
    }
   },
   "outputs": [
    {
     "data": {
      "text/html": [
       "<div>\n",
       "<style scoped>\n",
       "    .dataframe tbody tr th:only-of-type {\n",
       "        vertical-align: middle;\n",
       "    }\n",
       "\n",
       "    .dataframe tbody tr th {\n",
       "        vertical-align: top;\n",
       "    }\n",
       "\n",
       "    .dataframe thead th {\n",
       "        text-align: right;\n",
       "    }\n",
       "</style>\n",
       "<table border=\"1\" class=\"dataframe\">\n",
       "  <thead>\n",
       "    <tr style=\"text-align: right;\">\n",
       "      <th></th>\n",
       "      <th>prob</th>\n",
       "      <th>fold</th>\n",
       "    </tr>\n",
       "    <tr>\n",
       "      <th>patientId</th>\n",
       "      <th></th>\n",
       "      <th></th>\n",
       "    </tr>\n",
       "  </thead>\n",
       "  <tbody>\n",
       "    <tr>\n",
       "      <th>ea0f76a2-08d3-4273-b9c3-1253483fa647</th>\n",
       "      <td>0.132091</td>\n",
       "      <td>0</td>\n",
       "    </tr>\n",
       "    <tr>\n",
       "      <th>e3cacb25-a167-4e17-b869-dcabef2f2baa</th>\n",
       "      <td>0.310763</td>\n",
       "      <td>0</td>\n",
       "    </tr>\n",
       "    <tr>\n",
       "      <th>63396b9b-b228-4fe6-8aeb-5cd4862c15f5</th>\n",
       "      <td>0.096197</td>\n",
       "      <td>0</td>\n",
       "    </tr>\n",
       "    <tr>\n",
       "      <th>dae4e147-89d1-4110-bbeb-90ac76ede50a</th>\n",
       "      <td>0.248165</td>\n",
       "      <td>0</td>\n",
       "    </tr>\n",
       "    <tr>\n",
       "      <th>a7a95de8-1075-49df-a0ed-edc1baca084d</th>\n",
       "      <td>0.455566</td>\n",
       "      <td>0</td>\n",
       "    </tr>\n",
       "  </tbody>\n",
       "</table>\n",
       "</div>"
      ],
      "text/plain": [
       "                                          prob  fold\n",
       "patientId                                           \n",
       "ea0f76a2-08d3-4273-b9c3-1253483fa647  0.132091     0\n",
       "e3cacb25-a167-4e17-b869-dcabef2f2baa  0.310763     0\n",
       "63396b9b-b228-4fe6-8aeb-5cd4862c15f5  0.096197     0\n",
       "dae4e147-89d1-4110-bbeb-90ac76ede50a  0.248165     0\n",
       "a7a95de8-1075-49df-a0ed-edc1baca084d  0.455566     0"
      ]
     },
     "execution_count": 33,
     "metadata": {},
     "output_type": "execute_result"
    }
   ],
   "source": [
    "outprobs = prob_df.join(oof_preds[['fold']])\n",
    "b0_ = coefs.b0[outprobs.fold].values\n",
    "b1_ = coefs.b1[outprobs.fold].values\n",
    "outprobs['prob'] =  expit( b0_ + logit(outprobs.prob)*b1_ )\n",
    "outprobs.index.name = 'patientId'\n",
    "output_dir = OUTPUT_LOC\n",
    "outprobs.to_csv(os.path.join(output_dir, OOF_CLASS_PROBS_OUTFILE))\n",
    "outprobs.head()"
   ]
  },
  {
   "cell_type": "code",
   "execution_count": 34,
   "metadata": {
    "_uuid": "285df54677fcd8fad7e3f952f0541a21fa633699",
    "execution": {
     "iopub.execute_input": "2022-06-24T11:57:37.314631Z",
     "iopub.status.busy": "2022-06-24T11:57:37.314344Z",
     "iopub.status.idle": "2022-06-24T11:57:40.615154Z",
     "shell.execute_reply": "2022-06-24T11:57:40.614179Z",
     "shell.execute_reply.started": "2022-06-24T11:57:37.314561Z"
    }
   },
   "outputs": [],
   "source": [
    "output_dir = OUTPUT_LOC\n",
    "box_outfile_stem = TEST_OUTFILE_STEM\n",
    "probs_outfile_stem = TEST_CLASS_PROBS_OUTFILE_STEM\n",
    "minprob_out = expit( b0 + b1*logit(MINPROB))\n",
    "\n",
    "for ifold in range(N_FOLDS):\n",
    "    \n",
    "    fp_in = os.path.join(output_dir, box_outfile_stem + str(ifold) + OUT_SUFFIX)\n",
    "    inpreds = pd.read_csv(fp_in).set_index('patientId')\n",
    "    fp_out = os.path.join(output_dir, probs_outfile_stem + str(ifold) + OUT_SUFFIX)\n",
    "\n",
    "    probs_dict = {}\n",
    "\n",
    "    for p, r in inpreds.iterrows():\n",
    "        probs_dict[p] = minprob_out\n",
    "    inpreds_positive = inpreds[~inpreds.PredictionString.isnull()]\n",
    "    for p, r in inpreds_positive.iterrows():\n",
    "        s = r.PredictionString.split(' ')\n",
    "        if s[-1]=='':\n",
    "            s.pop()  \n",
    "        if s[0]=='':\n",
    "            s.pop(0)  \n",
    "        if ( len(s)%5 ):\n",
    "            print( 'Bad prediction string.')\n",
    "        while len(s):\n",
    "            conf = float(s.pop(0))\n",
    "            s.pop(0)\n",
    "            s.pop(0)\n",
    "            s.pop(0)\n",
    "            s.pop(0)\n",
    "            if conf>probs_dict[p]:\n",
    "                probs_dict[p] = conf\n",
    "    outprob_df = pd.DataFrame(probs_dict,index=['prob']).transpose()\n",
    "    outprob_df.index.name = 'patientId'\n",
    "    outprob_df.to_csv(fp_out)\n",
    "    if not ifold:\n",
    "        allprobs_df = outprob_df.rename(columns={'prob':ifold})\n",
    "    else:\n",
    "        allprobs_df = allprobs_df.join(outprob_df.rename(columns={'prob':ifold}))"
   ]
  },
  {
   "cell_type": "code",
   "execution_count": 35,
   "metadata": {
    "_uuid": "aedbcbe5543bc347c965ae0ef8bd79af861b7665",
    "execution": {
     "iopub.execute_input": "2022-06-24T11:57:40.61646Z",
     "iopub.status.busy": "2022-06-24T11:57:40.616228Z",
     "iopub.status.idle": "2022-06-24T11:57:40.656683Z",
     "shell.execute_reply": "2022-06-24T11:57:40.655919Z",
     "shell.execute_reply.started": "2022-06-24T11:57:40.616419Z"
    }
   },
   "outputs": [],
   "source": [
    "fp = OOF_CLASS_PROBS_OUTFILE\n",
    "oof_probs_mrcnn = pd.read_csv(fp).set_index('patientId').rename(columns={'prob':'ph'})"
   ]
  },
  {
   "cell_type": "code",
   "execution_count": 36,
   "metadata": {
    "_uuid": "fedea86d808e5d6877f73c319f98b7991f099086",
    "execution": {
     "iopub.execute_input": "2022-06-24T11:57:40.657951Z",
     "iopub.status.busy": "2022-06-24T11:57:40.657714Z",
     "iopub.status.idle": "2022-06-24T11:57:40.702537Z",
     "shell.execute_reply": "2022-06-24T11:57:40.701843Z",
     "shell.execute_reply.started": "2022-06-24T11:57:40.657908Z"
    }
   },
   "outputs": [],
   "source": [
    "for i in range(N_FOLDS):\n",
    "    fp = TEST_CLASS_PROBS_OUTFILE_STEM + str(i) + '.csv'\n",
    "    indf = pd.read_csv(fp).set_index('patientId').rename(columns={'prob':'ph'+str(i)})\n",
    "    if i:\n",
    "        test_prob_df = test_prob_df.join(indf)\n",
    "    else:\n",
    "        test_prob_df = indf"
   ]
  },
  {
   "cell_type": "code",
   "execution_count": 37,
   "metadata": {
    "_uuid": "efcf9a10816583c37bfd91cdc54993f73a541c0f",
    "execution": {
     "iopub.execute_input": "2022-06-24T11:57:40.703748Z",
     "iopub.status.busy": "2022-06-24T11:57:40.703493Z",
     "iopub.status.idle": "2022-06-24T11:57:40.725638Z",
     "shell.execute_reply": "2022-06-24T11:57:40.724704Z",
     "shell.execute_reply.started": "2022-06-24T11:57:40.703706Z"
    }
   },
   "outputs": [
    {
     "data": {
      "text/html": [
       "<div>\n",
       "<style scoped>\n",
       "    .dataframe tbody tr th:only-of-type {\n",
       "        vertical-align: middle;\n",
       "    }\n",
       "\n",
       "    .dataframe tbody tr th {\n",
       "        vertical-align: top;\n",
       "    }\n",
       "\n",
       "    .dataframe thead th {\n",
       "        text-align: right;\n",
       "    }\n",
       "</style>\n",
       "<table border=\"1\" class=\"dataframe\">\n",
       "  <thead>\n",
       "    <tr style=\"text-align: right;\">\n",
       "      <th></th>\n",
       "      <th>ph0</th>\n",
       "      <th>ph1</th>\n",
       "      <th>ph2</th>\n",
       "      <th>ph3</th>\n",
       "      <th>ph4</th>\n",
       "    </tr>\n",
       "    <tr>\n",
       "      <th>patientId</th>\n",
       "      <th></th>\n",
       "      <th></th>\n",
       "      <th></th>\n",
       "      <th></th>\n",
       "      <th></th>\n",
       "    </tr>\n",
       "  </thead>\n",
       "  <tbody>\n",
       "    <tr>\n",
       "      <th>30451f0f-6692-4633-b234-94ae2b5960de</th>\n",
       "      <td>0.3098</td>\n",
       "      <td>0.3925</td>\n",
       "      <td>0.232100</td>\n",
       "      <td>0.2020</td>\n",
       "      <td>0.3391</td>\n",
       "    </tr>\n",
       "    <tr>\n",
       "      <th>28debac6-3823-4e02-bc83-3fbb9ded1718</th>\n",
       "      <td>0.3363</td>\n",
       "      <td>0.4108</td>\n",
       "      <td>0.229700</td>\n",
       "      <td>0.3239</td>\n",
       "      <td>0.4751</td>\n",
       "    </tr>\n",
       "    <tr>\n",
       "      <th>c0ec3097-a14b-4ee2-9547-c0d2532f2e62</th>\n",
       "      <td>0.2473</td>\n",
       "      <td>0.4535</td>\n",
       "      <td>0.216700</td>\n",
       "      <td>0.2501</td>\n",
       "      <td>0.3050</td>\n",
       "    </tr>\n",
       "    <tr>\n",
       "      <th>2e5ab719-7447-4d3f-95f8-5ed5c8c736a1</th>\n",
       "      <td>0.2704</td>\n",
       "      <td>0.4160</td>\n",
       "      <td>0.216700</td>\n",
       "      <td>0.4212</td>\n",
       "      <td>0.4334</td>\n",
       "    </tr>\n",
       "    <tr>\n",
       "      <th>1d0ce799-81bb-40be-8e92-4b1783906cc9</th>\n",
       "      <td>0.2484</td>\n",
       "      <td>0.0748</td>\n",
       "      <td>0.019257</td>\n",
       "      <td>0.0867</td>\n",
       "      <td>0.1869</td>\n",
       "    </tr>\n",
       "  </tbody>\n",
       "</table>\n",
       "</div>"
      ],
      "text/plain": [
       "                                         ph0     ph1   ...       ph3     ph4\n",
       "patientId                                              ...                  \n",
       "30451f0f-6692-4633-b234-94ae2b5960de  0.3098  0.3925   ...    0.2020  0.3391\n",
       "28debac6-3823-4e02-bc83-3fbb9ded1718  0.3363  0.4108   ...    0.3239  0.4751\n",
       "c0ec3097-a14b-4ee2-9547-c0d2532f2e62  0.2473  0.4535   ...    0.2501  0.3050\n",
       "2e5ab719-7447-4d3f-95f8-5ed5c8c736a1  0.2704  0.4160   ...    0.4212  0.4334\n",
       "1d0ce799-81bb-40be-8e92-4b1783906cc9  0.2484  0.0748   ...    0.0867  0.1869\n",
       "\n",
       "[5 rows x 5 columns]"
      ]
     },
     "execution_count": 37,
     "metadata": {},
     "output_type": "execute_result"
    }
   ],
   "source": [
    "test_prob_df.head()"
   ]
  },
  {
   "cell_type": "code",
   "execution_count": 38,
   "metadata": {
    "_uuid": "a3ae143f8516887589de6000e8e9f8685b28fe18",
    "execution": {
     "iopub.execute_input": "2022-06-24T11:57:40.761243Z",
     "iopub.status.busy": "2022-06-24T11:57:40.760979Z",
     "iopub.status.idle": "2022-06-24T11:57:40.8663Z",
     "shell.execute_reply": "2022-06-24T11:57:40.865512Z",
     "shell.execute_reply.started": "2022-06-24T11:57:40.761192Z"
    }
   },
   "outputs": [],
   "source": [
    "f0 = pd.read_csv(RESULTS_LOC + '/' + ADEMSE_OOF_STEM + '0.csv').set_index('patientId')\n",
    "f1 = pd.read_csv(RESULTS_LOC + '/' + ADEMSE_OOF_STEM + '1.csv').set_index('patientId')\n",
    "f2 = pd.read_csv(RESULTS_LOC + '/' + ADEMSE_OOF_STEM + '2.csv').set_index('patientId')\n",
    "f3 = pd.read_csv(RESULTS_LOC + '/' + ADEMSE_OOF_STEM + '3.csv').set_index('patientId')\n",
    "f4 = pd.read_csv(RESULTS_LOC + '/' + ADEMSE_OOF_STEM + '4.csv').set_index('patientId')"
   ]
  },
  {
   "cell_type": "code",
   "execution_count": 39,
   "metadata": {
    "_uuid": "05fd20fa71b47295e2af503f2e21e74c1953a4e8",
    "execution": {
     "iopub.execute_input": "2022-06-24T11:57:40.867597Z",
     "iopub.status.busy": "2022-06-24T11:57:40.867307Z",
     "iopub.status.idle": "2022-06-24T11:57:40.887808Z",
     "shell.execute_reply": "2022-06-24T11:57:40.886985Z",
     "shell.execute_reply.started": "2022-06-24T11:57:40.867534Z"
    }
   },
   "outputs": [
    {
     "name": "stdout",
     "output_type": "stream",
     "text": [
      "(25684, 2)\n"
     ]
    },
    {
     "data": {
      "text/html": [
       "<div>\n",
       "<style scoped>\n",
       "    .dataframe tbody tr th:only-of-type {\n",
       "        vertical-align: middle;\n",
       "    }\n",
       "\n",
       "    .dataframe tbody tr th {\n",
       "        vertical-align: top;\n",
       "    }\n",
       "\n",
       "    .dataframe thead th {\n",
       "        text-align: right;\n",
       "    }\n",
       "</style>\n",
       "<table border=\"1\" class=\"dataframe\">\n",
       "  <thead>\n",
       "    <tr style=\"text-align: right;\">\n",
       "      <th></th>\n",
       "      <th>actual</th>\n",
       "      <th>predicted</th>\n",
       "    </tr>\n",
       "    <tr>\n",
       "      <th>patientId</th>\n",
       "      <th></th>\n",
       "      <th></th>\n",
       "    </tr>\n",
       "  </thead>\n",
       "  <tbody>\n",
       "    <tr>\n",
       "      <th>00436515-870c-4b36-a041-de91049b9ab4</th>\n",
       "      <td>1</td>\n",
       "      <td>0.362432</td>\n",
       "    </tr>\n",
       "    <tr>\n",
       "      <th>00704310-78a8-4b38-8475-49f4573b2dbb</th>\n",
       "      <td>1</td>\n",
       "      <td>0.400114</td>\n",
       "    </tr>\n",
       "    <tr>\n",
       "      <th>00aecb01-a116-45a2-956c-08d2fa55433f</th>\n",
       "      <td>1</td>\n",
       "      <td>0.777987</td>\n",
       "    </tr>\n",
       "    <tr>\n",
       "      <th>01027bc3-dc40-4165-a6c3-d6be2cb7ca34</th>\n",
       "      <td>0</td>\n",
       "      <td>0.005689</td>\n",
       "    </tr>\n",
       "    <tr>\n",
       "      <th>6bde463a-d52c-4730-9833-091fc1fef528</th>\n",
       "      <td>0</td>\n",
       "      <td>0.002396</td>\n",
       "    </tr>\n",
       "  </tbody>\n",
       "</table>\n",
       "</div>"
      ],
      "text/plain": [
       "                                      actual  predicted\n",
       "patientId                                              \n",
       "00436515-870c-4b36-a041-de91049b9ab4       1   0.362432\n",
       "00704310-78a8-4b38-8475-49f4573b2dbb       1   0.400114\n",
       "00aecb01-a116-45a2-956c-08d2fa55433f       1   0.777987\n",
       "01027bc3-dc40-4165-a6c3-d6be2cb7ca34       0   0.005689\n",
       "6bde463a-d52c-4730-9833-091fc1fef528       0   0.002396"
      ]
     },
     "execution_count": 39,
     "metadata": {},
     "output_type": "execute_result"
    }
   ],
   "source": [
    "den = pd.concat([f0,f1,f2,f3,f4],axis=0)\n",
    "print( den.shape )\n",
    "den.head()"
   ]
  },
  {
   "cell_type": "code",
   "execution_count": 40,
   "metadata": {
    "_uuid": "f819535680ebb6c49968dcce9cc5bb05ee107fa7",
    "execution": {
     "iopub.execute_input": "2022-06-24T11:57:40.889091Z",
     "iopub.status.busy": "2022-06-24T11:57:40.888816Z",
     "iopub.status.idle": "2022-06-24T11:57:40.964349Z",
     "shell.execute_reply": "2022-06-24T11:57:40.963566Z",
     "shell.execute_reply.started": "2022-06-24T11:57:40.889027Z"
    }
   },
   "outputs": [],
   "source": [
    "tf0 = pd.read_csv(RESULTS_LOC + '/' + ADENSE_TEST_STEM + '0.csv').set_index('patientId')\n",
    "tf1 = pd.read_csv(RESULTS_LOC + '/' + ADENSE_TEST_STEM + '1.csv').set_index('patientId')\n",
    "tf2 = pd.read_csv(RESULTS_LOC + '/' + ADENSE_TEST_STEM + '2.csv').set_index('patientId')\n",
    "tf3 = pd.read_csv(RESULTS_LOC + '/' + ADENSE_TEST_STEM + '3.csv').set_index('patientId')\n",
    "tf4 = pd.read_csv(RESULTS_LOC + '/' + ADENSE_TEST_STEM + '4.csv').set_index('patientId')"
   ]
  },
  {
   "cell_type": "code",
   "execution_count": 41,
   "metadata": {
    "_uuid": "d07f2bb5267d07d0ce7e6807326c30e13fed298c",
    "execution": {
     "iopub.execute_input": "2022-06-24T11:57:40.966347Z",
     "iopub.status.busy": "2022-06-24T11:57:40.965673Z",
     "iopub.status.idle": "2022-06-24T11:57:41.003342Z",
     "shell.execute_reply": "2022-06-24T11:57:41.002484Z",
     "shell.execute_reply.started": "2022-06-24T11:57:40.966285Z"
    }
   },
   "outputs": [
    {
     "name": "stdout",
     "output_type": "stream",
     "text": [
      "(3000, 5)\n"
     ]
    },
    {
     "data": {
      "text/html": [
       "<div>\n",
       "<style scoped>\n",
       "    .dataframe tbody tr th:only-of-type {\n",
       "        vertical-align: middle;\n",
       "    }\n",
       "\n",
       "    .dataframe tbody tr th {\n",
       "        vertical-align: top;\n",
       "    }\n",
       "\n",
       "    .dataframe thead th {\n",
       "        text-align: right;\n",
       "    }\n",
       "</style>\n",
       "<table border=\"1\" class=\"dataframe\">\n",
       "  <thead>\n",
       "    <tr style=\"text-align: right;\">\n",
       "      <th></th>\n",
       "      <th>pa0</th>\n",
       "      <th>pa1</th>\n",
       "      <th>pa2</th>\n",
       "      <th>pa3</th>\n",
       "      <th>pa4</th>\n",
       "    </tr>\n",
       "    <tr>\n",
       "      <th>patientId</th>\n",
       "      <th></th>\n",
       "      <th></th>\n",
       "      <th></th>\n",
       "      <th></th>\n",
       "      <th></th>\n",
       "    </tr>\n",
       "  </thead>\n",
       "  <tbody>\n",
       "    <tr>\n",
       "      <th>2d5d8ecc-3ee3-4c9b-bb86-3f614a079585</th>\n",
       "      <td>0.032077</td>\n",
       "      <td>0.065031</td>\n",
       "      <td>0.147478</td>\n",
       "      <td>0.099838</td>\n",
       "      <td>0.112234</td>\n",
       "    </tr>\n",
       "    <tr>\n",
       "      <th>2815b7e6-1112-484b-b6ed-367c87e0e22a</th>\n",
       "      <td>0.254421</td>\n",
       "      <td>0.425327</td>\n",
       "      <td>0.037688</td>\n",
       "      <td>0.138590</td>\n",
       "      <td>0.111626</td>\n",
       "    </tr>\n",
       "    <tr>\n",
       "      <th>2d17ce84-86f9-4153-8d91-3a75ffe303cc</th>\n",
       "      <td>0.589568</td>\n",
       "      <td>0.423861</td>\n",
       "      <td>0.510739</td>\n",
       "      <td>0.614366</td>\n",
       "      <td>0.228921</td>\n",
       "    </tr>\n",
       "    <tr>\n",
       "      <th>0300003e-3405-43a3-b5d9-d314d4810fdb</th>\n",
       "      <td>0.009171</td>\n",
       "      <td>0.007782</td>\n",
       "      <td>0.022904</td>\n",
       "      <td>0.031646</td>\n",
       "      <td>0.021034</td>\n",
       "    </tr>\n",
       "    <tr>\n",
       "      <th>21a6488b-80dc-4caf-8d7b-a375011d70dc</th>\n",
       "      <td>0.315024</td>\n",
       "      <td>0.360514</td>\n",
       "      <td>0.273488</td>\n",
       "      <td>0.254714</td>\n",
       "      <td>0.111565</td>\n",
       "    </tr>\n",
       "  </tbody>\n",
       "</table>\n",
       "</div>"
      ],
      "text/plain": [
       "                                           pa0    ...          pa4\n",
       "patientId                                         ...             \n",
       "2d5d8ecc-3ee3-4c9b-bb86-3f614a079585  0.032077    ...     0.112234\n",
       "2815b7e6-1112-484b-b6ed-367c87e0e22a  0.254421    ...     0.111626\n",
       "2d17ce84-86f9-4153-8d91-3a75ffe303cc  0.589568    ...     0.228921\n",
       "0300003e-3405-43a3-b5d9-d314d4810fdb  0.009171    ...     0.021034\n",
       "21a6488b-80dc-4caf-8d7b-a375011d70dc  0.315024    ...     0.111565\n",
       "\n",
       "[5 rows x 5 columns]"
      ]
     },
     "execution_count": 41,
     "metadata": {},
     "output_type": "execute_result"
    }
   ],
   "source": [
    "test_den = tf0.rename(columns={'predicted':'pa0'})\n",
    "test_den = test_den.join(tf1.rename(columns={'predicted':'pa1'}))\n",
    "test_den = test_den.join(tf2.rename(columns={'predicted':'pa2'}))\n",
    "test_den = test_den.join(tf3.rename(columns={'predicted':'pa3'}))\n",
    "test_den = test_den.join(tf4.rename(columns={'predicted':'pa4'}))\n",
    "print( test_den.shape )\n",
    "test_den.head()"
   ]
  },
  {
   "cell_type": "code",
   "execution_count": 42,
   "metadata": {
    "_uuid": "b559d4e87d1890f8d1f752193e1f5ad44008010e",
    "execution": {
     "iopub.execute_input": "2022-06-24T11:57:41.005434Z",
     "iopub.status.busy": "2022-06-24T11:57:41.004821Z",
     "iopub.status.idle": "2022-06-24T11:57:41.011607Z",
     "shell.execute_reply": "2022-06-24T11:57:41.010869Z",
     "shell.execute_reply.started": "2022-06-24T11:57:41.005372Z"
    }
   },
   "outputs": [],
   "source": [
    "p0 = f0.index.values\n",
    "p1 = f1.index.values\n",
    "p2 = f2.index.values\n",
    "p3 = f3.index.values\n",
    "p4 = f4.index.values\n",
    "pt = test_den.index.values"
   ]
  },
  {
   "cell_type": "code",
   "execution_count": 43,
   "metadata": {
    "_uuid": "461efdcb58e2150bb1d176bbd46f3ebdfcdf31b1",
    "execution": {
     "iopub.execute_input": "2022-06-24T11:57:41.012945Z",
     "iopub.status.busy": "2022-06-24T11:57:41.012517Z",
     "iopub.status.idle": "2022-06-24T11:57:41.147702Z",
     "shell.execute_reply": "2022-06-24T11:57:41.146465Z",
     "shell.execute_reply.started": "2022-06-24T11:57:41.01288Z"
    }
   },
   "outputs": [
    {
     "name": "stdout",
     "output_type": "stream",
     "text": [
      "(25684, 5)\n"
     ]
    },
    {
     "data": {
      "text/html": [
       "<div>\n",
       "<style scoped>\n",
       "    .dataframe tbody tr th:only-of-type {\n",
       "        vertical-align: middle;\n",
       "    }\n",
       "\n",
       "    .dataframe tbody tr th {\n",
       "        vertical-align: top;\n",
       "    }\n",
       "\n",
       "    .dataframe thead th {\n",
       "        text-align: right;\n",
       "    }\n",
       "</style>\n",
       "<table border=\"1\" class=\"dataframe\">\n",
       "  <thead>\n",
       "    <tr style=\"text-align: right;\">\n",
       "      <th></th>\n",
       "      <th>Unnamed: 0</th>\n",
       "      <th>Target</th>\n",
       "      <th>fold</th>\n",
       "      <th>validPredProba</th>\n",
       "      <th>validPred</th>\n",
       "    </tr>\n",
       "    <tr>\n",
       "      <th>patientId</th>\n",
       "      <th></th>\n",
       "      <th></th>\n",
       "      <th></th>\n",
       "      <th></th>\n",
       "      <th></th>\n",
       "    </tr>\n",
       "  </thead>\n",
       "  <tbody>\n",
       "    <tr>\n",
       "      <th>00436515-870c-4b36-a041-de91049b9ab4</th>\n",
       "      <td>4</td>\n",
       "      <td>1</td>\n",
       "      <td>0</td>\n",
       "      <td>0.463192</td>\n",
       "      <td>0</td>\n",
       "    </tr>\n",
       "    <tr>\n",
       "      <th>00704310-78a8-4b38-8475-49f4573b2dbb</th>\n",
       "      <td>8</td>\n",
       "      <td>1</td>\n",
       "      <td>0</td>\n",
       "      <td>0.679318</td>\n",
       "      <td>1</td>\n",
       "    </tr>\n",
       "    <tr>\n",
       "      <th>00aecb01-a116-45a2-956c-08d2fa55433f</th>\n",
       "      <td>14</td>\n",
       "      <td>1</td>\n",
       "      <td>0</td>\n",
       "      <td>0.370484</td>\n",
       "      <td>0</td>\n",
       "    </tr>\n",
       "    <tr>\n",
       "      <th>01027bc3-dc40-4165-a6c3-d6be2cb7ca34</th>\n",
       "      <td>23</td>\n",
       "      <td>0</td>\n",
       "      <td>0</td>\n",
       "      <td>0.004191</td>\n",
       "      <td>0</td>\n",
       "    </tr>\n",
       "    <tr>\n",
       "      <th>014b7b58-f641-4477-8bbc-ae6f337745d6</th>\n",
       "      <td>29</td>\n",
       "      <td>0</td>\n",
       "      <td>0</td>\n",
       "      <td>0.038145</td>\n",
       "      <td>0</td>\n",
       "    </tr>\n",
       "  </tbody>\n",
       "</table>\n",
       "</div>"
      ],
      "text/plain": [
       "                                      Unnamed: 0    ...      validPred\n",
       "patientId                                           ...               \n",
       "00436515-870c-4b36-a041-de91049b9ab4           4    ...              0\n",
       "00704310-78a8-4b38-8475-49f4573b2dbb           8    ...              1\n",
       "00aecb01-a116-45a2-956c-08d2fa55433f          14    ...              0\n",
       "01027bc3-dc40-4165-a6c3-d6be2cb7ca34          23    ...              0\n",
       "014b7b58-f641-4477-8bbc-ae6f337745d6          29    ...              0\n",
       "\n",
       "[5 rows x 5 columns]"
      ]
     },
     "execution_count": 43,
     "metadata": {},
     "output_type": "execute_result"
    }
   ],
   "source": [
    "c0 = pd.read_csv(RESULTS_LOC + '/' + CHEXNET_OOF_STEM + '0.csv').set_index('patientId')\n",
    "c1 = pd.read_csv(RESULTS_LOC + '/' + CHEXNET_OOF_STEM + '1.csv').set_index('patientId')\n",
    "c2 = pd.read_csv(RESULTS_LOC + '/' + CHEXNET_OOF_STEM + '2.csv').set_index('patientId')\n",
    "c3 = pd.read_csv(RESULTS_LOC + '/' + CHEXNET_OOF_STEM + '3.csv').set_index('patientId')\n",
    "c4 = pd.read_csv(RESULTS_LOC + '/' + CHEXNET_OOF_STEM + '4.csv').set_index('patientId')\n",
    "chex = pd.concat([c0,c1,c2,c3,c4],axis=0)\n",
    "print( chex.shape )\n",
    "chex.head()"
   ]
  },
  {
   "cell_type": "code",
   "execution_count": 44,
   "metadata": {
    "_uuid": "6622cce616fd7077128d5c6b7ed6ca6729983ae5",
    "execution": {
     "iopub.execute_input": "2022-06-24T11:57:41.149145Z",
     "iopub.status.busy": "2022-06-24T11:57:41.148898Z",
     "iopub.status.idle": "2022-06-24T11:57:41.218241Z",
     "shell.execute_reply": "2022-06-24T11:57:41.217438Z",
     "shell.execute_reply.started": "2022-06-24T11:57:41.149102Z"
    }
   },
   "outputs": [
    {
     "name": "stdout",
     "output_type": "stream",
     "text": [
      "(25684, 4)\n"
     ]
    },
    {
     "data": {
      "text/html": [
       "<div>\n",
       "<style scoped>\n",
       "    .dataframe tbody tr th:only-of-type {\n",
       "        vertical-align: middle;\n",
       "    }\n",
       "\n",
       "    .dataframe tbody tr th {\n",
       "        vertical-align: top;\n",
       "    }\n",
       "\n",
       "    .dataframe thead th {\n",
       "        text-align: right;\n",
       "    }\n",
       "</style>\n",
       "<table border=\"1\" class=\"dataframe\">\n",
       "  <thead>\n",
       "    <tr style=\"text-align: right;\">\n",
       "      <th></th>\n",
       "      <th>actual</th>\n",
       "      <th>pa</th>\n",
       "      <th>pg</th>\n",
       "      <th>ph</th>\n",
       "    </tr>\n",
       "    <tr>\n",
       "      <th>patientId</th>\n",
       "      <th></th>\n",
       "      <th></th>\n",
       "      <th></th>\n",
       "      <th></th>\n",
       "    </tr>\n",
       "  </thead>\n",
       "  <tbody>\n",
       "    <tr>\n",
       "      <th>00436515-870c-4b36-a041-de91049b9ab4</th>\n",
       "      <td>1</td>\n",
       "      <td>0.362432</td>\n",
       "      <td>0.463192</td>\n",
       "      <td>0.211496</td>\n",
       "    </tr>\n",
       "    <tr>\n",
       "      <th>00704310-78a8-4b38-8475-49f4573b2dbb</th>\n",
       "      <td>1</td>\n",
       "      <td>0.400114</td>\n",
       "      <td>0.679318</td>\n",
       "      <td>0.130087</td>\n",
       "    </tr>\n",
       "    <tr>\n",
       "      <th>00aecb01-a116-45a2-956c-08d2fa55433f</th>\n",
       "      <td>1</td>\n",
       "      <td>0.777987</td>\n",
       "      <td>0.370484</td>\n",
       "      <td>0.129299</td>\n",
       "    </tr>\n",
       "    <tr>\n",
       "      <th>01027bc3-dc40-4165-a6c3-d6be2cb7ca34</th>\n",
       "      <td>0</td>\n",
       "      <td>0.005689</td>\n",
       "      <td>0.004191</td>\n",
       "      <td>0.037949</td>\n",
       "    </tr>\n",
       "    <tr>\n",
       "      <th>6bde463a-d52c-4730-9833-091fc1fef528</th>\n",
       "      <td>0</td>\n",
       "      <td>0.002396</td>\n",
       "      <td>0.005397</td>\n",
       "      <td>0.045998</td>\n",
       "    </tr>\n",
       "  </tbody>\n",
       "</table>\n",
       "</div>"
      ],
      "text/plain": [
       "                                      actual    ...           ph\n",
       "patientId                                       ...             \n",
       "00436515-870c-4b36-a041-de91049b9ab4       1    ...     0.211496\n",
       "00704310-78a8-4b38-8475-49f4573b2dbb       1    ...     0.130087\n",
       "00aecb01-a116-45a2-956c-08d2fa55433f       1    ...     0.129299\n",
       "01027bc3-dc40-4165-a6c3-d6be2cb7ca34       0    ...     0.037949\n",
       "6bde463a-d52c-4730-9833-091fc1fef528       0    ...     0.045998\n",
       "\n",
       "[5 rows x 4 columns]"
      ]
     },
     "execution_count": 44,
     "metadata": {},
     "output_type": "execute_result"
    }
   ],
   "source": [
    "df = den.join(chex[['validPredProba']]).rename(columns={'predicted':'pa','validPredProba':'pg'})\n",
    "df = df.join(oof_probs_mrcnn).drop(['fold'],axis=1)\n",
    "print( df.shape )\n",
    "df.head()"
   ]
  },
  {
   "cell_type": "code",
   "execution_count": 45,
   "metadata": {
    "_uuid": "264a2e9fc9f0f7d00ea8d04ea1dc33d4360a46f4",
    "execution": {
     "iopub.execute_input": "2022-06-24T11:57:41.228524Z",
     "iopub.status.busy": "2022-06-24T11:57:41.228141Z",
     "iopub.status.idle": "2022-06-24T11:57:41.323738Z",
     "shell.execute_reply": "2022-06-24T11:57:41.322716Z",
     "shell.execute_reply.started": "2022-06-24T11:57:41.228452Z"
    }
   },
   "outputs": [
    {
     "data": {
      "text/html": [
       "<div>\n",
       "<style scoped>\n",
       "    .dataframe tbody tr th:only-of-type {\n",
       "        vertical-align: middle;\n",
       "    }\n",
       "\n",
       "    .dataframe tbody tr th {\n",
       "        vertical-align: top;\n",
       "    }\n",
       "\n",
       "    .dataframe thead th {\n",
       "        text-align: right;\n",
       "    }\n",
       "</style>\n",
       "<table border=\"1\" class=\"dataframe\">\n",
       "  <thead>\n",
       "    <tr style=\"text-align: right;\">\n",
       "      <th></th>\n",
       "      <th>targetPred</th>\n",
       "      <th>targetPredProba</th>\n",
       "    </tr>\n",
       "    <tr>\n",
       "      <th>patientId</th>\n",
       "      <th></th>\n",
       "      <th></th>\n",
       "    </tr>\n",
       "  </thead>\n",
       "  <tbody>\n",
       "    <tr>\n",
       "      <th>0000a175-0e68-4ca4-b1af-167204a7e0bc</th>\n",
       "      <td>0</td>\n",
       "      <td>0.000299</td>\n",
       "    </tr>\n",
       "    <tr>\n",
       "      <th>0005d3cc-3c3f-40b9-93c3-46231c3eb813</th>\n",
       "      <td>0</td>\n",
       "      <td>0.047622</td>\n",
       "    </tr>\n",
       "    <tr>\n",
       "      <th>000686d7-f4fc-448d-97a0-44fa9c5d3aa6</th>\n",
       "      <td>0</td>\n",
       "      <td>0.009341</td>\n",
       "    </tr>\n",
       "    <tr>\n",
       "      <th>000e3a7d-c0ca-4349-bb26-5af2d8993c3d</th>\n",
       "      <td>0</td>\n",
       "      <td>0.005463</td>\n",
       "    </tr>\n",
       "    <tr>\n",
       "      <th>00100a24-854d-423d-a092-edcf6179e061</th>\n",
       "      <td>0</td>\n",
       "      <td>0.152223</td>\n",
       "    </tr>\n",
       "  </tbody>\n",
       "</table>\n",
       "</div>"
      ],
      "text/plain": [
       "                                      targetPred  targetPredProba\n",
       "patientId                                                        \n",
       "0000a175-0e68-4ca4-b1af-167204a7e0bc           0         0.000299\n",
       "0005d3cc-3c3f-40b9-93c3-46231c3eb813           0         0.047622\n",
       "000686d7-f4fc-448d-97a0-44fa9c5d3aa6           0         0.009341\n",
       "000e3a7d-c0ca-4349-bb26-5af2d8993c3d           0         0.005463\n",
       "00100a24-854d-423d-a092-edcf6179e061           0         0.152223"
      ]
     },
     "execution_count": 45,
     "metadata": {},
     "output_type": "execute_result"
    }
   ],
   "source": [
    "tc0 = pd.read_csv(RESULTS_LOC + '/' + CHEXNET_TEST_FILE0 + '.csv').set_index('patientId')\n",
    "tc1 = pd.read_csv(RESULTS_LOC + '/' + CHEXNET_TEST_STEM + '1.csv').set_index('patientId')\n",
    "tc2 = pd.read_csv(RESULTS_LOC + '/' + CHEXNET_TEST_STEM + '2.csv').set_index('patientId')\n",
    "tc3 = pd.read_csv(RESULTS_LOC + '/' + CHEXNET_TEST_STEM + '3.csv').set_index('patientId')\n",
    "tc4 = pd.read_csv(RESULTS_LOC + '/' + CHEXNET_TEST_STEM + '4.csv').set_index('patientId')\n",
    "tc0.head()"
   ]
  },
  {
   "cell_type": "code",
   "execution_count": 46,
   "metadata": {
    "_uuid": "999a5886b08bd13f3a78dbe8f5b059ebc2a67746",
    "execution": {
     "iopub.execute_input": "2022-06-24T11:57:41.325391Z",
     "iopub.status.busy": "2022-06-24T11:57:41.325147Z",
     "iopub.status.idle": "2022-06-24T11:57:41.329343Z",
     "shell.execute_reply": "2022-06-24T11:57:41.328465Z",
     "shell.execute_reply.started": "2022-06-24T11:57:41.325346Z"
    }
   },
   "outputs": [],
   "source": [
    "INFINITY = 100  # No regularization\n",
    "lr = LogisticRegression(C=INFINITY)"
   ]
  },
  {
   "cell_type": "code",
   "execution_count": 47,
   "metadata": {
    "_uuid": "c39fb3fb3fca3ff5aab81c0338de0f617acd58f9",
    "execution": {
     "iopub.execute_input": "2022-06-24T11:57:41.331985Z",
     "iopub.status.busy": "2022-06-24T11:57:41.331294Z",
     "iopub.status.idle": "2022-06-24T11:57:41.375935Z",
     "shell.execute_reply": "2022-06-24T11:57:41.375002Z",
     "shell.execute_reply.started": "2022-06-24T11:57:41.331919Z"
    }
   },
   "outputs": [
    {
     "name": "stdout",
     "output_type": "stream",
     "text": [
      "(3000, 5)\n"
     ]
    },
    {
     "data": {
      "text/html": [
       "<div>\n",
       "<style scoped>\n",
       "    .dataframe tbody tr th:only-of-type {\n",
       "        vertical-align: middle;\n",
       "    }\n",
       "\n",
       "    .dataframe tbody tr th {\n",
       "        vertical-align: top;\n",
       "    }\n",
       "\n",
       "    .dataframe thead th {\n",
       "        text-align: right;\n",
       "    }\n",
       "</style>\n",
       "<table border=\"1\" class=\"dataframe\">\n",
       "  <thead>\n",
       "    <tr style=\"text-align: right;\">\n",
       "      <th></th>\n",
       "      <th>pg0</th>\n",
       "      <th>pg1</th>\n",
       "      <th>pg2</th>\n",
       "      <th>pg3</th>\n",
       "      <th>pg4</th>\n",
       "    </tr>\n",
       "    <tr>\n",
       "      <th>patientId</th>\n",
       "      <th></th>\n",
       "      <th></th>\n",
       "      <th></th>\n",
       "      <th></th>\n",
       "      <th></th>\n",
       "    </tr>\n",
       "  </thead>\n",
       "  <tbody>\n",
       "    <tr>\n",
       "      <th>0000a175-0e68-4ca4-b1af-167204a7e0bc</th>\n",
       "      <td>0.000299</td>\n",
       "      <td>0.000348</td>\n",
       "      <td>0.000074</td>\n",
       "      <td>0.004830</td>\n",
       "      <td>0.000121</td>\n",
       "    </tr>\n",
       "    <tr>\n",
       "      <th>0005d3cc-3c3f-40b9-93c3-46231c3eb813</th>\n",
       "      <td>0.047622</td>\n",
       "      <td>0.306961</td>\n",
       "      <td>0.034571</td>\n",
       "      <td>0.089974</td>\n",
       "      <td>0.009179</td>\n",
       "    </tr>\n",
       "    <tr>\n",
       "      <th>000686d7-f4fc-448d-97a0-44fa9c5d3aa6</th>\n",
       "      <td>0.009341</td>\n",
       "      <td>0.017488</td>\n",
       "      <td>0.051991</td>\n",
       "      <td>0.046703</td>\n",
       "      <td>0.013568</td>\n",
       "    </tr>\n",
       "    <tr>\n",
       "      <th>000e3a7d-c0ca-4349-bb26-5af2d8993c3d</th>\n",
       "      <td>0.005463</td>\n",
       "      <td>0.004486</td>\n",
       "      <td>0.007799</td>\n",
       "      <td>0.004165</td>\n",
       "      <td>0.007487</td>\n",
       "    </tr>\n",
       "    <tr>\n",
       "      <th>00100a24-854d-423d-a092-edcf6179e061</th>\n",
       "      <td>0.152223</td>\n",
       "      <td>0.277856</td>\n",
       "      <td>0.170742</td>\n",
       "      <td>0.185337</td>\n",
       "      <td>0.080029</td>\n",
       "    </tr>\n",
       "  </tbody>\n",
       "</table>\n",
       "</div>"
      ],
      "text/plain": [
       "                                           pg0    ...          pg4\n",
       "patientId                                         ...             \n",
       "0000a175-0e68-4ca4-b1af-167204a7e0bc  0.000299    ...     0.000121\n",
       "0005d3cc-3c3f-40b9-93c3-46231c3eb813  0.047622    ...     0.009179\n",
       "000686d7-f4fc-448d-97a0-44fa9c5d3aa6  0.009341    ...     0.013568\n",
       "000e3a7d-c0ca-4349-bb26-5af2d8993c3d  0.005463    ...     0.007487\n",
       "00100a24-854d-423d-a092-edcf6179e061  0.152223    ...     0.080029\n",
       "\n",
       "[5 rows x 5 columns]"
      ]
     },
     "execution_count": 47,
     "metadata": {},
     "output_type": "execute_result"
    }
   ],
   "source": [
    "test_chex = tc0.rename(columns={'targetPredProba':'pg0'}).drop(['targetPred'],axis=1)\n",
    "test_chex = test_chex.join(tc1.rename(columns={'targetPredProba':'pg1'}).drop(['targetPred'],axis=1))\n",
    "test_chex = test_chex.join(tc2.rename(columns={'targetPredProba':'pg2'}).drop(['targetPred'],axis=1))\n",
    "test_chex = test_chex.join(tc3.rename(columns={'targetPredProba':'pg3'}).drop(['targetPred'],axis=1))\n",
    "test_chex = test_chex.join(tc4.rename(columns={'targetPredProba':'pg4'}).drop(['targetPred'],axis=1))\n",
    "print( test_chex.shape )\n",
    "test_chex.head()"
   ]
  },
  {
   "cell_type": "code",
   "execution_count": 48,
   "metadata": {
    "_uuid": "10ffb689d314cf315cceb0aa3d24fe5d90b623e5",
    "execution": {
     "iopub.execute_input": "2022-06-24T11:57:41.377802Z",
     "iopub.status.busy": "2022-06-24T11:57:41.37725Z",
     "iopub.status.idle": "2022-06-24T11:57:41.42462Z",
     "shell.execute_reply": "2022-06-24T11:57:41.423496Z",
     "shell.execute_reply.started": "2022-06-24T11:57:41.37774Z"
    }
   },
   "outputs": [
    {
     "data": {
      "text/html": [
       "<div>\n",
       "<style scoped>\n",
       "    .dataframe tbody tr th:only-of-type {\n",
       "        vertical-align: middle;\n",
       "    }\n",
       "\n",
       "    .dataframe tbody tr th {\n",
       "        vertical-align: top;\n",
       "    }\n",
       "\n",
       "    .dataframe thead th {\n",
       "        text-align: right;\n",
       "    }\n",
       "</style>\n",
       "<table border=\"1\" class=\"dataframe\">\n",
       "  <thead>\n",
       "    <tr style=\"text-align: right;\">\n",
       "      <th></th>\n",
       "      <th>ph0</th>\n",
       "      <th>ph1</th>\n",
       "      <th>ph2</th>\n",
       "      <th>ph3</th>\n",
       "      <th>ph4</th>\n",
       "      <th>pa0</th>\n",
       "      <th>pa1</th>\n",
       "      <th>pa2</th>\n",
       "      <th>pa3</th>\n",
       "      <th>pa4</th>\n",
       "      <th>pg0</th>\n",
       "      <th>pg1</th>\n",
       "      <th>pg2</th>\n",
       "      <th>pg3</th>\n",
       "      <th>pg4</th>\n",
       "    </tr>\n",
       "    <tr>\n",
       "      <th>patientId</th>\n",
       "      <th></th>\n",
       "      <th></th>\n",
       "      <th></th>\n",
       "      <th></th>\n",
       "      <th></th>\n",
       "      <th></th>\n",
       "      <th></th>\n",
       "      <th></th>\n",
       "      <th></th>\n",
       "      <th></th>\n",
       "      <th></th>\n",
       "      <th></th>\n",
       "      <th></th>\n",
       "      <th></th>\n",
       "      <th></th>\n",
       "    </tr>\n",
       "  </thead>\n",
       "  <tbody>\n",
       "    <tr>\n",
       "      <th>30451f0f-6692-4633-b234-94ae2b5960de</th>\n",
       "      <td>0.3098</td>\n",
       "      <td>0.3925</td>\n",
       "      <td>0.232100</td>\n",
       "      <td>0.2020</td>\n",
       "      <td>0.3391</td>\n",
       "      <td>0.431048</td>\n",
       "      <td>0.273022</td>\n",
       "      <td>0.438814</td>\n",
       "      <td>0.520895</td>\n",
       "      <td>0.300254</td>\n",
       "      <td>0.168970</td>\n",
       "      <td>0.462986</td>\n",
       "      <td>0.209652</td>\n",
       "      <td>0.350541</td>\n",
       "      <td>0.446571</td>\n",
       "    </tr>\n",
       "    <tr>\n",
       "      <th>28debac6-3823-4e02-bc83-3fbb9ded1718</th>\n",
       "      <td>0.3363</td>\n",
       "      <td>0.4108</td>\n",
       "      <td>0.229700</td>\n",
       "      <td>0.3239</td>\n",
       "      <td>0.4751</td>\n",
       "      <td>0.518329</td>\n",
       "      <td>0.513909</td>\n",
       "      <td>0.584034</td>\n",
       "      <td>0.645983</td>\n",
       "      <td>0.653511</td>\n",
       "      <td>0.402182</td>\n",
       "      <td>0.463429</td>\n",
       "      <td>0.558107</td>\n",
       "      <td>0.451014</td>\n",
       "      <td>0.495412</td>\n",
       "    </tr>\n",
       "    <tr>\n",
       "      <th>c0ec3097-a14b-4ee2-9547-c0d2532f2e62</th>\n",
       "      <td>0.2473</td>\n",
       "      <td>0.4535</td>\n",
       "      <td>0.216700</td>\n",
       "      <td>0.2501</td>\n",
       "      <td>0.3050</td>\n",
       "      <td>0.014758</td>\n",
       "      <td>0.035855</td>\n",
       "      <td>0.071825</td>\n",
       "      <td>0.124589</td>\n",
       "      <td>0.057309</td>\n",
       "      <td>0.007691</td>\n",
       "      <td>0.016391</td>\n",
       "      <td>0.068008</td>\n",
       "      <td>0.024553</td>\n",
       "      <td>0.010087</td>\n",
       "    </tr>\n",
       "    <tr>\n",
       "      <th>2e5ab719-7447-4d3f-95f8-5ed5c8c736a1</th>\n",
       "      <td>0.2704</td>\n",
       "      <td>0.4160</td>\n",
       "      <td>0.216700</td>\n",
       "      <td>0.4212</td>\n",
       "      <td>0.4334</td>\n",
       "      <td>0.002578</td>\n",
       "      <td>0.001543</td>\n",
       "      <td>0.015986</td>\n",
       "      <td>0.014047</td>\n",
       "      <td>0.006846</td>\n",
       "      <td>0.001181</td>\n",
       "      <td>0.001188</td>\n",
       "      <td>0.000243</td>\n",
       "      <td>0.001691</td>\n",
       "      <td>0.001115</td>\n",
       "    </tr>\n",
       "    <tr>\n",
       "      <th>1d0ce799-81bb-40be-8e92-4b1783906cc9</th>\n",
       "      <td>0.2484</td>\n",
       "      <td>0.0748</td>\n",
       "      <td>0.019257</td>\n",
       "      <td>0.0867</td>\n",
       "      <td>0.1869</td>\n",
       "      <td>0.431875</td>\n",
       "      <td>0.400963</td>\n",
       "      <td>0.341952</td>\n",
       "      <td>0.255228</td>\n",
       "      <td>0.374795</td>\n",
       "      <td>0.308078</td>\n",
       "      <td>0.436136</td>\n",
       "      <td>0.262940</td>\n",
       "      <td>0.422991</td>\n",
       "      <td>0.447343</td>\n",
       "    </tr>\n",
       "  </tbody>\n",
       "</table>\n",
       "</div>"
      ],
      "text/plain": [
       "                                         ph0    ...          pg4\n",
       "patientId                                       ...             \n",
       "30451f0f-6692-4633-b234-94ae2b5960de  0.3098    ...     0.446571\n",
       "28debac6-3823-4e02-bc83-3fbb9ded1718  0.3363    ...     0.495412\n",
       "c0ec3097-a14b-4ee2-9547-c0d2532f2e62  0.2473    ...     0.010087\n",
       "2e5ab719-7447-4d3f-95f8-5ed5c8c736a1  0.2704    ...     0.001115\n",
       "1d0ce799-81bb-40be-8e92-4b1783906cc9  0.2484    ...     0.447343\n",
       "\n",
       "[5 rows x 15 columns]"
      ]
     },
     "execution_count": 48,
     "metadata": {},
     "output_type": "execute_result"
    }
   ],
   "source": [
    "all_test_probs = test_prob_df.join(test_den.join(test_chex))\n",
    "all_test_probs.head()"
   ]
  },
  {
   "cell_type": "code",
   "execution_count": 49,
   "metadata": {
    "_uuid": "e4a23a90933ef5e7fe9ddbb586ebc95f6579dc69",
    "execution": {
     "iopub.execute_input": "2022-06-24T11:57:41.425963Z",
     "iopub.status.busy": "2022-06-24T11:57:41.425696Z",
     "iopub.status.idle": "2022-06-24T11:57:41.433162Z",
     "shell.execute_reply": "2022-06-24T11:57:41.432501Z",
     "shell.execute_reply.started": "2022-06-24T11:57:41.425919Z"
    }
   },
   "outputs": [
    {
     "data": {
      "text/plain": [
       "[['pa0', 'pg0', 'ph0'],\n",
       " ['pa1', 'pg1', 'ph1'],\n",
       " ['pa2', 'pg2', 'ph2'],\n",
       " ['pa3', 'pg3', 'ph3'],\n",
       " ['pa4', 'pg4', 'ph4']]"
      ]
     },
     "execution_count": 49,
     "metadata": {},
     "output_type": "execute_result"
    }
   ],
   "source": [
    "test_sets = []\n",
    "test_set = ['pa','pg','ph']\n",
    "for i in range(5):\n",
    "    this_set = [n + str(i) for n in test_set]\n",
    "    test_sets.append(this_set)\n",
    "test_sets"
   ]
  },
  {
   "cell_type": "code",
   "execution_count": 50,
   "metadata": {
    "_uuid": "be7a4b34cf6d2fd90bcc47d2129cc13e1c8024a3",
    "execution": {
     "iopub.execute_input": "2022-06-24T11:57:41.434634Z",
     "iopub.status.busy": "2022-06-24T11:57:41.434116Z",
     "iopub.status.idle": "2022-06-24T11:57:41.523713Z",
     "shell.execute_reply": "2022-06-24T11:57:41.522731Z",
     "shell.execute_reply.started": "2022-06-24T11:57:41.434547Z"
    }
   },
   "outputs": [
    {
     "data": {
      "text/plain": [
       "(5, [3000, 3000, 3000, 3000, 3000])"
      ]
     },
     "execution_count": 50,
     "metadata": {},
     "output_type": "execute_result"
    }
   ],
   "source": [
    "yps = []\n",
    "MAXCONF = .996\n",
    "Xtr = df.drop('actual',axis=1).copy()\n",
    "ytr = df.actual.copy()\n",
    "X_train_adjust = Xtr\n",
    "X_train_adjust.loc[Xtr.ph>MAXCONF,'ph'] = MAXCONF\n",
    "X_train_logit = X_train_adjust.apply(logit)\n",
    "lr.fit(X_train_logit, ytr)\n",
    "for tset in test_sets:\n",
    "    Xte = all_test_probs[tset].copy()\n",
    "    Xte.columns = test_set\n",
    "    X_test_adjust = Xte\n",
    "    X_test_adjust.loc[Xte.ph>MAXCONF,'ph'] = MAXCONF\n",
    "    X_test_logit = X_test_adjust.apply(logit)\n",
    "    yp = lr.predict_proba(X_test_logit)[:,1]\n",
    "    yps.append(yp)\n",
    "len(yps), [len(y) for y in yps]"
   ]
  },
  {
   "cell_type": "code",
   "execution_count": 51,
   "metadata": {
    "_uuid": "5013226e0f1eb46251ece96da6b3eed852e9804f",
    "execution": {
     "iopub.execute_input": "2022-06-24T11:57:41.525199Z",
     "iopub.status.busy": "2022-06-24T11:57:41.524951Z",
     "iopub.status.idle": "2022-06-24T11:57:41.672577Z",
     "shell.execute_reply": "2022-06-24T11:57:41.671739Z",
     "shell.execute_reply.started": "2022-06-24T11:57:41.525151Z"
    }
   },
   "outputs": [
    {
     "name": "stdout",
     "output_type": "stream",
     "text": [
      "(3000, 1)\n"
     ]
    },
    {
     "data": {
      "text/html": [
       "<div>\n",
       "<style scoped>\n",
       "    .dataframe tbody tr th:only-of-type {\n",
       "        vertical-align: middle;\n",
       "    }\n",
       "\n",
       "    .dataframe tbody tr th {\n",
       "        vertical-align: top;\n",
       "    }\n",
       "\n",
       "    .dataframe thead th {\n",
       "        text-align: right;\n",
       "    }\n",
       "</style>\n",
       "<table border=\"1\" class=\"dataframe\">\n",
       "  <thead>\n",
       "    <tr style=\"text-align: right;\">\n",
       "      <th></th>\n",
       "      <th>prob</th>\n",
       "    </tr>\n",
       "    <tr>\n",
       "      <th>patientId</th>\n",
       "      <th></th>\n",
       "    </tr>\n",
       "  </thead>\n",
       "  <tbody>\n",
       "    <tr>\n",
       "      <th>30451f0f-6692-4633-b234-94ae2b5960de</th>\n",
       "      <td>0.352096</td>\n",
       "    </tr>\n",
       "    <tr>\n",
       "      <th>28debac6-3823-4e02-bc83-3fbb9ded1718</th>\n",
       "      <td>0.508364</td>\n",
       "    </tr>\n",
       "    <tr>\n",
       "      <th>c0ec3097-a14b-4ee2-9547-c0d2532f2e62</th>\n",
       "      <td>0.037769</td>\n",
       "    </tr>\n",
       "    <tr>\n",
       "      <th>2e5ab719-7447-4d3f-95f8-5ed5c8c736a1</th>\n",
       "      <td>0.003476</td>\n",
       "    </tr>\n",
       "    <tr>\n",
       "      <th>1d0ce799-81bb-40be-8e92-4b1783906cc9</th>\n",
       "      <td>0.333004</td>\n",
       "    </tr>\n",
       "  </tbody>\n",
       "</table>\n",
       "</div>"
      ],
      "text/plain": [
       "                                          prob\n",
       "patientId                                     \n",
       "30451f0f-6692-4633-b234-94ae2b5960de  0.352096\n",
       "28debac6-3823-4e02-bc83-3fbb9ded1718  0.508364\n",
       "c0ec3097-a14b-4ee2-9547-c0d2532f2e62  0.037769\n",
       "2e5ab719-7447-4d3f-95f8-5ed5c8c736a1  0.003476\n",
       "1d0ce799-81bb-40be-8e92-4b1783906cc9  0.333004"
      ]
     },
     "execution_count": 51,
     "metadata": {},
     "output_type": "execute_result"
    }
   ],
   "source": [
    "p = pd.DataFrame(yps,columns=Xte.index).transpose().apply(logit).mean(axis=1).apply(expit)\n",
    "class_preds = pd.DataFrame(p,columns=['prob'])\n",
    "class_preds.index.name = 'patientId'\n",
    "print(class_preds.shape)\n",
    "class_preds.head()"
   ]
  },
  {
   "cell_type": "code",
   "execution_count": 52,
   "metadata": {
    "_uuid": "915b833c004cc37500ed5afa7076eb0ae2699963",
    "execution": {
     "iopub.execute_input": "2022-06-24T11:57:41.674316Z",
     "iopub.status.busy": "2022-06-24T11:57:41.673817Z",
     "iopub.status.idle": "2022-06-24T11:57:41.678274Z",
     "shell.execute_reply": "2022-06-24T11:57:41.677506Z",
     "shell.execute_reply.started": "2022-06-24T11:57:41.674105Z"
    }
   },
   "outputs": [],
   "source": [
    "phase4_test_output = class_preds"
   ]
  },
  {
   "cell_type": "code",
   "execution_count": 53,
   "metadata": {
    "_uuid": "b049feeacbdf826ba64db86972647675212c5d4b",
    "execution": {
     "iopub.execute_input": "2022-06-24T11:57:41.679369Z",
     "iopub.status.busy": "2022-06-24T11:57:41.679138Z",
     "iopub.status.idle": "2022-06-24T11:57:42.285393Z",
     "shell.execute_reply": "2022-06-24T11:57:42.284239Z",
     "shell.execute_reply.started": "2022-06-24T11:57:41.679318Z"
    }
   },
   "outputs": [],
   "source": [
    "yps = []\n",
    "ids = []\n",
    "MAXCONF = .995\n",
    "folds = [p0,p1,p2,p3,p4]\n",
    "for i in range(len(folds)):\n",
    "    fs = folds.copy()\n",
    "    te = fs.pop(i)\n",
    "    tr = np.concatenate(fs)\n",
    "    Xtr = df.loc[tr,:].drop('actual',axis=1).copy()\n",
    "    Xte = df.loc[te,:].drop('actual',axis=1).copy()\n",
    "    ytr = df.actual[tr].copy()\n",
    "    yte = df.actual[te].copy()\n",
    "    X_train_adjust = Xtr\n",
    "    X_test_adjust = Xte\n",
    "    X_train_adjust.loc[Xtr.ph>MAXCONF,'ph'] = MAXCONF\n",
    "    X_test_adjust.loc[Xte.ph>MAXCONF,'ph'] = MAXCONF\n",
    "    X_train_logit = X_train_adjust.apply(logit)\n",
    "    X_test_logit = X_test_adjust.apply(logit)\n",
    "    lr.fit(X_train_logit, ytr)\n",
    "    yp = lr.predict_proba(X_test_logit)[:,1]\n",
    "    yps = yps + list(yp)\n",
    "    ids = ids + list(Xte.index.values)"
   ]
  },
  {
   "cell_type": "code",
   "execution_count": 54,
   "metadata": {
    "_uuid": "706d862c87e153f27d00b59d8a97b61b49fab45f",
    "execution": {
     "iopub.execute_input": "2022-06-24T11:57:42.287328Z",
     "iopub.status.busy": "2022-06-24T11:57:42.286791Z",
     "iopub.status.idle": "2022-06-24T11:57:42.322262Z",
     "shell.execute_reply": "2022-06-24T11:57:42.32127Z",
     "shell.execute_reply.started": "2022-06-24T11:57:42.287271Z"
    }
   },
   "outputs": [
    {
     "name": "stdout",
     "output_type": "stream",
     "text": [
      "(25684, 1)\n"
     ]
    },
    {
     "data": {
      "text/html": [
       "<div>\n",
       "<style scoped>\n",
       "    .dataframe tbody tr th:only-of-type {\n",
       "        vertical-align: middle;\n",
       "    }\n",
       "\n",
       "    .dataframe tbody tr th {\n",
       "        vertical-align: top;\n",
       "    }\n",
       "\n",
       "    .dataframe thead th {\n",
       "        text-align: right;\n",
       "    }\n",
       "</style>\n",
       "<table border=\"1\" class=\"dataframe\">\n",
       "  <thead>\n",
       "    <tr style=\"text-align: right;\">\n",
       "      <th></th>\n",
       "      <th>prob</th>\n",
       "    </tr>\n",
       "    <tr>\n",
       "      <th>patientId</th>\n",
       "      <th></th>\n",
       "    </tr>\n",
       "  </thead>\n",
       "  <tbody>\n",
       "    <tr>\n",
       "      <th>00436515-870c-4b36-a041-de91049b9ab4</th>\n",
       "      <td>0.449031</td>\n",
       "    </tr>\n",
       "    <tr>\n",
       "      <th>00704310-78a8-4b38-8475-49f4573b2dbb</th>\n",
       "      <td>0.598099</td>\n",
       "    </tr>\n",
       "    <tr>\n",
       "      <th>00aecb01-a116-45a2-956c-08d2fa55433f</th>\n",
       "      <td>0.412871</td>\n",
       "    </tr>\n",
       "    <tr>\n",
       "      <th>01027bc3-dc40-4165-a6c3-d6be2cb7ca34</th>\n",
       "      <td>0.006151</td>\n",
       "    </tr>\n",
       "    <tr>\n",
       "      <th>6bde463a-d52c-4730-9833-091fc1fef528</th>\n",
       "      <td>0.006869</td>\n",
       "    </tr>\n",
       "  </tbody>\n",
       "</table>\n",
       "</div>"
      ],
      "text/plain": [
       "                                          prob\n",
       "patientId                                     \n",
       "00436515-870c-4b36-a041-de91049b9ab4  0.449031\n",
       "00704310-78a8-4b38-8475-49f4573b2dbb  0.598099\n",
       "00aecb01-a116-45a2-956c-08d2fa55433f  0.412871\n",
       "01027bc3-dc40-4165-a6c3-d6be2cb7ca34  0.006151\n",
       "6bde463a-d52c-4730-9833-091fc1fef528  0.006869"
      ]
     },
     "execution_count": 54,
     "metadata": {},
     "output_type": "execute_result"
    }
   ],
   "source": [
    "oof_class_preds = pd.DataFrame({'prob':yps},index=ids)\n",
    "oof_class_preds.index.name = 'patientId'\n",
    "print(oof_class_preds.shape)\n",
    "oof_class_preds.head()"
   ]
  },
  {
   "cell_type": "code",
   "execution_count": 55,
   "metadata": {
    "_uuid": "e5d0424069a0da12ed13254334539161d9994c02",
    "execution": {
     "iopub.execute_input": "2022-06-24T11:57:42.32437Z",
     "iopub.status.busy": "2022-06-24T11:57:42.323769Z",
     "iopub.status.idle": "2022-06-24T11:57:42.330531Z",
     "shell.execute_reply": "2022-06-24T11:57:42.329297Z",
     "shell.execute_reply.started": "2022-06-24T11:57:42.3243Z"
    }
   },
   "outputs": [],
   "source": [
    "phase4_oof_output = oof_class_preds"
   ]
  },
  {
   "cell_type": "code",
   "execution_count": 56,
   "metadata": {
    "_uuid": "e08d65bac559617000bad294c7789d12dff4b88b",
    "execution": {
     "iopub.execute_input": "2022-06-24T11:57:42.334272Z",
     "iopub.status.busy": "2022-06-24T11:57:42.332329Z",
     "iopub.status.idle": "2022-06-24T11:57:42.376945Z",
     "shell.execute_reply": "2022-06-24T11:57:42.375832Z",
     "shell.execute_reply.started": "2022-06-24T11:57:42.334191Z"
    }
   },
   "outputs": [],
   "source": [
    "df1 = phase2_output\n",
    "df2 = pd.read_csv(UNET_RESULTS_PATH).rename(columns={\n",
    "    'predictionString':'PredictionString'}).set_index('patientId')\n",
    "\n",
    "class_preds = phase4_test_output\n",
    "class_probs = class_preds.prob.to_dict()\n",
    "\n",
    "df1_cases = df1[~df1.PredictionString.isnull()]\n",
    "df2_cases = df2[~df2.PredictionString.isnull()]\n",
    "\n",
    "df1_pos_ids = df1_cases.index.values\n",
    "df2_pos_ids = df2_cases.index.values"
   ]
  },
  {
   "cell_type": "code",
   "execution_count": 57,
   "metadata": {
    "_uuid": "2406a80114ca3cc9f8207d1255b7363c61f4c125",
    "execution": {
     "iopub.execute_input": "2022-06-24T11:57:42.379058Z",
     "iopub.status.busy": "2022-06-24T11:57:42.378457Z",
     "iopub.status.idle": "2022-06-24T11:57:42.519398Z",
     "shell.execute_reply": "2022-06-24T11:57:42.518703Z",
     "shell.execute_reply.started": "2022-06-24T11:57:42.378987Z"
    }
   },
   "outputs": [],
   "source": [
    "df1_only_dict = {}\n",
    "for p in df1_pos_ids:\n",
    "    if not p in df2_pos_ids:\n",
    "        df1_only_dict[p] = float(df1_cases.loc[p,'PredictionString'].split(' ')[0])\n",
    "\n",
    "df2_only_dict = {}\n",
    "for p in df2_pos_ids:\n",
    "    if not p in df1_pos_ids:\n",
    "        df2_only_dict[p] = float(df2_cases.loc[p,'PredictionString'].split(' ')[0])\n",
    "        \n",
    "candidates = pd.DataFrame(pd.Series(df2_only_dict,name='conf')).join(class_preds,how='left')\n",
    "accepted = candidates[ (candidates.prob>UNET_MINPROB) & (candidates.conf>UNET_MINCONF)\n",
    "                     ].index.values"
   ]
  },
  {
   "cell_type": "code",
   "execution_count": 58,
   "metadata": {
    "_uuid": "8ec5b1cff296145af51ccbd1b362b5eb0af2ee50",
    "execution": {
     "iopub.execute_input": "2022-06-24T11:57:42.520697Z",
     "iopub.status.busy": "2022-06-24T11:57:42.52039Z",
     "iopub.status.idle": "2022-06-24T11:57:42.526706Z",
     "shell.execute_reply": "2022-06-24T11:57:42.52586Z",
     "shell.execute_reply.started": "2022-06-24T11:57:42.520642Z"
    }
   },
   "outputs": [
    {
     "data": {
      "text/plain": [
       "array(['017a4e3a-191b-4013-a228-dabb749a3d70',\n",
       "       '05a43f7e-f0c9-40b0-b705-8753feac0e26',\n",
       "       '0ffb34e5-f3c7-49c9-b9cd-5b73354f562d',\n",
       "       '1263a9b3-0492-402e-a152-42a024955a68',\n",
       "       '143cc465-80b8-484c-ba71-ad362ea8fd90',\n",
       "       '1aac71f9-fc15-4a9c-9b0f-b432f79ab2ef',\n",
       "       '1b560be4-be73-4976-8d09-06f2dc181701',\n",
       "       '1c5b8f7b-d76d-4a2c-ba14-42325e4e4a39',\n",
       "       '1dd0b293-1563-4cf3-ae1e-fcd4232f852c',\n",
       "       '21271204-1954-43bc-973b-63b896c17374',\n",
       "       '215d4b0a-b546-4eae-ab7a-39b303f7248b',\n",
       "       '239cc56f-29a2-4562-acaf-3282e639591c',\n",
       "       '268833a7-38e7-4c97-a4f1-db5175ea34ae',\n",
       "       '26b59bc8-dd04-4093-876f-fb0667d3b43a',\n",
       "       '271afcc2-a753-43cc-8560-2e4d246b1502',\n",
       "       '295fdc53-a88f-4fdd-8392-15c8776cde93',\n",
       "       '2a9124dc-a484-4423-a61a-c7ac12d131d7',\n",
       "       '2ae90a2c-813a-45f4-b350-03814995e418',\n",
       "       '2b419ca4-0ce1-4eba-a59f-dfc24b74aabf',\n",
       "       '2be12301-eb2a-409d-8a84-92bf849c3247',\n",
       "       '2dbac7d7-9100-4861-8e15-fa2adf82c6e3',\n",
       "       '2ff9e61f-1666-4ea2-b649-66ba3d71377e',\n",
       "       '30357021-6800-46cc-88e7-267c5c9fbaa2',\n",
       "       'c0de9cd1-1d0c-49bd-a3c1-f0f62e64414e',\n",
       "       'c1a7417f-6802-4f4b-8f4a-debfd1558230'], dtype=object)"
      ]
     },
     "execution_count": 58,
     "metadata": {},
     "output_type": "execute_result"
    }
   ],
   "source": [
    "accepted"
   ]
  },
  {
   "cell_type": "code",
   "execution_count": 59,
   "metadata": {
    "_uuid": "ec39d24f488385c291be6e5c7472bb6e199bca79",
    "execution": {
     "iopub.execute_input": "2022-06-24T11:57:42.527808Z",
     "iopub.status.busy": "2022-06-24T11:57:42.527565Z",
     "iopub.status.idle": "2022-06-24T11:57:42.78631Z",
     "shell.execute_reply": "2022-06-24T11:57:42.785309Z",
     "shell.execute_reply.started": "2022-06-24T11:57:42.527766Z"
    }
   },
   "outputs": [
    {
     "data": {
      "text/html": [
       "<div>\n",
       "<style scoped>\n",
       "    .dataframe tbody tr th:only-of-type {\n",
       "        vertical-align: middle;\n",
       "    }\n",
       "\n",
       "    .dataframe tbody tr th {\n",
       "        vertical-align: top;\n",
       "    }\n",
       "\n",
       "    .dataframe thead th {\n",
       "        text-align: right;\n",
       "    }\n",
       "</style>\n",
       "<table border=\"1\" class=\"dataframe\">\n",
       "  <thead>\n",
       "    <tr style=\"text-align: right;\">\n",
       "      <th></th>\n",
       "      <th>PredictionString</th>\n",
       "    </tr>\n",
       "    <tr>\n",
       "      <th>patientId</th>\n",
       "      <th></th>\n",
       "    </tr>\n",
       "  </thead>\n",
       "  <tbody>\n",
       "    <tr>\n",
       "      <th>c103f115-266b-4f0c-97d0-082dc2438a27</th>\n",
       "      <td>0.97 612 372 268 416 0.97 240 568 188 184</td>\n",
       "    </tr>\n",
       "    <tr>\n",
       "      <th>2ba3df76-d959-414f-b466-4bc0b4f41135</th>\n",
       "      <td>0.98 188 252 224 252 0.95 588 240 228 340</td>\n",
       "    </tr>\n",
       "    <tr>\n",
       "      <th>1114eeb8-c035-42f4-a038-13a806a568ad</th>\n",
       "      <td>NaN</td>\n",
       "    </tr>\n",
       "    <tr>\n",
       "      <th>2276b258-5b47-4c7d-ab1f-5b2bae4a8fc4</th>\n",
       "      <td>NaN</td>\n",
       "    </tr>\n",
       "    <tr>\n",
       "      <th>23ffe96d-ef6c-4a8f-914e-12754fe689c4</th>\n",
       "      <td>NaN</td>\n",
       "    </tr>\n",
       "  </tbody>\n",
       "</table>\n",
       "</div>"
      ],
      "text/plain": [
       "                                                                PredictionString\n",
       "patientId                                                                       \n",
       "c103f115-266b-4f0c-97d0-082dc2438a27  0.97 612 372 268 416 0.97 240 568 188 184 \n",
       "2ba3df76-d959-414f-b466-4bc0b4f41135  0.98 188 252 224 252 0.95 588 240 228 340 \n",
       "1114eeb8-c035-42f4-a038-13a806a568ad                                         NaN\n",
       "2276b258-5b47-4c7d-ab1f-5b2bae4a8fc4                                         NaN\n",
       "23ffe96d-ef6c-4a8f-914e-12754fe689c4                                         NaN"
      ]
     },
     "execution_count": 59,
     "metadata": {},
     "output_type": "execute_result"
    }
   ],
   "source": [
    "df_out = df1.copy()\n",
    "for p,r in df1.iterrows():\n",
    "    if p in accepted:\n",
    "        df_out.loc[p,'PredictionString'] = df2.loc[p,'PredictionString']\n",
    "phase5_output = df_out\n",
    "phase5_output.head()"
   ]
  },
  {
   "cell_type": "code",
   "execution_count": 60,
   "metadata": {
    "_uuid": "6be55b350f7e413f33b8b62c04efd6f7765e63fd",
    "execution": {
     "iopub.execute_input": "2022-06-24T11:57:42.787637Z",
     "iopub.status.busy": "2022-06-24T11:57:42.787348Z",
     "iopub.status.idle": "2022-06-24T11:57:42.791952Z",
     "shell.execute_reply": "2022-06-24T11:57:42.791155Z",
     "shell.execute_reply.started": "2022-06-24T11:57:42.787578Z"
    }
   },
   "outputs": [],
   "source": [
    "yolo_epochs = [1500, 2000, 3200, 4100, 5300, 6700, 10000, 13700]"
   ]
  },
  {
   "cell_type": "code",
   "execution_count": 61,
   "metadata": {
    "_uuid": "3b163135a6094288aaa9a5aa563b38357c2ab664",
    "execution": {
     "iopub.execute_input": "2022-06-24T11:57:42.793262Z",
     "iopub.status.busy": "2022-06-24T11:57:42.793024Z",
     "iopub.status.idle": "2022-06-24T11:57:42.953284Z",
     "shell.execute_reply": "2022-06-24T11:57:42.952638Z",
     "shell.execute_reply.started": "2022-06-24T11:57:42.79322Z"
    }
   },
   "outputs": [],
   "source": [
    "df1 = phase5_output\n",
    "\n",
    "dfs = []\n",
    "for eps in yolo_epochs:\n",
    "    yolo_stem = YOLO_SUB_STEM2 if (eps in MORE_YOLO_EPOCHS) else YOLO_SUB_STEM\n",
    "    dfs.append( \n",
    "        pd.read_csv(RESULTS_LOC+'/'+yolo_stem+str(eps)+'.csv').set_index('patientId'))\n",
    "\n",
    "class_preds = phase4_test_output\n",
    "class_probs = class_preds.prob.to_dict()\n",
    "\n",
    "df1_cases = df1[~df1.PredictionString.isnull()]\n",
    "df1_pos_ids = df1_cases.index.values\n",
    "included = df1_pos_ids.tolist()\n",
    "df_out = df1.copy()"
   ]
  },
  {
   "cell_type": "code",
   "execution_count": 62,
   "metadata": {
    "_uuid": "7051cad5af8df558549734ae3b9f8fd6f76835d5",
    "execution": {
     "iopub.execute_input": "2022-06-24T11:57:42.954659Z",
     "iopub.status.busy": "2022-06-24T11:57:42.954399Z",
     "iopub.status.idle": "2022-06-24T11:57:44.916615Z",
     "shell.execute_reply": "2022-06-24T11:57:44.915835Z",
     "shell.execute_reply.started": "2022-06-24T11:57:42.954612Z"
    }
   },
   "outputs": [
    {
     "name": "stdout",
     "output_type": "stream",
     "text": [
      "120a451e-4b61-45e2-b417-cde8bab08d7e 0.23889583954508548\n",
      "2f4dcc33-3ccc-41ca-8b33-9db707891518 0.3172502197430379\n",
      "30867665-1918-4b21-b3d4-b9772a918fdb 0.23347631687361017\n",
      "1f55113e-db6e-4b97-853a-7e8f7e1fe451 0.21218182938086058\n",
      "138ff8b1-a35f-4187-a76b-3eaa01407591 0.2014318721116639\n",
      "28072866-534c-468f-92e0-ea14b79b9421 0.14762150814877056\n",
      "10d00463-dfa9-45b6-8869-9674a7773069 0.2791560296415149\n",
      "1ec0a41e-2a1c-4b4d-8737-06e8373c415e 0.24176859706080525\n",
      "10ae6129-dc22-412d-924d-5c15f93f5408 0.11701838474529465\n",
      "0371b8f9-9f18-4f4c-9c9c-38867e373437 0.13353863474572317\n",
      "134cd460-818b-4ea3-9861-0bdc82b1226c 0.1508810393742686\n",
      "2c097f0d-c690-4bb2-ae19-cf7cf08a4192 0.1486738591349082\n",
      "02b7f2f0-b8e0-41c8-9cfc-83c69d202c67 0.19605067193972783\n",
      "2b98d69d-6e7c-4d51-af53-c3fb16301c08 0.1372700425764234\n",
      "1eda3687-bdf5-469f-8fba-5000c559f48b 0.23139693416457768\n",
      "260a7b23-08ed-451d-bd0a-ecbffc7c3d30 0.23538761781658588\n",
      "28a52994-65a7-4fe6-aa5e-adc0fd4535e9 0.10580141452110654\n",
      "25eb25e4-35a7-4357-a112-264787e32094 0.11247631617961544\n",
      "0db51798-2837-45d6-94a5-1459b8f63b1a 0.14207880830771125\n",
      "0fe112ca-575b-490e-a266-b455a48a644c 0.13824788767997673\n",
      "11390d92-7bc4-4f66-818c-10794419bc37 0.19440353907688143\n",
      "265dd221-9049-4bca-b5c0-4118dafa55c5 0.11569189743096758\n",
      "031eb51e-fec5-4b16-9bfd-2c6a49b2f34b 0.22229608899884493\n",
      "0e1d3610-9f6c-43ea-861f-feb86643987a 0.22530799725042383\n",
      "c19eb270-ac17-48f3-bc22-9ba6fd38ac52 0.0990426816745712\n",
      "131d0246-5f29-49a9-918a-d4f545500e38 0.10637962154010684\n",
      "2e27d646-1edc-4bb6-80e7-dc425c69f133 0.14194624524240346\n",
      "1a0ca228-5501-49f8-85e6-c5e66ecd2d74 0.12005722597117192\n",
      "208db98a-049c-48ed-815a-5bd6f6d2b8af 0.16822444959692032\n",
      "2cafaa81-87f2-40e8-a7df-947de34103b3 0.10968468220861106\n",
      "229ce52f-9e0b-4b6d-abd5-60fc9c3a024a 0.22167112200573716\n",
      "1afe8c37-3a72-43c5-b800-4ad5d3051df0 0.21992681804505004\n"
     ]
    }
   ],
   "source": [
    "while True:\n",
    "    for df2 in dfs:\n",
    "        df2_cases = df2[~df2.PredictionString.isnull()]\n",
    "        df2_pos_ids = df2_cases.index.values\n",
    "        df2_only_dict = {}\n",
    "        outstring_dict = {}\n",
    "        for p in df2_pos_ids:\n",
    "            if not p in included:\n",
    "                maxconf = 0\n",
    "                boxes = []\n",
    "                confs = []\n",
    "                s = df2.loc[p,'PredictionString'].split(' ')\n",
    "                if s[-1]=='':\n",
    "                    s.pop()  # remove terminating null\n",
    "                if s[0]=='':\n",
    "                    s.pop(0)  # remove initial null\n",
    "                if ( len(s)%5 ):\n",
    "                    print( 'Bad prediction string.')\n",
    "                while len(s):\n",
    "                    conf = float(s.pop(0))\n",
    "                    x = int(round(float(s.pop(0))))\n",
    "                    y = int(round(float(s.pop(0))))\n",
    "                    w = int(round(float(s.pop(0))))\n",
    "                    h = int(round(float(s.pop(0))))\n",
    "                    if (conf>YOLO_MINCONF):\n",
    "                        boxes.append( [x,y,w,h] )\n",
    "                        confs.append( conf )\n",
    "                        if conf>maxconf:\n",
    "                            maxconf = conf\n",
    "                predictionString = ''\n",
    "                if len(boxes):\n",
    "                    for box, conf in zip(boxes, confs):\n",
    "                        x, y, w, h = box\n",
    "                        # add to predictionString\n",
    "                        predictionString += '{:6.4f} '.format(conf)\n",
    "                        predictionString += str(x) + ' ' + str(y) + ' ' + str(w) + ' ' + str(h) + ' '\n",
    "                        df2_only_dict[p] = maxconf*class_probs[p]\n",
    "                outstring_dict[p] = predictionString\n",
    "        candidates = pd.DataFrame(pd.Series(df2_only_dict,name='prod'))\n",
    "        best = candidates.sort_values('prod').tail(1).index.values[0]\n",
    "        print(best,candidates.loc[best,'prod'])\n",
    "        df_out.loc[best,'PredictionString'] = outstring_dict[best]\n",
    "        included.append( best )\n",
    "    minprob = class_preds.loc[included[-8:],:].prob.min()\n",
    "    if minprob<MINMIN:\n",
    "        break"
   ]
  },
  {
   "cell_type": "code",
   "execution_count": 63,
   "metadata": {
    "_uuid": "f3a60d302eb247e54420a272a5567a185c07654e",
    "execution": {
     "iopub.execute_input": "2022-06-24T11:57:44.917784Z",
     "iopub.status.busy": "2022-06-24T11:57:44.91751Z",
     "iopub.status.idle": "2022-06-24T11:57:44.93709Z",
     "shell.execute_reply": "2022-06-24T11:57:44.936189Z",
     "shell.execute_reply.started": "2022-06-24T11:57:44.917738Z"
    }
   },
   "outputs": [
    {
     "data": {
      "text/html": [
       "<div>\n",
       "<style scoped>\n",
       "    .dataframe tbody tr th:only-of-type {\n",
       "        vertical-align: middle;\n",
       "    }\n",
       "\n",
       "    .dataframe tbody tr th {\n",
       "        vertical-align: top;\n",
       "    }\n",
       "\n",
       "    .dataframe thead th {\n",
       "        text-align: right;\n",
       "    }\n",
       "</style>\n",
       "<table border=\"1\" class=\"dataframe\">\n",
       "  <thead>\n",
       "    <tr style=\"text-align: right;\">\n",
       "      <th></th>\n",
       "      <th>prob</th>\n",
       "    </tr>\n",
       "    <tr>\n",
       "      <th>patientId</th>\n",
       "      <th></th>\n",
       "    </tr>\n",
       "  </thead>\n",
       "  <tbody>\n",
       "    <tr>\n",
       "      <th>120a451e-4b61-45e2-b417-cde8bab08d7e</th>\n",
       "      <td>0.389370</td>\n",
       "    </tr>\n",
       "    <tr>\n",
       "      <th>2f4dcc33-3ccc-41ca-8b33-9db707891518</th>\n",
       "      <td>0.633555</td>\n",
       "    </tr>\n",
       "    <tr>\n",
       "      <th>30867665-1918-4b21-b3d4-b9772a918fdb</th>\n",
       "      <td>0.476660</td>\n",
       "    </tr>\n",
       "    <tr>\n",
       "      <th>1f55113e-db6e-4b97-853a-7e8f7e1fe451</th>\n",
       "      <td>0.385601</td>\n",
       "    </tr>\n",
       "    <tr>\n",
       "      <th>138ff8b1-a35f-4187-a76b-3eaa01407591</th>\n",
       "      <td>0.373010</td>\n",
       "    </tr>\n",
       "    <tr>\n",
       "      <th>28072866-534c-468f-92e0-ea14b79b9421</th>\n",
       "      <td>0.211147</td>\n",
       "    </tr>\n",
       "    <tr>\n",
       "      <th>10d00463-dfa9-45b6-8869-9674a7773069</th>\n",
       "      <td>0.343005</td>\n",
       "    </tr>\n",
       "    <tr>\n",
       "      <th>1ec0a41e-2a1c-4b4d-8737-06e8373c415e</th>\n",
       "      <td>0.251592</td>\n",
       "    </tr>\n",
       "    <tr>\n",
       "      <th>10ae6129-dc22-412d-924d-5c15f93f5408</th>\n",
       "      <td>0.382470</td>\n",
       "    </tr>\n",
       "    <tr>\n",
       "      <th>0371b8f9-9f18-4f4c-9c9c-38867e373437</th>\n",
       "      <td>0.292697</td>\n",
       "    </tr>\n",
       "    <tr>\n",
       "      <th>134cd460-818b-4ea3-9861-0bdc82b1226c</th>\n",
       "      <td>0.336342</td>\n",
       "    </tr>\n",
       "    <tr>\n",
       "      <th>2c097f0d-c690-4bb2-ae19-cf7cf08a4192</th>\n",
       "      <td>0.300245</td>\n",
       "    </tr>\n",
       "    <tr>\n",
       "      <th>02b7f2f0-b8e0-41c8-9cfc-83c69d202c67</th>\n",
       "      <td>0.389949</td>\n",
       "    </tr>\n",
       "    <tr>\n",
       "      <th>2b98d69d-6e7c-4d51-af53-c3fb16301c08</th>\n",
       "      <td>0.287951</td>\n",
       "    </tr>\n",
       "    <tr>\n",
       "      <th>1eda3687-bdf5-469f-8fba-5000c559f48b</th>\n",
       "      <td>0.246821</td>\n",
       "    </tr>\n",
       "    <tr>\n",
       "      <th>260a7b23-08ed-451d-bd0a-ecbffc7c3d30</th>\n",
       "      <td>0.241187</td>\n",
       "    </tr>\n",
       "    <tr>\n",
       "      <th>28a52994-65a7-4fe6-aa5e-adc0fd4535e9</th>\n",
       "      <td>0.305930</td>\n",
       "    </tr>\n",
       "    <tr>\n",
       "      <th>25eb25e4-35a7-4357-a112-264787e32094</th>\n",
       "      <td>0.215945</td>\n",
       "    </tr>\n",
       "    <tr>\n",
       "      <th>0db51798-2837-45d6-94a5-1459b8f63b1a</th>\n",
       "      <td>0.252907</td>\n",
       "    </tr>\n",
       "    <tr>\n",
       "      <th>0fe112ca-575b-490e-a266-b455a48a644c</th>\n",
       "      <td>0.339252</td>\n",
       "    </tr>\n",
       "    <tr>\n",
       "      <th>11390d92-7bc4-4f66-818c-10794419bc37</th>\n",
       "      <td>0.289750</td>\n",
       "    </tr>\n",
       "    <tr>\n",
       "      <th>265dd221-9049-4bca-b5c0-4118dafa55c5</th>\n",
       "      <td>0.267466</td>\n",
       "    </tr>\n",
       "    <tr>\n",
       "      <th>031eb51e-fec5-4b16-9bfd-2c6a49b2f34b</th>\n",
       "      <td>0.264553</td>\n",
       "    </tr>\n",
       "    <tr>\n",
       "      <th>0e1d3610-9f6c-43ea-861f-feb86643987a</th>\n",
       "      <td>0.332358</td>\n",
       "    </tr>\n",
       "    <tr>\n",
       "      <th>c19eb270-ac17-48f3-bc22-9ba6fd38ac52</th>\n",
       "      <td>0.263131</td>\n",
       "    </tr>\n",
       "    <tr>\n",
       "      <th>131d0246-5f29-49a9-918a-d4f545500e38</th>\n",
       "      <td>0.308370</td>\n",
       "    </tr>\n",
       "    <tr>\n",
       "      <th>2e27d646-1edc-4bb6-80e7-dc425c69f133</th>\n",
       "      <td>0.304347</td>\n",
       "    </tr>\n",
       "    <tr>\n",
       "      <th>1a0ca228-5501-49f8-85e6-c5e66ecd2d74</th>\n",
       "      <td>0.211543</td>\n",
       "    </tr>\n",
       "    <tr>\n",
       "      <th>208db98a-049c-48ed-815a-5bd6f6d2b8af</th>\n",
       "      <td>0.257520</td>\n",
       "    </tr>\n",
       "    <tr>\n",
       "      <th>2cafaa81-87f2-40e8-a7df-947de34103b3</th>\n",
       "      <td>0.170851</td>\n",
       "    </tr>\n",
       "    <tr>\n",
       "      <th>229ce52f-9e0b-4b6d-abd5-60fc9c3a024a</th>\n",
       "      <td>0.350317</td>\n",
       "    </tr>\n",
       "    <tr>\n",
       "      <th>1afe8c37-3a72-43c5-b800-4ad5d3051df0</th>\n",
       "      <td>0.318076</td>\n",
       "    </tr>\n",
       "  </tbody>\n",
       "</table>\n",
       "</div>"
      ],
      "text/plain": [
       "                                          prob\n",
       "patientId                                     \n",
       "120a451e-4b61-45e2-b417-cde8bab08d7e  0.389370\n",
       "2f4dcc33-3ccc-41ca-8b33-9db707891518  0.633555\n",
       "30867665-1918-4b21-b3d4-b9772a918fdb  0.476660\n",
       "1f55113e-db6e-4b97-853a-7e8f7e1fe451  0.385601\n",
       "138ff8b1-a35f-4187-a76b-3eaa01407591  0.373010\n",
       "28072866-534c-468f-92e0-ea14b79b9421  0.211147\n",
       "10d00463-dfa9-45b6-8869-9674a7773069  0.343005\n",
       "1ec0a41e-2a1c-4b4d-8737-06e8373c415e  0.251592\n",
       "10ae6129-dc22-412d-924d-5c15f93f5408  0.382470\n",
       "0371b8f9-9f18-4f4c-9c9c-38867e373437  0.292697\n",
       "134cd460-818b-4ea3-9861-0bdc82b1226c  0.336342\n",
       "2c097f0d-c690-4bb2-ae19-cf7cf08a4192  0.300245\n",
       "02b7f2f0-b8e0-41c8-9cfc-83c69d202c67  0.389949\n",
       "2b98d69d-6e7c-4d51-af53-c3fb16301c08  0.287951\n",
       "1eda3687-bdf5-469f-8fba-5000c559f48b  0.246821\n",
       "260a7b23-08ed-451d-bd0a-ecbffc7c3d30  0.241187\n",
       "28a52994-65a7-4fe6-aa5e-adc0fd4535e9  0.305930\n",
       "25eb25e4-35a7-4357-a112-264787e32094  0.215945\n",
       "0db51798-2837-45d6-94a5-1459b8f63b1a  0.252907\n",
       "0fe112ca-575b-490e-a266-b455a48a644c  0.339252\n",
       "11390d92-7bc4-4f66-818c-10794419bc37  0.289750\n",
       "265dd221-9049-4bca-b5c0-4118dafa55c5  0.267466\n",
       "031eb51e-fec5-4b16-9bfd-2c6a49b2f34b  0.264553\n",
       "0e1d3610-9f6c-43ea-861f-feb86643987a  0.332358\n",
       "c19eb270-ac17-48f3-bc22-9ba6fd38ac52  0.263131\n",
       "131d0246-5f29-49a9-918a-d4f545500e38  0.308370\n",
       "2e27d646-1edc-4bb6-80e7-dc425c69f133  0.304347\n",
       "1a0ca228-5501-49f8-85e6-c5e66ecd2d74  0.211543\n",
       "208db98a-049c-48ed-815a-5bd6f6d2b8af  0.257520\n",
       "2cafaa81-87f2-40e8-a7df-947de34103b3  0.170851\n",
       "229ce52f-9e0b-4b6d-abd5-60fc9c3a024a  0.350317\n",
       "1afe8c37-3a72-43c5-b800-4ad5d3051df0  0.318076"
      ]
     },
     "execution_count": 63,
     "metadata": {},
     "output_type": "execute_result"
    }
   ],
   "source": [
    "class_preds.loc[included[-32:],:]   "
   ]
  },
  {
   "cell_type": "code",
   "execution_count": 64,
   "metadata": {
    "_uuid": "ad81081ed52d80dfd9fa90884444c271948589bb",
    "execution": {
     "iopub.execute_input": "2022-06-24T11:59:04.727323Z",
     "iopub.status.busy": "2022-06-24T11:59:04.726943Z",
     "iopub.status.idle": "2022-06-24T11:59:04.749995Z",
     "shell.execute_reply": "2022-06-24T11:59:04.749067Z",
     "shell.execute_reply.started": "2022-06-24T11:59:04.727277Z"
    }
   },
   "outputs": [
    {
     "data": {
      "text/html": [
       "<div>\n",
       "<style scoped>\n",
       "    .dataframe tbody tr th:only-of-type {\n",
       "        vertical-align: middle;\n",
       "    }\n",
       "\n",
       "    .dataframe tbody tr th {\n",
       "        vertical-align: top;\n",
       "    }\n",
       "\n",
       "    .dataframe thead th {\n",
       "        text-align: right;\n",
       "    }\n",
       "</style>\n",
       "<table border=\"1\" class=\"dataframe\">\n",
       "  <thead>\n",
       "    <tr style=\"text-align: right;\">\n",
       "      <th></th>\n",
       "      <th>PredictionString</th>\n",
       "    </tr>\n",
       "    <tr>\n",
       "      <th>patientId</th>\n",
       "      <th></th>\n",
       "    </tr>\n",
       "  </thead>\n",
       "  <tbody>\n",
       "    <tr>\n",
       "      <th>c103f115-266b-4f0c-97d0-082dc2438a27</th>\n",
       "      <td>0.97 612 372 268 416 0.97 240 568 188 184</td>\n",
       "    </tr>\n",
       "    <tr>\n",
       "      <th>2ba3df76-d959-414f-b466-4bc0b4f41135</th>\n",
       "      <td>0.98 188 252 224 252 0.95 588 240 228 340</td>\n",
       "    </tr>\n",
       "    <tr>\n",
       "      <th>1114eeb8-c035-42f4-a038-13a806a568ad</th>\n",
       "      <td>NaN</td>\n",
       "    </tr>\n",
       "    <tr>\n",
       "      <th>2276b258-5b47-4c7d-ab1f-5b2bae4a8fc4</th>\n",
       "      <td>NaN</td>\n",
       "    </tr>\n",
       "    <tr>\n",
       "      <th>23ffe96d-ef6c-4a8f-914e-12754fe689c4</th>\n",
       "      <td>NaN</td>\n",
       "    </tr>\n",
       "  </tbody>\n",
       "</table>\n",
       "</div>"
      ],
      "text/plain": [
       "                                                                PredictionString\n",
       "patientId                                                                       \n",
       "c103f115-266b-4f0c-97d0-082dc2438a27  0.97 612 372 268 416 0.97 240 568 188 184 \n",
       "2ba3df76-d959-414f-b466-4bc0b4f41135  0.98 188 252 224 252 0.95 588 240 228 340 \n",
       "1114eeb8-c035-42f4-a038-13a806a568ad                                         NaN\n",
       "2276b258-5b47-4c7d-ab1f-5b2bae4a8fc4                                         NaN\n",
       "23ffe96d-ef6c-4a8f-914e-12754fe689c4                                         NaN"
      ]
     },
     "execution_count": 64,
     "metadata": {},
     "output_type": "execute_result"
    }
   ],
   "source": [
    "df_out.to_csv('submission.csv')\n",
    "df_out.head()"
   ]
  }
 ],
 "metadata": {
  "kernelspec": {
   "display_name": "Python 3",
   "language": "python",
   "name": "python3"
  },
  "language_info": {
   "codemirror_mode": {
    "name": "ipython",
    "version": 3
   },
   "file_extension": ".py",
   "mimetype": "text/x-python",
   "name": "python",
   "nbconvert_exporter": "python",
   "pygments_lexer": "ipython3",
   "version": "3.6.6"
  }
 },
 "nbformat": 4,
 "nbformat_minor": 4
}
