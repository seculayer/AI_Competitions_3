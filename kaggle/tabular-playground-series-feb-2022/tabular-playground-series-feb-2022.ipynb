{
 "cells": [
  {
   "cell_type": "code",
   "execution_count": null,
   "metadata": {},
   "outputs": [],
   "source": [
    "import time\n",
    "from math import factorial\n",
    "\n",
    "import pandas as pd\n",
    "import numpy as np\n",
    "\n",
    "from sklearn.ensemble import ExtraTreesClassifier\n",
    "from sklearn.preprocessing import LabelEncoder\n",
    "\n",
    "from sklearn.model_selection import StratifiedKFold\n",
    "from sklearn.metrics import accuracy_score"
   ]
  },
  {
   "cell_type": "markdown",
   "metadata": {},
   "source": [
    "# ExtraTreesClassifier"
   ]
  },
  {
   "cell_type": "code",
   "execution_count": null,
   "metadata": {},
   "outputs": [],
   "source": [
    "def reduce_mem_usage(df):\n",
    "    \"\"\" iterate through all the columns of a dataframe and modify the data type\n",
    "        to reduce memory usage.        \n",
    "    \"\"\"\n",
    "    start_mem = df.memory_usage().sum() / 1024**2\n",
    "    print('Memory usage of dataframe is {:.2f} MB'.format(start_mem))\n",
    "    \n",
    "    for col in df.columns:\n",
    "        col_type = df[col].dtype\n",
    "        \n",
    "        if col_type != object and col_type.name != 'category' and 'datetime' not in col_type.name:\n",
    "            c_min = df[col].min()\n",
    "            c_max = df[col].max()\n",
    "            if str(col_type)[:3] == 'int':\n",
    "                if c_min > np.iinfo(np.int8).min and c_max < np.iinfo(np.int8).max:\n",
    "                    df[col] = df[col].astype(np.int8)\n",
    "                elif c_min > np.iinfo(np.int16).min and c_max < np.iinfo(np.int16).max:\n",
    "                    df[col] = df[col].astype(np.int16)\n",
    "                elif c_min > np.iinfo(np.int32).min and c_max < np.iinfo(np.int32).max:\n",
    "                    df[col] = df[col].astype(np.int32)\n",
    "                elif c_min > np.iinfo(np.int64).min and c_max < np.iinfo(np.int64).max:\n",
    "                    df[col] = df[col].astype(np.int64)  \n",
    "            else:\n",
    "                if c_min > np.finfo(np.float16).min and c_max < np.finfo(np.float16).max:\n",
    "                    df[col] = df[col].astype(np.float16)\n",
    "                elif c_min > np.finfo(np.float32).min and c_max < np.finfo(np.float32).max:\n",
    "                    df[col] = df[col].astype(np.float32)\n",
    "                else:\n",
    "                    df[col] = df[col].astype(np.float64)\n",
    "        elif 'datetime' not in col_type.name:\n",
    "            df[col] = df[col].astype('category')\n",
    "\n",
    "    end_mem = df.memory_usage().sum() / 1024**2\n",
    "    print('Memory usage after optimization is: {:.2f} MB'.format(end_mem))\n",
    "    print('Decreased by {:.1f}%'.format(100 * (start_mem - end_mem) / start_mem))\n",
    "    return df"
   ]
  },
  {
   "cell_type": "code",
   "execution_count": null,
   "metadata": {},
   "outputs": [],
   "source": [
    "train = pd.read_csv(\"input/train.csv\")\n",
    "train = reduce_mem_usage(train)\n",
    "test = pd.read_csv(\"input/test.csv\")\n",
    "test = reduce_mem_usage(test)\n",
    "\n",
    "train.drop([\"row_id\"] , axis = 1 , inplace = True)\n",
    "test.drop([\"row_id\"] , axis = 1 , inplace = True)"
   ]
  },
  {
   "cell_type": "code",
   "execution_count": null,
   "metadata": {},
   "outputs": [],
   "source": [
    "le = LabelEncoder()\n",
    "train['target'] = le.fit_transform(train['target'])\n",
    "\n",
    "y = train[\"target\"]\n",
    "train.drop(\"target\", axis=1, inplace=True)\n",
    "# FEATURES = [col for col in train.columns if col not in ['row_id', \"target\"]]\n",
    "# RANDOM_STATE = 12"
   ]
  },
  {
   "cell_type": "code",
   "execution_count": null,
   "metadata": {},
   "outputs": [],
   "source": [
    "predictions, scores = [], []\n",
    " \n",
    "k = StratifiedKFold(n_splits=10, random_state=228, shuffle=True)\n",
    "for i, (trn_idx, val_idx) in enumerate(k.split(train, y)):\n",
    "    \n",
    "    X_train, X_val = train.iloc[trn_idx], train.iloc[val_idx]\n",
    "    y_train, y_val = y.iloc[trn_idx], y.iloc[val_idx]\n",
    "\n",
    "    model = ExtraTreesClassifier(n_estimators=1000, n_jobs=-1)\n",
    "    model.fit(X_train, y_train)\n",
    "    \n",
    "    val_pred = model.predict(X_val)\n",
    "    val_score = accuracy_score(y_val, val_pred)\n",
    "    print(f'Fold {i+1} accuracy score: {round(val_score, 4)}')\n",
    "    \n",
    "    scores.append(val_score)\n",
    "    predictions.append(model.predict_proba(test))\n",
    "print('')    \n",
    "print(f'Mean accuracy - {round(np.mean(scores), 4)}')"
   ]
  },
  {
   "cell_type": "code",
   "execution_count": null,
   "metadata": {},
   "outputs": [],
   "source": [
    "# Postprocessing method: https://www.kaggle.com/code/ambrosm/tpsfeb22-02-postprocessing-against-the-mutants/notebook#The-surprise\n",
    "y_proba = sum(predictions) / len(predictions)\n",
    "y_proba += np.array([0, 0, 0.025, 0.045, 0, 0, 0, 0, 0, 0])\n",
    "y_pred_tuned = le.inverse_transform(np.argmax(y_proba, axis=1))\n",
    "pd.Series(y_pred_tuned, index=test.index).value_counts().sort_index() / len(test) * 100"
   ]
  },
  {
   "cell_type": "code",
   "execution_count": null,
   "metadata": {},
   "outputs": [],
   "source": [
    "sub = pd.read_csv(\"input/sample_submission.csv\")\n",
    "sub['target'] = y_pred_tuned\n",
    "sub.to_csv('submission_etc.csv', index=False)"
   ]
  },
  {
   "cell_type": "markdown",
   "metadata": {},
   "source": [
    "# Radius Neighbors Classifier"
   ]
  },
  {
   "cell_type": "code",
   "execution_count": null,
   "metadata": {},
   "outputs": [],
   "source": [
    "train_df = pd.read_csv(\"input/train.csv\")\n",
    "test_df = pd.read_csv(\"input/test.csv\")\n",
    "\n",
    "elements = [e for e in train_df.columns if e != 'row_id' and e != 'target']\n",
    "\n",
    "# Convert the 10 bacteria names to the integers 0 .. 9\n",
    "le = LabelEncoder()\n",
    "train_df['target_num'] = le.fit_transform(train_df.target)\n",
    "\n",
    "train_df.shape, test_df.shape"
   ]
  },
  {
   "cell_type": "code",
   "execution_count": null,
   "metadata": {},
   "outputs": [],
   "source": [
    "# Idea from https://www.kaggle.com/code/ambrosm/tpsfeb22-01-eda-which-makes-sense\n",
    "# Compute gcd and integer representations\n",
    "def bias_of(s):\n",
    "    \"\"\"\n",
    "    Bias is between 9.5e-7 and 2.4e-2. The sum of all biases is 1.\"\"\"\n",
    "    w = int(s[1:s.index('T')])\n",
    "    x = int(s[s.index('T')+1:s.index('G')])\n",
    "    y = int(s[s.index('G')+1:s.index('C')])\n",
    "    z = int(s[s.index('C')+1:])\n",
    "    return factorial(10) / (factorial(w) * factorial(x) * factorial(y) * factorial(z) * 4**10)\n",
    "\n",
    "bias_vector = np.array([bias_of(col) for col in elements])\n",
    "\n",
    "train_i = pd.DataFrame(((train_df[elements].values + bias_vector) * 1000000).round().astype(int), columns=elements, index=train_df.index)\n",
    "test_i = pd.DataFrame(((test_df[elements].values + bias_vector) * 1000000).round().astype(int), columns=elements, index=test_df.index)\n",
    "\n",
    "train_df['gcd'] = np.gcd.reduce(train_i[elements], axis=1)\n",
    "test_df['gcd'] = np.gcd.reduce(test_i[elements], axis=1)\n"
   ]
  },
  {
   "cell_type": "code",
   "execution_count": null,
   "metadata": {},
   "outputs": [],
   "source": [
    "# Select training samples with gcd=10000 (i.e. num_reads=100), drop duplicates and convert to integer\n",
    "Z_tr = (train_i[(train_df.gcd == 10000)].drop_duplicates(elements) // 10000)\n",
    "y_tr = train_df[(train_df.gcd == 10000)].drop_duplicates(elements).target_num\n",
    "\n",
    "# Select test samples with gcd=10000 (i.e. num_reads=100) and convert to integer\n",
    "Z_te = (test_i[(test_df.gcd == 10000)] // 10000)\n",
    "Z_tr.shape, y_tr.shape, Z_te.shape"
   ]
  },
  {
   "cell_type": "code",
   "execution_count": null,
   "metadata": {},
   "outputs": [],
   "source": [
    "%%time\n",
    "# Convert Z_tr and Z_te to arrays X_tr and X_te of shape (n_samples, 100)\n",
    "def transform(Z):\n",
    "    ll = [] # list of lists which will be converted to a 2d array\n",
    "    for i in range(len(Z)):\n",
    "        l = [] # list which will be converted to a row of the new 2d array\n",
    "        for j in range(Z.shape[1]):\n",
    "            for k in range(Z.iloc[i, j]): l.append(j)\n",
    "        ll.append(l)\n",
    "    return np.array(ll)\n",
    "\n",
    "X_tr = transform(Z_tr)\n",
    "X_te = transform(Z_te)\n",
    "X_tr.shape, X_te.shape"
   ]
  },
  {
   "cell_type": "code",
   "execution_count": null,
   "metadata": {},
   "outputs": [],
   "source": [
    "# Predict with RadiusNeighborsClassifier\n",
    "rnc = RadiusNeighborsClassifier(radius=18, weights='distance',\n",
    "                                p=1, outlier_label=-1, n_jobs=-1)\n",
    "rnc.fit(X_tr, y_tr)\n",
    "y_pred = rnc.predict(X_te)\n",
    "print('Unique predictions:', np.unique(y_pred))\n",
    "print('Frequencies:', np.unique(y_pred, return_counts=True)[1])\n",
    "print('Samples:', len(y_pred))\n",
    "print('Predicted samples:', \n",
    "      len(y_pred) - np.unique(y_pred, return_counts=True)[1][0])"
   ]
  },
  {
   "cell_type": "code",
   "execution_count": null,
   "metadata": {},
   "outputs": [],
   "source": [
    "# Read the ExtrTreesClassifier submission and merge it with our predictions\n",
    "top_submission = pd.read_csv('submission_etc.csv')\n",
    "test_df['target_num'] = le.transform(top_submission.target)\n",
    "test_df.loc[(test_df.gcd == 10000), 'target_num'] = y_pred # can contain -1\n",
    "test_df['target_num'] = np.where(test_df.target_num == -1,\n",
    "                                 le.transform(top_submission.target),\n",
    "                                 test_df.target_num)\n",
    "test_df['target'] = le.inverse_transform(test_df.target_num.astype(int))\n",
    "submission = test_df[['row_id', 'target']]\n",
    "print('Modified:', (submission.target != top_submission.target).sum())\n",
    "submission.to_csv('submission_radiusneighbors.csv', index=False)\n",
    "submission\n"
   ]
  }
 ],
 "metadata": {
  "interpreter": {
   "hash": "a08591c38ea25fa2ec48c0dc32349ab6d452d3e2ddc25d0f83068c6731561b37"
  },
  "kernelspec": {
   "display_name": "Python 3.8.10 64-bit ('kaggle_env': venv)",
   "name": "python3"
  },
  "language_info": {
   "codemirror_mode": {
    "name": "ipython",
    "version": 3
   },
   "file_extension": ".py",
   "mimetype": "text/x-python",
   "name": "python",
   "nbconvert_exporter": "python",
   "pygments_lexer": "ipython3",
   "version": "3.8.10"
  },
  "orig_nbformat": 4
 },
 "nbformat": 4,
 "nbformat_minor": 2
}
