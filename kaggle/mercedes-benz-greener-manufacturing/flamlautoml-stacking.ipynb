{
 "cells": [
  {
   "cell_type": "code",
   "execution_count": 1,
   "id": "8bdf02f7",
   "metadata": {
    "_cell_guid": "b1076dfc-b9ad-4769-8c92-a6c4dae69d19",
    "_uuid": "8f2839f25d086af736a60e9eeb907d3b93b6e0e5",
    "execution": {
     "iopub.execute_input": "2022-01-28T08:20:22.235228Z",
     "iopub.status.busy": "2022-01-28T08:20:22.233782Z",
     "iopub.status.idle": "2022-01-28T08:20:22.244882Z",
     "shell.execute_reply": "2022-01-28T08:20:22.243974Z",
     "shell.execute_reply.started": "2022-01-28T08:17:26.512670Z"
    },
    "papermill": {
     "duration": 0.034789,
     "end_time": "2022-01-28T08:20:22.245015",
     "exception": false,
     "start_time": "2022-01-28T08:20:22.210226",
     "status": "completed"
    },
    "tags": []
   },
   "outputs": [],
   "source": [
    "import numpy as np\n",
    "import pandas as pd"
   ]
  },
  {
   "cell_type": "markdown",
   "id": "e1cc3c00",
   "metadata": {
    "papermill": {
     "duration": 0.018324,
     "end_time": "2022-01-28T08:20:22.282204",
     "exception": false,
     "start_time": "2022-01-28T08:20:22.263880",
     "status": "completed"
    },
    "tags": []
   },
   "source": [
    "FLAML参数使用请查询https://github.com/microsoft/FLAML"
   ]
  },
  {
   "cell_type": "code",
   "execution_count": 2,
   "id": "0a524e46",
   "metadata": {
    "execution": {
     "iopub.execute_input": "2022-01-28T08:20:22.323513Z",
     "iopub.status.busy": "2022-01-28T08:20:22.322963Z",
     "iopub.status.idle": "2022-01-28T08:20:49.460574Z",
     "shell.execute_reply": "2022-01-28T08:20:49.460090Z",
     "shell.execute_reply.started": "2022-01-28T08:17:26.538919Z"
    },
    "papermill": {
     "duration": 27.160142,
     "end_time": "2022-01-28T08:20:49.460706",
     "exception": false,
     "start_time": "2022-01-28T08:20:22.300564",
     "status": "completed"
    },
    "tags": []
   },
   "outputs": [
    {
     "name": "stdout",
     "output_type": "stream",
     "text": [
      "Collecting flaml\r\n",
      "  Downloading FLAML-0.9.5-py3-none-any.whl (142 kB)\r\n",
      "\u001b[K     |████████████████████████████████| 142 kB 598 kB/s \r\n",
      "\u001b[?25hRequirement already satisfied: pandas>=1.1.4 in /opt/conda/lib/python3.7/site-packages (from flaml) (1.3.3)\r\n",
      "Requirement already satisfied: NumPy>=1.16.2 in /opt/conda/lib/python3.7/site-packages (from flaml) (1.19.5)\r\n",
      "Collecting scikit-learn>=0.24\r\n",
      "  Downloading scikit_learn-1.0.2-cp37-cp37m-manylinux_2_17_x86_64.manylinux2014_x86_64.whl (24.8 MB)\r\n",
      "\u001b[K     |████████████████████████████████| 24.8 MB 556 kB/s \r\n",
      "\u001b[?25hRequirement already satisfied: lightgbm>=2.3.1 in /opt/conda/lib/python3.7/site-packages (from flaml) (3.2.1)\r\n",
      "Collecting xgboost<=1.3.3,>=0.90\r\n",
      "  Downloading xgboost-1.3.3-py3-none-manylinux2010_x86_64.whl (157.5 MB)\r\n",
      "\u001b[K     |████████████████████████████████| 157.5 MB 66 kB/s \r\n",
      "\u001b[?25hRequirement already satisfied: scipy>=1.4.1 in /opt/conda/lib/python3.7/site-packages (from flaml) (1.7.1)\r\n",
      "Requirement already satisfied: wheel in /opt/conda/lib/python3.7/site-packages (from lightgbm>=2.3.1->flaml) (0.37.0)\r\n",
      "Requirement already satisfied: pytz>=2017.3 in /opt/conda/lib/python3.7/site-packages (from pandas>=1.1.4->flaml) (2021.1)\r\n",
      "Requirement already satisfied: python-dateutil>=2.7.3 in /opt/conda/lib/python3.7/site-packages (from pandas>=1.1.4->flaml) (2.8.0)\r\n",
      "Requirement already satisfied: six>=1.5 in /opt/conda/lib/python3.7/site-packages (from python-dateutil>=2.7.3->pandas>=1.1.4->flaml) (1.16.0)\r\n",
      "Requirement already satisfied: threadpoolctl>=2.0.0 in /opt/conda/lib/python3.7/site-packages (from scikit-learn>=0.24->flaml) (2.2.0)\r\n",
      "Requirement already satisfied: joblib>=0.11 in /opt/conda/lib/python3.7/site-packages (from scikit-learn>=0.24->flaml) (1.0.1)\r\n",
      "Installing collected packages: scikit-learn, xgboost, flaml\r\n",
      "  Attempting uninstall: scikit-learn\r\n",
      "    Found existing installation: scikit-learn 0.23.2\r\n",
      "    Uninstalling scikit-learn-0.23.2:\r\n",
      "      Successfully uninstalled scikit-learn-0.23.2\r\n",
      "  Attempting uninstall: xgboost\r\n",
      "    Found existing installation: xgboost 1.4.2\r\n",
      "    Uninstalling xgboost-1.4.2:\r\n",
      "      Successfully uninstalled xgboost-1.4.2\r\n",
      "\u001b[31mERROR: pip's dependency resolver does not currently take into account all the packages that are installed. This behaviour is the source of the following dependency conflicts.\r\n",
      "pdpbox 0.2.1 requires matplotlib==3.1.1, but you have matplotlib 3.4.3 which is incompatible.\r\n",
      "hypertools 0.7.0 requires scikit-learn!=0.22,<0.24,>=0.19.1, but you have scikit-learn 1.0.2 which is incompatible.\u001b[0m\r\n",
      "Successfully installed flaml-0.9.5 scikit-learn-1.0.2 xgboost-1.3.3\r\n",
      "\u001b[33mWARNING: Running pip as the 'root' user can result in broken permissions and conflicting behaviour with the system package manager. It is recommended to use a virtual environment instead: https://pip.pypa.io/warnings/venv\u001b[0m\r\n"
     ]
    }
   ],
   "source": [
    "!pip install flaml"
   ]
  },
  {
   "cell_type": "code",
   "execution_count": 3,
   "id": "67417d5c",
   "metadata": {
    "execution": {
     "iopub.execute_input": "2022-01-28T08:20:49.656568Z",
     "iopub.status.busy": "2022-01-28T08:20:49.655680Z",
     "iopub.status.idle": "2022-01-28T08:20:51.476010Z",
     "shell.execute_reply": "2022-01-28T08:20:51.475025Z",
     "shell.execute_reply.started": "2022-01-28T08:17:51.588051Z"
    },
    "papermill": {
     "duration": 1.920796,
     "end_time": "2022-01-28T08:20:51.476198",
     "exception": false,
     "start_time": "2022-01-28T08:20:49.555402",
     "status": "completed"
    },
    "tags": []
   },
   "outputs": [],
   "source": [
    "from flaml import AutoML"
   ]
  },
  {
   "cell_type": "code",
   "execution_count": 4,
   "id": "0ffcaa22",
   "metadata": {
    "execution": {
     "iopub.execute_input": "2022-01-28T08:20:52.192479Z",
     "iopub.status.busy": "2022-01-28T08:20:52.191673Z",
     "iopub.status.idle": "2022-01-28T08:20:52.663220Z",
     "shell.execute_reply": "2022-01-28T08:20:52.664112Z",
     "shell.execute_reply.started": "2022-01-28T08:17:53.125491Z"
    },
    "papermill": {
     "duration": 0.881634,
     "end_time": "2022-01-28T08:20:52.664389",
     "exception": false,
     "start_time": "2022-01-28T08:20:51.782755",
     "status": "completed"
    },
    "tags": []
   },
   "outputs": [],
   "source": [
    "train = pd.read_csv('../input/mercedes-benz-greener-manufacturing/train.csv.zip')\n",
    "test = pd.read_csv('../input/mercedes-benz-greener-manufacturing/test.csv.zip')\n",
    "submission = pd.read_csv('../input/mercedes-benz-greener-manufacturing/sample_submission.csv.zip')"
   ]
  },
  {
   "cell_type": "code",
   "execution_count": 5,
   "id": "50eb5673",
   "metadata": {
    "execution": {
     "iopub.execute_input": "2022-01-28T08:20:53.022307Z",
     "iopub.status.busy": "2022-01-28T08:20:53.021357Z",
     "iopub.status.idle": "2022-01-28T08:20:53.024600Z",
     "shell.execute_reply": "2022-01-28T08:20:53.025213Z",
     "shell.execute_reply.started": "2022-01-28T08:17:53.462108Z"
    },
    "papermill": {
     "duration": 0.17307,
     "end_time": "2022-01-28T08:20:53.025400",
     "exception": false,
     "start_time": "2022-01-28T08:20:52.852330",
     "status": "completed"
    },
    "tags": []
   },
   "outputs": [
    {
     "name": "stdout",
     "output_type": "stream",
     "text": [
      "\n",
      "train shape (4209, 378)\n",
      "\n",
      "test shape (4209, 377)\n",
      "\n",
      "submission (4209, 2)\n"
     ]
    }
   ],
   "source": [
    "print(\"\\ntrain shape\",train.shape)\n",
    "print(\"\\ntest shape\", test.shape)\n",
    "print(\"\\nsubmission\", submission.shape)"
   ]
  },
  {
   "cell_type": "markdown",
   "id": "c88e65fc",
   "metadata": {
    "papermill": {
     "duration": 0.101301,
     "end_time": "2022-01-28T08:20:53.229868",
     "exception": false,
     "start_time": "2022-01-28T08:20:53.128567",
     "status": "completed"
    },
    "tags": []
   },
   "source": [
    "# 使用label encoder进行转换"
   ]
  },
  {
   "cell_type": "code",
   "execution_count": 6,
   "id": "c40c7abc",
   "metadata": {
    "execution": {
     "iopub.execute_input": "2022-01-28T08:20:53.498062Z",
     "iopub.status.busy": "2022-01-28T08:20:53.497456Z",
     "iopub.status.idle": "2022-01-28T08:20:53.604564Z",
     "shell.execute_reply": "2022-01-28T08:20:53.603992Z",
     "shell.execute_reply.started": "2022-01-28T08:17:53.469044Z"
    },
    "papermill": {
     "duration": 0.273341,
     "end_time": "2022-01-28T08:20:53.604704",
     "exception": false,
     "start_time": "2022-01-28T08:20:53.331363",
     "status": "completed"
    },
    "tags": []
   },
   "outputs": [],
   "source": [
    "from sklearn.preprocessing import LabelEncoder\n",
    "for c in train.columns:\n",
    "    if train[c].dtype == 'object':\n",
    "        lbl = LabelEncoder()\n",
    "        lbl.fit(list(train[c].values) + list(test[c].values))\n",
    "        train[c] = lbl.transform(list(train[c].values))\n",
    "        test[c] = lbl.transform(list(test[c].values))"
   ]
  },
  {
   "cell_type": "code",
   "execution_count": 7,
   "id": "4bbca81b",
   "metadata": {
    "execution": {
     "iopub.execute_input": "2022-01-28T08:20:53.814558Z",
     "iopub.status.busy": "2022-01-28T08:20:53.813972Z",
     "iopub.status.idle": "2022-01-28T08:20:53.836704Z",
     "shell.execute_reply": "2022-01-28T08:20:53.836223Z",
     "shell.execute_reply.started": "2022-01-28T08:17:53.582801Z"
    },
    "papermill": {
     "duration": 0.129769,
     "end_time": "2022-01-28T08:20:53.836869",
     "exception": false,
     "start_time": "2022-01-28T08:20:53.707100",
     "status": "completed"
    },
    "tags": []
   },
   "outputs": [
    {
     "name": "stdout",
     "output_type": "stream",
     "text": [
      "(4209, 377)\n",
      "(4209,) <class 'pandas.core.series.Series'>\n"
     ]
    }
   ],
   "source": [
    "X=train.drop(['y'],axis=1)\n",
    "y=train['y']\n",
    "print(X.shape)\n",
    "print(y.shape,type(y))"
   ]
  },
  {
   "cell_type": "code",
   "execution_count": 8,
   "id": "5ab72f84",
   "metadata": {
    "execution": {
     "iopub.execute_input": "2022-01-28T08:20:54.061079Z",
     "iopub.status.busy": "2022-01-28T08:20:54.059647Z",
     "iopub.status.idle": "2022-01-28T08:20:54.064656Z",
     "shell.execute_reply": "2022-01-28T08:20:54.065096Z",
     "shell.execute_reply.started": "2022-01-28T08:17:53.608101Z"
    },
    "papermill": {
     "duration": 0.124277,
     "end_time": "2022-01-28T08:20:54.065328",
     "exception": false,
     "start_time": "2022-01-28T08:20:53.941051",
     "status": "completed"
    },
    "tags": []
   },
   "outputs": [
    {
     "name": "stdout",
     "output_type": "stream",
     "text": [
      "(3367, 377)\n",
      "(842, 377)\n",
      "(3367,)\n",
      "(842,)\n"
     ]
    }
   ],
   "source": [
    "from sklearn.model_selection import train_test_split\n",
    "train_x,test_x,train_y,test_y=train_test_split(X,y,test_size=0.2)\n",
    "print(train_x.shape)\n",
    "print(test_x.shape)\n",
    "print(train_y.shape)\n",
    "print(test_y.shape)"
   ]
  },
  {
   "cell_type": "markdown",
   "id": "de44503d",
   "metadata": {
    "papermill": {
     "duration": 0.101408,
     "end_time": "2022-01-28T08:20:54.268933",
     "exception": false,
     "start_time": "2022-01-28T08:20:54.167525",
     "status": "completed"
    },
    "tags": []
   },
   "source": [
    "# 调用模型实例，训练模型，进行预测"
   ]
  },
  {
   "cell_type": "code",
   "execution_count": 9,
   "id": "150d8501",
   "metadata": {
    "execution": {
     "iopub.execute_input": "2022-01-28T08:20:54.519374Z",
     "iopub.status.busy": "2022-01-28T08:20:54.516344Z",
     "iopub.status.idle": "2022-01-28T08:21:04.867993Z",
     "shell.execute_reply": "2022-01-28T08:21:04.868942Z",
     "shell.execute_reply.started": "2022-01-28T08:17:53.625094Z"
    },
    "papermill": {
     "duration": 10.481733,
     "end_time": "2022-01-28T08:21:04.869148",
     "exception": false,
     "start_time": "2022-01-28T08:20:54.387415",
     "status": "completed"
    },
    "tags": []
   },
   "outputs": [
    {
     "name": "stderr",
     "output_type": "stream",
     "text": [
      "[flaml.automl: 01-28 08:20:55] {2007} INFO - task = regression\n",
      "[flaml.automl: 01-28 08:20:55] {2009} INFO - Data split method: uniform\n",
      "[flaml.automl: 01-28 08:20:55] {2013} INFO - Evaluation method: holdout\n",
      "[flaml.automl: 01-28 08:20:55] {2113} INFO - Minimizing error metric: 1-r2\n",
      "[flaml.automl: 01-28 08:20:55] {2170} INFO - List of ML learners in AutoML Run: ['lgbm', 'rf', 'catboost', 'xgboost', 'extra_tree', 'xgb_limitdepth']\n",
      "[flaml.automl: 01-28 08:20:55] {2437} INFO - iteration 0, current learner lgbm\n"
     ]
    },
    {
     "data": {
      "text/html": [
       "<style type='text/css'>\n",
       ".datatable table.frame { margin-bottom: 0; }\n",
       ".datatable table.frame thead { border-bottom: none; }\n",
       ".datatable table.frame tr.coltypes td {  color: #FFFFFF;  line-height: 6px;  padding: 0 0.5em;}\n",
       ".datatable .bool    { background: #DDDD99; }\n",
       ".datatable .object  { background: #565656; }\n",
       ".datatable .int     { background: #5D9E5D; }\n",
       ".datatable .float   { background: #4040CC; }\n",
       ".datatable .str     { background: #CC4040; }\n",
       ".datatable .time    { background: #40CC40; }\n",
       ".datatable .row_index {  background: var(--jp-border-color3);  border-right: 1px solid var(--jp-border-color0);  color: var(--jp-ui-font-color3);  font-size: 9px;}\n",
       ".datatable .frame tbody td { text-align: left; }\n",
       ".datatable .frame tr.coltypes .row_index {  background: var(--jp-border-color0);}\n",
       ".datatable th:nth-child(2) { padding-left: 12px; }\n",
       ".datatable .hellipsis {  color: var(--jp-cell-editor-border-color);}\n",
       ".datatable .vellipsis {  background: var(--jp-layout-color0);  color: var(--jp-cell-editor-border-color);}\n",
       ".datatable .na {  color: var(--jp-cell-editor-border-color);  font-size: 80%;}\n",
       ".datatable .sp {  opacity: 0.25;}\n",
       ".datatable .footer { font-size: 9px; }\n",
       ".datatable .frame_dimensions {  background: var(--jp-border-color3);  border-top: 1px solid var(--jp-border-color0);  color: var(--jp-ui-font-color3);  display: inline-block;  opacity: 0.6;  padding: 1px 10px 1px 5px;}\n",
       "</style>\n"
      ],
      "text/plain": [
       "<IPython.core.display.HTML object>"
      ]
     },
     "metadata": {},
     "output_type": "display_data"
    },
    {
     "name": "stderr",
     "output_type": "stream",
     "text": [
      "[flaml.automl: 01-28 08:20:57] {2551} INFO - Estimated sufficient time budget=19365s. Estimated necessary time budget=166s.\n",
      "[flaml.automl: 01-28 08:20:57] {2603} INFO -  at 2.7s,\testimator lgbm's best error=0.6831,\tbest estimator lgbm's best error=0.6831\n",
      "[flaml.automl: 01-28 08:20:57] {2437} INFO - iteration 1, current learner lgbm\n",
      "[flaml.automl: 01-28 08:20:57] {2603} INFO -  at 2.8s,\testimator lgbm's best error=0.6831,\tbest estimator lgbm's best error=0.6831\n",
      "[flaml.automl: 01-28 08:20:57] {2437} INFO - iteration 2, current learner lgbm\n",
      "[flaml.automl: 01-28 08:20:57] {2603} INFO -  at 2.8s,\testimator lgbm's best error=0.4742,\tbest estimator lgbm's best error=0.4742\n",
      "[flaml.automl: 01-28 08:20:57] {2437} INFO - iteration 3, current learner lgbm\n",
      "[flaml.automl: 01-28 08:20:57] {2603} INFO -  at 2.9s,\testimator lgbm's best error=0.3983,\tbest estimator lgbm's best error=0.3983\n",
      "[flaml.automl: 01-28 08:20:57] {2437} INFO - iteration 4, current learner lgbm\n",
      "[flaml.automl: 01-28 08:20:57] {2603} INFO -  at 3.0s,\testimator lgbm's best error=0.3983,\tbest estimator lgbm's best error=0.3983\n",
      "[flaml.automl: 01-28 08:20:57] {2437} INFO - iteration 5, current learner lgbm\n",
      "[flaml.automl: 01-28 08:20:57] {2603} INFO -  at 3.0s,\testimator lgbm's best error=0.3983,\tbest estimator lgbm's best error=0.3983\n",
      "[flaml.automl: 01-28 08:20:57] {2437} INFO - iteration 6, current learner lgbm\n",
      "[flaml.automl: 01-28 08:20:57] {2603} INFO -  at 3.1s,\testimator lgbm's best error=0.3943,\tbest estimator lgbm's best error=0.3943\n",
      "[flaml.automl: 01-28 08:20:57] {2437} INFO - iteration 7, current learner lgbm\n",
      "[flaml.automl: 01-28 08:20:57] {2603} INFO -  at 3.2s,\testimator lgbm's best error=0.3943,\tbest estimator lgbm's best error=0.3943\n",
      "[flaml.automl: 01-28 08:20:57] {2437} INFO - iteration 8, current learner lgbm\n",
      "[flaml.automl: 01-28 08:20:57] {2603} INFO -  at 3.4s,\testimator lgbm's best error=0.3937,\tbest estimator lgbm's best error=0.3937\n",
      "[flaml.automl: 01-28 08:20:57] {2437} INFO - iteration 9, current learner lgbm\n",
      "[flaml.automl: 01-28 08:20:57] {2603} INFO -  at 3.5s,\testimator lgbm's best error=0.3937,\tbest estimator lgbm's best error=0.3937\n",
      "[flaml.automl: 01-28 08:20:57] {2437} INFO - iteration 10, current learner lgbm\n",
      "[flaml.automl: 01-28 08:20:58] {2603} INFO -  at 3.7s,\testimator lgbm's best error=0.3937,\tbest estimator lgbm's best error=0.3937\n",
      "[flaml.automl: 01-28 08:20:58] {2437} INFO - iteration 11, current learner lgbm\n",
      "[flaml.automl: 01-28 08:20:58] {2603} INFO -  at 3.7s,\testimator lgbm's best error=0.3937,\tbest estimator lgbm's best error=0.3937\n",
      "[flaml.automl: 01-28 08:20:58] {2437} INFO - iteration 12, current learner lgbm\n",
      "[flaml.automl: 01-28 08:20:58] {2603} INFO -  at 3.8s,\testimator lgbm's best error=0.3937,\tbest estimator lgbm's best error=0.3937\n",
      "[flaml.automl: 01-28 08:20:58] {2437} INFO - iteration 13, current learner lgbm\n",
      "[flaml.automl: 01-28 08:20:58] {2603} INFO -  at 3.9s,\testimator lgbm's best error=0.3937,\tbest estimator lgbm's best error=0.3937\n",
      "[flaml.automl: 01-28 08:20:58] {2437} INFO - iteration 14, current learner lgbm\n",
      "[flaml.automl: 01-28 08:20:58] {2603} INFO -  at 4.0s,\testimator lgbm's best error=0.3937,\tbest estimator lgbm's best error=0.3937\n",
      "[flaml.automl: 01-28 08:20:58] {2437} INFO - iteration 15, current learner lgbm\n",
      "[flaml.automl: 01-28 08:20:58] {2603} INFO -  at 4.1s,\testimator lgbm's best error=0.3937,\tbest estimator lgbm's best error=0.3937\n",
      "[flaml.automl: 01-28 08:20:58] {2437} INFO - iteration 16, current learner lgbm\n",
      "[flaml.automl: 01-28 08:20:58] {2603} INFO -  at 4.1s,\testimator lgbm's best error=0.3937,\tbest estimator lgbm's best error=0.3937\n",
      "[flaml.automl: 01-28 08:20:58] {2437} INFO - iteration 17, current learner lgbm\n",
      "[flaml.automl: 01-28 08:20:58] {2603} INFO -  at 4.2s,\testimator lgbm's best error=0.3937,\tbest estimator lgbm's best error=0.3937\n",
      "[flaml.automl: 01-28 08:20:58] {2437} INFO - iteration 18, current learner lgbm\n",
      "[flaml.automl: 01-28 08:20:58] {2603} INFO -  at 4.3s,\testimator lgbm's best error=0.3937,\tbest estimator lgbm's best error=0.3937\n",
      "[flaml.automl: 01-28 08:20:58] {2437} INFO - iteration 19, current learner lgbm\n",
      "[flaml.automl: 01-28 08:20:58] {2603} INFO -  at 4.4s,\testimator lgbm's best error=0.3937,\tbest estimator lgbm's best error=0.3937\n",
      "[flaml.automl: 01-28 08:20:58] {2437} INFO - iteration 20, current learner lgbm\n",
      "[flaml.automl: 01-28 08:20:58] {2603} INFO -  at 4.5s,\testimator lgbm's best error=0.3937,\tbest estimator lgbm's best error=0.3937\n",
      "[flaml.automl: 01-28 08:20:58] {2437} INFO - iteration 21, current learner lgbm\n",
      "[flaml.automl: 01-28 08:20:59] {2603} INFO -  at 4.6s,\testimator lgbm's best error=0.3937,\tbest estimator lgbm's best error=0.3937\n",
      "[flaml.automl: 01-28 08:20:59] {2437} INFO - iteration 22, current learner lgbm\n",
      "[flaml.automl: 01-28 08:20:59] {2603} INFO -  at 4.6s,\testimator lgbm's best error=0.3937,\tbest estimator lgbm's best error=0.3937\n",
      "[flaml.automl: 01-28 08:20:59] {2437} INFO - iteration 23, current learner lgbm\n",
      "[flaml.automl: 01-28 08:20:59] {2603} INFO -  at 4.7s,\testimator lgbm's best error=0.3937,\tbest estimator lgbm's best error=0.3937\n",
      "[flaml.automl: 01-28 08:20:59] {2437} INFO - iteration 24, current learner lgbm\n",
      "[flaml.automl: 01-28 08:20:59] {2603} INFO -  at 4.8s,\testimator lgbm's best error=0.3937,\tbest estimator lgbm's best error=0.3937\n",
      "[flaml.automl: 01-28 08:20:59] {2437} INFO - iteration 25, current learner lgbm\n",
      "[flaml.automl: 01-28 08:20:59] {2603} INFO -  at 4.9s,\testimator lgbm's best error=0.3937,\tbest estimator lgbm's best error=0.3937\n",
      "[flaml.automl: 01-28 08:20:59] {2437} INFO - iteration 26, current learner lgbm\n",
      "[flaml.automl: 01-28 08:20:59] {2603} INFO -  at 5.0s,\testimator lgbm's best error=0.3937,\tbest estimator lgbm's best error=0.3937\n",
      "[flaml.automl: 01-28 08:20:59] {2437} INFO - iteration 27, current learner lgbm\n",
      "[flaml.automl: 01-28 08:20:59] {2603} INFO -  at 5.0s,\testimator lgbm's best error=0.3937,\tbest estimator lgbm's best error=0.3937\n",
      "[flaml.automl: 01-28 08:20:59] {2437} INFO - iteration 28, current learner lgbm\n",
      "[flaml.automl: 01-28 08:20:59] {2603} INFO -  at 5.1s,\testimator lgbm's best error=0.3937,\tbest estimator lgbm's best error=0.3937\n",
      "[flaml.automl: 01-28 08:20:59] {2437} INFO - iteration 29, current learner lgbm\n",
      "[flaml.automl: 01-28 08:20:59] {2603} INFO -  at 5.2s,\testimator lgbm's best error=0.3937,\tbest estimator lgbm's best error=0.3937\n",
      "[flaml.automl: 01-28 08:20:59] {2437} INFO - iteration 30, current learner lgbm\n",
      "[flaml.automl: 01-28 08:20:59] {2603} INFO -  at 5.3s,\testimator lgbm's best error=0.3937,\tbest estimator lgbm's best error=0.3937\n",
      "[flaml.automl: 01-28 08:20:59] {2437} INFO - iteration 31, current learner lgbm\n",
      "[flaml.automl: 01-28 08:20:59] {2603} INFO -  at 5.4s,\testimator lgbm's best error=0.3937,\tbest estimator lgbm's best error=0.3937\n",
      "[flaml.automl: 01-28 08:20:59] {2437} INFO - iteration 32, current learner lgbm\n",
      "[flaml.automl: 01-28 08:20:59] {2603} INFO -  at 5.4s,\testimator lgbm's best error=0.3935,\tbest estimator lgbm's best error=0.3935\n",
      "[flaml.automl: 01-28 08:20:59] {2437} INFO - iteration 33, current learner lgbm\n",
      "[flaml.automl: 01-28 08:21:00] {2603} INFO -  at 5.5s,\testimator lgbm's best error=0.3924,\tbest estimator lgbm's best error=0.3924\n",
      "[flaml.automl: 01-28 08:21:00] {2437} INFO - iteration 34, current learner lgbm\n",
      "[flaml.automl: 01-28 08:21:00] {2603} INFO -  at 5.6s,\testimator lgbm's best error=0.3924,\tbest estimator lgbm's best error=0.3924\n",
      "[flaml.automl: 01-28 08:21:00] {2437} INFO - iteration 35, current learner lgbm\n",
      "[flaml.automl: 01-28 08:21:00] {2603} INFO -  at 5.8s,\testimator lgbm's best error=0.3924,\tbest estimator lgbm's best error=0.3924\n",
      "[flaml.automl: 01-28 08:21:00] {2437} INFO - iteration 36, current learner lgbm\n",
      "[flaml.automl: 01-28 08:21:00] {2603} INFO -  at 5.8s,\testimator lgbm's best error=0.3924,\tbest estimator lgbm's best error=0.3924\n",
      "[flaml.automl: 01-28 08:21:00] {2437} INFO - iteration 37, current learner lgbm\n",
      "[flaml.automl: 01-28 08:21:00] {2603} INFO -  at 5.9s,\testimator lgbm's best error=0.3924,\tbest estimator lgbm's best error=0.3924\n",
      "[flaml.automl: 01-28 08:21:00] {2437} INFO - iteration 38, current learner lgbm\n",
      "[flaml.automl: 01-28 08:21:00] {2603} INFO -  at 6.0s,\testimator lgbm's best error=0.3924,\tbest estimator lgbm's best error=0.3924\n",
      "[flaml.automl: 01-28 08:21:00] {2437} INFO - iteration 39, current learner lgbm\n",
      "[flaml.automl: 01-28 08:21:00] {2603} INFO -  at 6.2s,\testimator lgbm's best error=0.3924,\tbest estimator lgbm's best error=0.3924\n",
      "[flaml.automl: 01-28 08:21:00] {2437} INFO - iteration 40, current learner lgbm\n",
      "[flaml.automl: 01-28 08:21:00] {2603} INFO -  at 6.2s,\testimator lgbm's best error=0.3924,\tbest estimator lgbm's best error=0.3924\n",
      "[flaml.automl: 01-28 08:21:00] {2437} INFO - iteration 41, current learner lgbm\n",
      "[flaml.automl: 01-28 08:21:00] {2603} INFO -  at 6.3s,\testimator lgbm's best error=0.3924,\tbest estimator lgbm's best error=0.3924\n",
      "[flaml.automl: 01-28 08:21:00] {2437} INFO - iteration 42, current learner lgbm\n",
      "[flaml.automl: 01-28 08:21:00] {2603} INFO -  at 6.4s,\testimator lgbm's best error=0.3924,\tbest estimator lgbm's best error=0.3924\n",
      "[flaml.automl: 01-28 08:21:00] {2437} INFO - iteration 43, current learner lgbm\n",
      "[flaml.automl: 01-28 08:21:01] {2603} INFO -  at 6.6s,\testimator lgbm's best error=0.3924,\tbest estimator lgbm's best error=0.3924\n",
      "[flaml.automl: 01-28 08:21:01] {2437} INFO - iteration 44, current learner lgbm\n",
      "[flaml.automl: 01-28 08:21:01] {2603} INFO -  at 6.6s,\testimator lgbm's best error=0.3924,\tbest estimator lgbm's best error=0.3924\n",
      "[flaml.automl: 01-28 08:21:01] {2437} INFO - iteration 45, current learner lgbm\n",
      "[flaml.automl: 01-28 08:21:01] {2603} INFO -  at 6.7s,\testimator lgbm's best error=0.3924,\tbest estimator lgbm's best error=0.3924\n",
      "[flaml.automl: 01-28 08:21:01] {2437} INFO - iteration 46, current learner lgbm\n",
      "[flaml.automl: 01-28 08:21:01] {2603} INFO -  at 6.8s,\testimator lgbm's best error=0.3924,\tbest estimator lgbm's best error=0.3924\n",
      "[flaml.automl: 01-28 08:21:01] {2437} INFO - iteration 47, current learner lgbm\n",
      "[flaml.automl: 01-28 08:21:01] {2603} INFO -  at 6.9s,\testimator lgbm's best error=0.3924,\tbest estimator lgbm's best error=0.3924\n",
      "[flaml.automl: 01-28 08:21:01] {2437} INFO - iteration 48, current learner lgbm\n",
      "[flaml.automl: 01-28 08:21:01] {2603} INFO -  at 7.1s,\testimator lgbm's best error=0.3924,\tbest estimator lgbm's best error=0.3924\n",
      "[flaml.automl: 01-28 08:21:01] {2437} INFO - iteration 49, current learner lgbm\n",
      "[flaml.automl: 01-28 08:21:01] {2603} INFO -  at 7.1s,\testimator lgbm's best error=0.3924,\tbest estimator lgbm's best error=0.3924\n",
      "[flaml.automl: 01-28 08:21:01] {2437} INFO - iteration 50, current learner lgbm\n",
      "[flaml.automl: 01-28 08:21:01] {2603} INFO -  at 7.3s,\testimator lgbm's best error=0.3924,\tbest estimator lgbm's best error=0.3924\n",
      "[flaml.automl: 01-28 08:21:01] {2437} INFO - iteration 51, current learner lgbm\n",
      "[flaml.automl: 01-28 08:21:01] {2603} INFO -  at 7.5s,\testimator lgbm's best error=0.3924,\tbest estimator lgbm's best error=0.3924\n",
      "[flaml.automl: 01-28 08:21:01] {2437} INFO - iteration 52, current learner lgbm\n",
      "[flaml.automl: 01-28 08:21:02] {2603} INFO -  at 7.5s,\testimator lgbm's best error=0.3924,\tbest estimator lgbm's best error=0.3924\n",
      "[flaml.automl: 01-28 08:21:02] {2437} INFO - iteration 53, current learner lgbm\n",
      "[flaml.automl: 01-28 08:21:02] {2603} INFO -  at 7.7s,\testimator lgbm's best error=0.3924,\tbest estimator lgbm's best error=0.3924\n",
      "[flaml.automl: 01-28 08:21:02] {2437} INFO - iteration 54, current learner lgbm\n",
      "[flaml.automl: 01-28 08:21:02] {2603} INFO -  at 7.8s,\testimator lgbm's best error=0.3924,\tbest estimator lgbm's best error=0.3924\n",
      "[flaml.automl: 01-28 08:21:02] {2437} INFO - iteration 55, current learner lgbm\n",
      "[flaml.automl: 01-28 08:21:02] {2603} INFO -  at 7.9s,\testimator lgbm's best error=0.3924,\tbest estimator lgbm's best error=0.3924\n",
      "[flaml.automl: 01-28 08:21:02] {2437} INFO - iteration 56, current learner lgbm\n",
      "[flaml.automl: 01-28 08:21:02] {2603} INFO -  at 7.9s,\testimator lgbm's best error=0.3924,\tbest estimator lgbm's best error=0.3924\n",
      "[flaml.automl: 01-28 08:21:02] {2437} INFO - iteration 57, current learner lgbm\n",
      "[flaml.automl: 01-28 08:21:02] {2603} INFO -  at 8.0s,\testimator lgbm's best error=0.3924,\tbest estimator lgbm's best error=0.3924\n",
      "[flaml.automl: 01-28 08:21:02] {2437} INFO - iteration 58, current learner lgbm\n",
      "[flaml.automl: 01-28 08:21:02] {2603} INFO -  at 8.1s,\testimator lgbm's best error=0.3924,\tbest estimator lgbm's best error=0.3924\n",
      "[flaml.automl: 01-28 08:21:02] {2437} INFO - iteration 59, current learner lgbm\n",
      "[flaml.automl: 01-28 08:21:02] {2603} INFO -  at 8.2s,\testimator lgbm's best error=0.3924,\tbest estimator lgbm's best error=0.3924\n",
      "[flaml.automl: 01-28 08:21:02] {2437} INFO - iteration 60, current learner lgbm\n",
      "[flaml.automl: 01-28 08:21:02] {2603} INFO -  at 8.3s,\testimator lgbm's best error=0.3924,\tbest estimator lgbm's best error=0.3924\n",
      "[flaml.automl: 01-28 08:21:02] {2437} INFO - iteration 61, current learner lgbm\n",
      "[flaml.automl: 01-28 08:21:02] {2603} INFO -  at 8.4s,\testimator lgbm's best error=0.3924,\tbest estimator lgbm's best error=0.3924\n",
      "[flaml.automl: 01-28 08:21:02] {2437} INFO - iteration 62, current learner lgbm\n",
      "[flaml.automl: 01-28 08:21:03] {2603} INFO -  at 8.5s,\testimator lgbm's best error=0.3924,\tbest estimator lgbm's best error=0.3924\n",
      "[flaml.automl: 01-28 08:21:03] {2437} INFO - iteration 63, current learner lgbm\n",
      "[flaml.automl: 01-28 08:21:03] {2603} INFO -  at 8.6s,\testimator lgbm's best error=0.3924,\tbest estimator lgbm's best error=0.3924\n",
      "[flaml.automl: 01-28 08:21:03] {2437} INFO - iteration 64, current learner lgbm\n",
      "[flaml.automl: 01-28 08:21:03] {2603} INFO -  at 8.7s,\testimator lgbm's best error=0.3924,\tbest estimator lgbm's best error=0.3924\n",
      "[flaml.automl: 01-28 08:21:03] {2437} INFO - iteration 65, current learner lgbm\n",
      "[flaml.automl: 01-28 08:21:03] {2603} INFO -  at 8.8s,\testimator lgbm's best error=0.3924,\tbest estimator lgbm's best error=0.3924\n",
      "[flaml.automl: 01-28 08:21:03] {2437} INFO - iteration 66, current learner xgboost\n",
      "[flaml.automl: 01-28 08:21:04] {2603} INFO -  at 10.0s,\testimator xgboost's best error=30.0286,\tbest estimator lgbm's best error=0.3924\n",
      "[flaml.automl: 01-28 08:21:04] {2817} INFO - retrain lgbm for 0.1s\n",
      "[flaml.automl: 01-28 08:21:04] {2822} INFO - retrained model: LGBMRegressor(learning_rate=0.13233424079596745, max_bin=255,\n",
      "              min_child_samples=17, n_estimators=27, num_leaves=9,\n",
      "              reg_alpha=0.0195153320494843, reg_lambda=1.341231512833295,\n",
      "              verbose=-1)\n",
      "[flaml.automl: 01-28 08:21:04] {2199} INFO - fit succeeded\n",
      "[flaml.automl: 01-28 08:21:04] {2201} INFO - Time taken to find the best model: 5.533263683319092\n"
     ]
    },
    {
     "name": "stdout",
     "output_type": "stream",
     "text": [
      "(3367,)\n",
      "<flaml.model.LGBMEstimator object at 0x7f7d9e1d3f90>\n"
     ]
    }
   ],
   "source": [
    "automl = AutoML()\n",
    "automl_settings = {\n",
    "    \"time_budget\": 10,  # in seconds\n",
    "    \"metric\": 'r2',\n",
    "    \"task\": 'regression'\n",
    "}\n",
    "automl.fit(X_train=train_x, y_train=train_y,\n",
    "           **automl_settings)\n",
    "print(automl.predict(train_x).shape)\n",
    "\n",
    "# Export the best model\n",
    "print(automl.model)"
   ]
  },
  {
   "cell_type": "code",
   "execution_count": 10,
   "id": "adfa19ea",
   "metadata": {
    "execution": {
     "iopub.execute_input": "2022-01-28T08:21:05.138858Z",
     "iopub.status.busy": "2022-01-28T08:21:05.137941Z",
     "iopub.status.idle": "2022-01-28T08:21:05.141364Z",
     "shell.execute_reply": "2022-01-28T08:21:05.141985Z",
     "shell.execute_reply.started": "2022-01-28T08:18:04.196450Z"
    },
    "papermill": {
     "duration": 0.141908,
     "end_time": "2022-01-28T08:21:05.142166",
     "exception": false,
     "start_time": "2022-01-28T08:21:05.000258",
     "status": "completed"
    },
    "tags": []
   },
   "outputs": [
    {
     "name": "stdout",
     "output_type": "stream",
     "text": [
      "Best ML leaner: lgbm\n",
      "Best hyperparmeter config: {'n_estimators': 27, 'num_leaves': 9, 'min_child_samples': 17, 'learning_rate': 0.13233424079596745, 'log_max_bin': 8, 'colsample_bytree': 1.0, 'reg_alpha': 0.0195153320494843, 'reg_lambda': 1.341231512833295}\n",
      "Best accuracy on validation data: 0.6076\n",
      "Training duration of best run: 0.08466 s\n"
     ]
    }
   ],
   "source": [
    "print('Best ML leaner:', automl.best_estimator)\n",
    "print('Best hyperparmeter config:', automl.best_config)\n",
    "print('Best accuracy on validation data: {0:.4g}'.format(1-automl.best_loss))\n",
    "print('Training duration of best run: {0:.4g} s'.format(automl.best_config_train_time))"
   ]
  },
  {
   "cell_type": "code",
   "execution_count": 11,
   "id": "fc66d6c5",
   "metadata": {
    "execution": {
     "iopub.execute_input": "2022-01-28T08:21:05.412583Z",
     "iopub.status.busy": "2022-01-28T08:21:05.411337Z",
     "iopub.status.idle": "2022-01-28T08:21:05.732552Z",
     "shell.execute_reply": "2022-01-28T08:21:05.732042Z",
     "shell.execute_reply.started": "2022-01-28T08:18:04.205629Z"
    },
    "papermill": {
     "duration": 0.458282,
     "end_time": "2022-01-28T08:21:05.732675",
     "exception": false,
     "start_time": "2022-01-28T08:21:05.274393",
     "status": "completed"
    },
    "tags": []
   },
   "outputs": [],
   "source": [
    "test_predict = automl.predict(test)\n",
    "submission['y']=test_predict\n",
    "submission.to_csv('submission.csv', index=False)"
   ]
  },
  {
   "cell_type": "code",
   "execution_count": 12,
   "id": "0d019f5b",
   "metadata": {
    "execution": {
     "iopub.execute_input": "2022-01-28T08:21:05.999818Z",
     "iopub.status.busy": "2022-01-28T08:21:05.999138Z",
     "iopub.status.idle": "2022-01-28T08:21:06.001942Z",
     "shell.execute_reply": "2022-01-28T08:21:06.002365Z",
     "shell.execute_reply.started": "2022-01-28T08:18:04.539846Z"
    },
    "papermill": {
     "duration": 0.138596,
     "end_time": "2022-01-28T08:21:06.002498",
     "exception": false,
     "start_time": "2022-01-28T08:21:05.863902",
     "status": "completed"
    },
    "tags": []
   },
   "outputs": [
    {
     "data": {
      "text/plain": [
       "{'n_estimators': 27,\n",
       " 'num_leaves': 9,\n",
       " 'min_child_samples': 17,\n",
       " 'learning_rate': 0.13233424079596745,\n",
       " 'log_max_bin': 8,\n",
       " 'colsample_bytree': 1.0,\n",
       " 'reg_alpha': 0.0195153320494843,\n",
       " 'reg_lambda': 1.341231512833295}"
      ]
     },
     "execution_count": 12,
     "metadata": {},
     "output_type": "execute_result"
    }
   ],
   "source": [
    "automl.best_config"
   ]
  },
  {
   "cell_type": "markdown",
   "id": "d8d0ea67",
   "metadata": {
    "papermill": {
     "duration": 0.1312,
     "end_time": "2022-01-28T08:21:06.264647",
     "exception": false,
     "start_time": "2022-01-28T08:21:06.133447",
     "status": "completed"
    },
    "tags": []
   },
   "source": [
    "# 讲上述[9]~[11]的代码反复运行，获得多组参数，并将其中最好的参数拿来使用"
   ]
  },
  {
   "cell_type": "code",
   "execution_count": 13,
   "id": "1377e798",
   "metadata": {
    "execution": {
     "iopub.execute_input": "2022-01-28T08:21:06.531024Z",
     "iopub.status.busy": "2022-01-28T08:21:06.530311Z",
     "iopub.status.idle": "2022-01-28T08:21:06.557616Z",
     "shell.execute_reply": "2022-01-28T08:21:06.557174Z",
     "shell.execute_reply.started": "2022-01-28T08:18:04.548261Z"
    },
    "papermill": {
     "duration": 0.164109,
     "end_time": "2022-01-28T08:21:06.557731",
     "exception": false,
     "start_time": "2022-01-28T08:21:06.393622",
     "status": "completed"
    },
    "tags": []
   },
   "outputs": [],
   "source": [
    "from mlxtend.regressor import StackingCVRegressor\n",
    "from xgboost import XGBRegressor\n",
    "from lightgbm import LGBMRegressor"
   ]
  },
  {
   "cell_type": "code",
   "execution_count": 14,
   "id": "d2c0846d",
   "metadata": {
    "execution": {
     "iopub.execute_input": "2022-01-28T08:21:06.828585Z",
     "iopub.status.busy": "2022-01-28T08:21:06.827669Z",
     "iopub.status.idle": "2022-01-28T08:21:06.829550Z",
     "shell.execute_reply": "2022-01-28T08:21:06.829995Z",
     "shell.execute_reply.started": "2022-01-28T08:18:04.577039Z"
    },
    "papermill": {
     "duration": 0.137825,
     "end_time": "2022-01-28T08:21:06.830130",
     "exception": false,
     "start_time": "2022-01-28T08:21:06.692305",
     "status": "completed"
    },
    "tags": []
   },
   "outputs": [],
   "source": [
    "lgbm = LGBMRegressor(n_estimators= 40, \n",
    "          num_leaves= 46, \n",
    "          min_child_samples= 13,\n",
    "          learning_rate= 0.0955054451824824, \n",
    "          log_max_bin= 10, \n",
    "          colsample_bytree= 1.0, \n",
    "          reg_alpha= 0.005626855491108521, \n",
    "          reg_lambda= 11.660799315054836)"
   ]
  },
  {
   "cell_type": "code",
   "execution_count": 15,
   "id": "898c6807",
   "metadata": {
    "execution": {
     "iopub.execute_input": "2022-01-28T08:21:07.097990Z",
     "iopub.status.busy": "2022-01-28T08:21:07.097086Z",
     "iopub.status.idle": "2022-01-28T08:21:07.098924Z",
     "shell.execute_reply": "2022-01-28T08:21:07.099336Z",
     "shell.execute_reply.started": "2022-01-28T08:18:04.583317Z"
    },
    "papermill": {
     "duration": 0.139339,
     "end_time": "2022-01-28T08:21:07.099469",
     "exception": false,
     "start_time": "2022-01-28T08:21:06.960130",
     "status": "completed"
    },
    "tags": []
   },
   "outputs": [],
   "source": [
    "xgboost = XGBRegressor(n_estimators= 2,         \n",
    "                     max_leaves=8,         \n",
    "                     min_child_weight= 1.888631728256368,         \n",
    "                     learning_rate=1.0,         \n",
    "                     subsample= 0.86572740032985,         \n",
    "                     colsample_bylevel= 1.0,         \n",
    "                     colsample_bytree= 1.0,         \n",
    "                     reg_alpha= 0.0014067552771442214,         \n",
    "                     tree_method='gpu_hist',         \n",
    "                     num_boost_round= 2,         \n",
    "                     gpu_id=0,         \n",
    "                     reg_lambda= 0.0182039394877554)"
   ]
  },
  {
   "cell_type": "code",
   "execution_count": 16,
   "id": "5a42f78d",
   "metadata": {
    "execution": {
     "iopub.execute_input": "2022-01-28T08:21:07.364071Z",
     "iopub.status.busy": "2022-01-28T08:21:07.363386Z",
     "iopub.status.idle": "2022-01-28T08:21:07.367010Z",
     "shell.execute_reply": "2022-01-28T08:21:07.366562Z",
     "shell.execute_reply.started": "2022-01-28T08:18:04.594530Z"
    },
    "papermill": {
     "duration": 0.137967,
     "end_time": "2022-01-28T08:21:07.367132",
     "exception": false,
     "start_time": "2022-01-28T08:21:07.229165",
     "status": "completed"
    },
    "tags": []
   },
   "outputs": [],
   "source": [
    "stack_gen = StackingCVRegressor(regressors=(xgboost,lgbm),\n",
    "                                meta_regressor=xgboost,\n",
    "                                use_features_in_secondary=True)"
   ]
  },
  {
   "cell_type": "code",
   "execution_count": 17,
   "id": "14e0a66e",
   "metadata": {
    "execution": {
     "iopub.execute_input": "2022-01-28T08:21:07.643599Z",
     "iopub.status.busy": "2022-01-28T08:21:07.641955Z",
     "iopub.status.idle": "2022-01-28T08:21:07.644263Z",
     "shell.execute_reply": "2022-01-28T08:21:07.644663Z",
     "shell.execute_reply.started": "2022-01-28T08:18:04.602243Z"
    },
    "papermill": {
     "duration": 0.148714,
     "end_time": "2022-01-28T08:21:07.644823",
     "exception": false,
     "start_time": "2022-01-28T08:21:07.496109",
     "status": "completed"
    },
    "tags": []
   },
   "outputs": [],
   "source": [
    "from datetime import datetime"
   ]
  },
  {
   "cell_type": "code",
   "execution_count": 18,
   "id": "05d57025",
   "metadata": {
    "execution": {
     "iopub.execute_input": "2022-01-28T08:21:07.911951Z",
     "iopub.status.busy": "2022-01-28T08:21:07.910704Z",
     "iopub.status.idle": "2022-01-28T08:21:09.500724Z",
     "shell.execute_reply": "2022-01-28T08:21:09.501513Z",
     "shell.execute_reply.started": "2022-01-28T08:18:04.610859Z"
    },
    "papermill": {
     "duration": 1.727201,
     "end_time": "2022-01-28T08:21:09.501723",
     "exception": false,
     "start_time": "2022-01-28T08:21:07.774522",
     "status": "completed"
    },
    "tags": []
   },
   "outputs": [
    {
     "name": "stdout",
     "output_type": "stream",
     "text": [
      "进行模型参数训练 START Fit\n",
      "2022-01-28 08:21:07.908174 对stack_gen集成器模型进行参数训练\n",
      "[LightGBM] [Warning] Unknown parameter: log_max_bin\n",
      "[LightGBM] [Warning] Unknown parameter: log_max_bin\n",
      "[LightGBM] [Warning] Unknown parameter: log_max_bin\n",
      "[LightGBM] [Warning] Unknown parameter: log_max_bin\n",
      "[LightGBM] [Warning] Unknown parameter: log_max_bin\n",
      "[LightGBM] [Warning] Unknown parameter: log_max_bin\n"
     ]
    }
   ],
   "source": [
    "print('进行模型参数训练 START Fit')\n",
    "\n",
    "print(datetime.now(), '对stack_gen集成器模型进行参数训练')\n",
    "stack_gen_model = stack_gen.fit(np.array(X), np.array(y))"
   ]
  },
  {
   "cell_type": "code",
   "execution_count": 19,
   "id": "3edf75a9",
   "metadata": {
    "execution": {
     "iopub.execute_input": "2022-01-28T08:21:09.773583Z",
     "iopub.status.busy": "2022-01-28T08:21:09.771932Z",
     "iopub.status.idle": "2022-01-28T08:21:09.854682Z",
     "shell.execute_reply": "2022-01-28T08:21:09.855296Z",
     "shell.execute_reply.started": "2022-01-28T08:18:06.058752Z"
    },
    "papermill": {
     "duration": 0.220191,
     "end_time": "2022-01-28T08:21:09.855481",
     "exception": false,
     "start_time": "2022-01-28T08:21:09.635290",
     "status": "completed"
    },
    "tags": []
   },
   "outputs": [],
   "source": [
    "stacking_predict = stack_gen_model.predict(np.array(test))"
   ]
  },
  {
   "cell_type": "code",
   "execution_count": 20,
   "id": "389935fe",
   "metadata": {
    "execution": {
     "iopub.execute_input": "2022-01-28T08:21:10.135160Z",
     "iopub.status.busy": "2022-01-28T08:21:10.134337Z",
     "iopub.status.idle": "2022-01-28T08:21:10.188840Z",
     "shell.execute_reply": "2022-01-28T08:21:10.189305Z",
     "shell.execute_reply.started": "2022-01-28T08:18:06.159486Z"
    },
    "papermill": {
     "duration": 0.199319,
     "end_time": "2022-01-28T08:21:10.189463",
     "exception": false,
     "start_time": "2022-01-28T08:21:09.990144",
     "status": "completed"
    },
    "tags": []
   },
   "outputs": [
    {
     "data": {
      "text/plain": [
       "XGBRegressor(base_score=0.5, booster='gbtree', colsample_bylevel=1.0,\n",
       "             colsample_bynode=1, colsample_bytree=1.0, gamma=0, gpu_id=0,\n",
       "             importance_type='gain', interaction_constraints='',\n",
       "             learning_rate=1.0, max_delta_step=0, max_depth=6, max_leaves=8,\n",
       "             min_child_weight=1.888631728256368, missing=nan,\n",
       "             monotone_constraints='()', n_estimators=2, n_jobs=2,\n",
       "             num_boost_round=2, num_parallel_tree=1, random_state=0,\n",
       "             reg_alpha=0.0014067552771442214, reg_lambda=0.0182039394877554,\n",
       "             scale_pos_weight=1, subsample=0.86572740032985,\n",
       "             tree_method='gpu_hist', validate_parameters=1, verbosity=None)"
      ]
     },
     "execution_count": 20,
     "metadata": {},
     "output_type": "execute_result"
    }
   ],
   "source": [
    "xgboost.fit(train_x, train_y)"
   ]
  },
  {
   "cell_type": "code",
   "execution_count": 21,
   "id": "fe285120",
   "metadata": {
    "execution": {
     "iopub.execute_input": "2022-01-28T08:21:10.474809Z",
     "iopub.status.busy": "2022-01-28T08:21:10.474066Z",
     "iopub.status.idle": "2022-01-28T08:21:10.500297Z",
     "shell.execute_reply": "2022-01-28T08:21:10.501053Z",
     "shell.execute_reply.started": "2022-01-28T08:18:06.221647Z"
    },
    "papermill": {
     "duration": 0.170471,
     "end_time": "2022-01-28T08:21:10.501217",
     "exception": false,
     "start_time": "2022-01-28T08:21:10.330746",
     "status": "completed"
    },
    "tags": []
   },
   "outputs": [],
   "source": [
    "xgboost_predict = xgboost.predict(test)"
   ]
  },
  {
   "cell_type": "code",
   "execution_count": 22,
   "id": "2e597eaf",
   "metadata": {
    "execution": {
     "iopub.execute_input": "2022-01-28T08:21:10.773679Z",
     "iopub.status.busy": "2022-01-28T08:21:10.772868Z",
     "iopub.status.idle": "2022-01-28T08:21:10.902499Z",
     "shell.execute_reply": "2022-01-28T08:21:10.902945Z",
     "shell.execute_reply.started": "2022-01-28T08:18:06.261217Z"
    },
    "papermill": {
     "duration": 0.267435,
     "end_time": "2022-01-28T08:21:10.903100",
     "exception": false,
     "start_time": "2022-01-28T08:21:10.635665",
     "status": "completed"
    },
    "tags": []
   },
   "outputs": [
    {
     "name": "stdout",
     "output_type": "stream",
     "text": [
      "[LightGBM] [Warning] Unknown parameter: log_max_bin\n"
     ]
    },
    {
     "data": {
      "text/plain": [
       "LGBMRegressor(learning_rate=0.0955054451824824, log_max_bin=10,\n",
       "              min_child_samples=13, n_estimators=40, num_leaves=46,\n",
       "              reg_alpha=0.005626855491108521, reg_lambda=11.660799315054836)"
      ]
     },
     "execution_count": 22,
     "metadata": {},
     "output_type": "execute_result"
    }
   ],
   "source": [
    "lgbm.fit(train_x,train_y)"
   ]
  },
  {
   "cell_type": "code",
   "execution_count": 23,
   "id": "82318908",
   "metadata": {
    "execution": {
     "iopub.execute_input": "2022-01-28T08:21:11.175428Z",
     "iopub.status.busy": "2022-01-28T08:21:11.174572Z",
     "iopub.status.idle": "2022-01-28T08:21:11.205917Z",
     "shell.execute_reply": "2022-01-28T08:21:11.205422Z",
     "shell.execute_reply.started": "2022-01-28T08:18:06.414127Z"
    },
    "papermill": {
     "duration": 0.169609,
     "end_time": "2022-01-28T08:21:11.206058",
     "exception": false,
     "start_time": "2022-01-28T08:21:11.036449",
     "status": "completed"
    },
    "tags": []
   },
   "outputs": [],
   "source": [
    "lgbm_predict = lgbm.predict(test)"
   ]
  },
  {
   "cell_type": "markdown",
   "id": "0d2bffd9",
   "metadata": {
    "papermill": {
     "duration": 0.133729,
     "end_time": "2022-01-28T08:21:11.478627",
     "exception": false,
     "start_time": "2022-01-28T08:21:11.344898",
     "status": "completed"
    },
    "tags": []
   },
   "source": [
    "# 以下的三个模型的权重是，通过几次实验“感觉”出来的，出来submission文件的private score在0.55279"
   ]
  },
  {
   "cell_type": "code",
   "execution_count": 24,
   "id": "a8ca69bd",
   "metadata": {
    "execution": {
     "iopub.execute_input": "2022-01-28T08:21:11.749239Z",
     "iopub.status.busy": "2022-01-28T08:21:11.748377Z",
     "iopub.status.idle": "2022-01-28T08:21:11.765234Z",
     "shell.execute_reply": "2022-01-28T08:21:11.764754Z",
     "shell.execute_reply.started": "2022-01-28T08:18:06.450841Z"
    },
    "papermill": {
     "duration": 0.155682,
     "end_time": "2022-01-28T08:21:11.765355",
     "exception": false,
     "start_time": "2022-01-28T08:21:11.609673",
     "status": "completed"
    },
    "tags": []
   },
   "outputs": [],
   "source": [
    "submission['y']=0.2*stacking_predict+0.5*xgboost_predict+0.3*lgbm_predict\n",
    "submission.to_csv('stacking_submission.csv',index=False)"
   ]
  }
 ],
 "metadata": {
  "kernelspec": {
   "display_name": "Python 3",
   "language": "python",
   "name": "python3"
  },
  "language_info": {
   "codemirror_mode": {
    "name": "ipython",
    "version": 3
   },
   "file_extension": ".py",
   "mimetype": "text/x-python",
   "name": "python",
   "nbconvert_exporter": "python",
   "pygments_lexer": "ipython3",
   "version": "3.7.10"
  },
  "papermill": {
   "default_parameters": {},
   "duration": 59.012017,
   "end_time": "2022-01-28T08:21:13.209659",
   "environment_variables": {},
   "exception": null,
   "input_path": "__notebook__.ipynb",
   "output_path": "__notebook__.ipynb",
   "parameters": {},
   "start_time": "2022-01-28T08:20:14.197642",
   "version": "2.3.3"
  }
 },
 "nbformat": 4,
 "nbformat_minor": 5
}
